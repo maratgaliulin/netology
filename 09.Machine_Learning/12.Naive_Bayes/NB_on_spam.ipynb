{
  "nbformat": 4,
  "nbformat_minor": 0,
  "metadata": {
    "kernelspec": {
      "display_name": "Python 3",
      "language": "python",
      "name": "python3"
    },
    "language_info": {
      "codemirror_mode": {
        "name": "ipython",
        "version": 3
      },
      "file_extension": ".py",
      "mimetype": "text/x-python",
      "name": "python",
      "nbconvert_exporter": "python",
      "pygments_lexer": "ipython3",
      "version": "3.7.1"
    },
    "colab": {
      "provenance": [],
      "toc_visible": true
    }
  },
  "cells": [
    {
      "cell_type": "markdown",
      "source": [
        "## CountVectorizer\n",
        " "
      ],
      "metadata": {
        "id": "zHIf5kWz6tAD"
      }
    },
    {
      "cell_type": "markdown",
      "source": [
        "https://scikit-learn.ru/6-2-feature-extraction/"
      ],
      "metadata": {
        "id": "EJ2NDeAv67RB"
      }
    },
    {
      "cell_type": "markdown",
      "source": [
        "CountVectorizer реализует как токенизацию, так и подсчет вхождений в одном классе"
      ],
      "metadata": {
        "id": "tbE8O2WS6-Pa"
      }
    },
    {
      "cell_type": "code",
      "metadata": {
        "id": "Ey0D_qsS3BMF"
      },
      "source": [
        "from sklearn.feature_extraction.text import CountVectorizer\n",
        " \n",
        "corpus = [\n",
        "     'This is the first document.',\n",
        "     'This document is the second document.',\n",
        "     'And this is the third one.',\n",
        "     'Is this the first document?',]"
      ],
      "execution_count": null,
      "outputs": []
    },
    {
      "cell_type": "markdown",
      "source": [
        "Давайте использовать его для токенизации и подсчета вхождений слов в минималистичном корпусе текстовых документов.  \n",
        "Каждому члену, найденному анализатором во время подбора, присваивается уникальный целочисленный индекс, соответствующий столбцу в результирующей матрице.\n"
      ],
      "metadata": {
        "id": "9HTjfqc57PBA"
      }
    },
    {
      "cell_type": "code",
      "metadata": {
        "colab": {
          "base_uri": "https://localhost:8080/"
        },
        "id": "-rTtCEOdAR_i",
        "outputId": "eac78cf4-fd48-421f-8c29-fd20e82efe3e"
      },
      "source": [
        "vectorizer = CountVectorizer()\n",
        "X = vectorizer.fit_transform(corpus)\n",
        "print(vectorizer.get_feature_names())\n",
        "print(X.toarray())"
      ],
      "execution_count": null,
      "outputs": [
        {
          "output_type": "stream",
          "name": "stdout",
          "text": [
            "['and', 'document', 'first', 'is', 'one', 'second', 'the', 'third', 'this']\n",
            "[[0 1 1 1 0 0 1 0 1]\n",
            " [0 2 0 1 0 1 1 0 1]\n",
            " [1 0 0 1 1 0 1 1 1]\n",
            " [0 1 1 1 0 0 1 0 1]]\n"
          ]
        },
        {
          "output_type": "stream",
          "name": "stderr",
          "text": [
            "/usr/local/lib/python3.8/dist-packages/sklearn/utils/deprecation.py:87: FutureWarning: Function get_feature_names is deprecated; get_feature_names is deprecated in 1.0 and will be removed in 1.2. Please use get_feature_names_out instead.\n",
            "  warnings.warn(msg, category=FutureWarning)\n"
          ]
        }
      ]
    },
    {
      "cell_type": "markdown",
      "source": [
        "Конфигурация по умолчанию токенизирует строку, извлекая слова не менее чем из 2 букв. Конкретную функцию, выполняющую этот шаг, можно запросить явно:"
      ],
      "metadata": {
        "id": "xP00dxlx7vu4"
      }
    },
    {
      "cell_type": "code",
      "source": [
        "analyze = vectorizer.build_analyzer()\n",
        "analyze(\"This is a text document to analyze.\") == (\n",
        "     ['this', 'is', 'text', 'document', 'to', 'analyze'])"
      ],
      "metadata": {
        "id": "C1ameSV27vOT",
        "colab": {
          "base_uri": "https://localhost:8080/"
        },
        "outputId": "2bc251e8-57f9-4dee-dde8-43bc04f308a7"
      },
      "execution_count": null,
      "outputs": [
        {
          "output_type": "execute_result",
          "data": {
            "text/plain": [
              "True"
            ]
          },
          "metadata": {},
          "execution_count": 17
        }
      ]
    },
    {
      "cell_type": "markdown",
      "source": [
        "Обратите внимание, что в предыдущем корпусе первый и последний документы содержат одни и те же слова, поэтому они закодированы в равных векторах. В частности, мы теряем информацию о том, что последний документ является вопросительной формой. Чтобы сохранить некоторую локальную информацию о порядке, мы можем извлечь биграмма или триграммы слов в дополнение к 1 грамму (отдельные слова):"
      ],
      "metadata": {
        "id": "AIyE-foL8USJ"
      }
    },
    {
      "cell_type": "code",
      "metadata": {
        "colab": {
          "base_uri": "https://localhost:8080/"
        },
        "id": "VDU9-RjF2sFa",
        "outputId": "fdf12786-7f4e-4351-df11-3c52362e7190"
      },
      "source": [
        "vectorizer2 = CountVectorizer(analyzer='word', ngram_range=(1, 3))\n",
        "X2 = vectorizer2.fit_transform(corpus)\n",
        "print(vectorizer2.get_feature_names())\n",
        "print(X2.toarray())"
      ],
      "execution_count": null,
      "outputs": [
        {
          "output_type": "stream",
          "name": "stdout",
          "text": [
            "['and', 'and this', 'and this is', 'document', 'document is', 'document is the', 'first', 'first document', 'is', 'is the', 'is the first', 'is the second', 'is the third', 'is this', 'is this the', 'one', 'second', 'second document', 'the', 'the first', 'the first document', 'the second', 'the second document', 'the third', 'the third one', 'third', 'third one', 'this', 'this document', 'this document is', 'this is', 'this is the', 'this the', 'this the first']\n",
            "[[0 0 0 1 0 0 1 1 1 1 1 0 0 0 0 0 0 0 1 1 1 0 0 0 0 0 0 1 0 0 1 1 0 0]\n",
            " [0 0 0 2 1 1 0 0 1 1 0 1 0 0 0 0 1 1 1 0 0 1 1 0 0 0 0 1 1 1 0 0 0 0]\n",
            " [1 1 1 0 0 0 0 0 1 1 0 0 1 0 0 1 0 0 1 0 0 0 0 1 1 1 1 1 0 0 1 1 0 0]\n",
            " [0 0 0 1 0 0 1 1 1 0 0 0 0 1 1 0 0 0 1 1 1 0 0 0 0 0 0 1 0 0 0 0 1 1]]\n"
          ]
        }
      ]
    },
    {
      "cell_type": "markdown",
      "metadata": {
        "id": "HOHyRQICJcUy"
      },
      "source": [
        "## TFIDF"
      ]
    },
    {
      "cell_type": "markdown",
      "source": [
        "В большом текстовом корпусе некоторые слова будут присутствовать очень часто (например, «the», «a», «is» на английском языке), следовательно, несут очень мало значимой информации о фактическом содержании документа. Если бы мы передавали данные прямого подсчета непосредственно классификатору, эти очень частые термины затеняли бы частоты более редких, но более интересных терминов.\n",
        "\n",
        "Чтобы повторно взвесить функции счетчика в значения с плавающей запятой, подходящие для использования классификатором, очень часто используется преобразование tf – idf."
      ],
      "metadata": {
        "id": "tRL6ty139zzo"
      }
    },
    {
      "cell_type": "markdown",
      "source": [
        "Tf означает частоту термина, а tf – idf означает частоту термина, умноженную на обратную частоту документа:"
      ],
      "metadata": {
        "id": "oeQJKHa499Jg"
      }
    },
    {
      "cell_type": "code",
      "metadata": {
        "id": "C9fbd8sfA5GL"
      },
      "source": [
        "from sklearn.feature_extraction.text import TfidfVectorizer"
      ],
      "execution_count": null,
      "outputs": []
    },
    {
      "cell_type": "code",
      "metadata": {
        "colab": {
          "base_uri": "https://localhost:8080/"
        },
        "id": "0DFk3nxh2tNT",
        "outputId": "7a213e89-50a2-47af-d032-0cac0ee67143"
      },
      "source": [
        "vectorizer = TfidfVectorizer()\n",
        "X = vectorizer.fit_transform(corpus)\n",
        "print(vectorizer.get_feature_names())\n",
        "print(X)"
      ],
      "execution_count": null,
      "outputs": [
        {
          "output_type": "stream",
          "name": "stdout",
          "text": [
            "['and', 'document', 'first', 'is', 'one', 'second', 'the', 'third', 'this']\n",
            "  (0, 1)\t0.46979138557992045\n",
            "  (0, 2)\t0.5802858236844359\n",
            "  (0, 6)\t0.38408524091481483\n",
            "  (0, 3)\t0.38408524091481483\n",
            "  (0, 8)\t0.38408524091481483\n",
            "  (1, 5)\t0.5386476208856763\n",
            "  (1, 1)\t0.6876235979836938\n",
            "  (1, 6)\t0.281088674033753\n",
            "  (1, 3)\t0.281088674033753\n",
            "  (1, 8)\t0.281088674033753\n",
            "  (2, 4)\t0.511848512707169\n",
            "  (2, 7)\t0.511848512707169\n",
            "  (2, 0)\t0.511848512707169\n",
            "  (2, 6)\t0.267103787642168\n",
            "  (2, 3)\t0.267103787642168\n",
            "  (2, 8)\t0.267103787642168\n",
            "  (3, 1)\t0.46979138557992045\n",
            "  (3, 2)\t0.5802858236844359\n",
            "  (3, 6)\t0.38408524091481483\n",
            "  (3, 3)\t0.38408524091481483\n",
            "  (3, 8)\t0.38408524091481483\n"
          ]
        }
      ]
    },
    {
      "cell_type": "markdown",
      "metadata": {
        "id": "3wxvR84QJVRS"
      },
      "source": [
        "##word2vec"
      ]
    },
    {
      "cell_type": "markdown",
      "source": [
        "В реальных приложениях модели Word2Vec создаются с использованием миллиардов документов. Например, модель Google Word2Vec обучается с использованием 3 миллионов слов и фраз.\n"
      ],
      "metadata": {
        "id": "iinQyXVGHGo3"
      }
    },
    {
      "cell_type": "code",
      "source": [
        "import bs4 as bs \n",
        "import urllib.request \n",
        "import re \n",
        "import nltk \n",
        "scrapped_data = urllib.request.urlopen('https://en.wikipedia.org/wiki/Artificial_intelligence') \n",
        "article = scrapped_data .read() \n",
        "parsed_article = bs.BeautifulSoup(article,'lxml') \n",
        "paragraphs = parsed_article.find_all('p') \n",
        "article_text = \"\" \n",
        "for p in paragraphs: \n",
        "  article_text += p.text\n"
      ],
      "metadata": {
        "id": "7BrO8HTWFJd_"
      },
      "execution_count": null,
      "outputs": []
    },
    {
      "cell_type": "markdown",
      "source": [
        "Во-первых, нам нужно преобразовать нашу статью в предложения. Мы используем утилиту nltk.sent_tokenize для преобразования нашей статьи в предложения. Для преобразования предложений в слова мы используем утилиту nltk.word_tokenize. На последнем этапе предварительной обработки мы удаляем из текста все стоп-слова. После того, как скрипт завершит свое выполнение, объект all_words содержит список всех слов в статье. Мы будем использовать этот список для создания нашей модели Word2Vec с библиотекой Gensim."
      ],
      "metadata": {
        "id": "WuUJGd88Idkg"
      }
    },
    {
      "cell_type": "code",
      "source": [
        "nltk.download('punkt')\n",
        "nltk.download('stopwords')\n",
        "# Cleaing the text \n",
        "processed_article = article_text.lower() \n",
        "processed_article = re.sub('[^a-zA-Z]', ' ', processed_article ) \n",
        "processed_article = re.sub(r'\\s+', ' ', processed_article) \n",
        "# Preparing the dataset \n",
        "all_sentences = nltk.sent_tokenize(processed_article) \n",
        "all_words = [nltk.word_tokenize(sent) for sent in all_sentences] \n",
        "# Removing Stop Words \n",
        "from nltk.corpus import stopwords \n",
        "for i in range(len(all_words)): \n",
        "  all_words[i] = [w for w in all_words[i] \n",
        "                  if w not in stopwords.words('english')]"
      ],
      "metadata": {
        "colab": {
          "base_uri": "https://localhost:8080/"
        },
        "id": "Ou2MDL2XFvLH",
        "outputId": "eb92c8ae-528a-4e26-fb85-8ea0522a4f74"
      },
      "execution_count": null,
      "outputs": [
        {
          "output_type": "stream",
          "name": "stderr",
          "text": [
            "[nltk_data] Downloading package punkt to /root/nltk_data...\n",
            "[nltk_data]   Package punkt is already up-to-date!\n",
            "[nltk_data] Downloading package stopwords to /root/nltk_data...\n",
            "[nltk_data]   Package stopwords is already up-to-date!\n"
          ]
        }
      ]
    },
    {
      "cell_type": "markdown",
      "source": [
        "Значение 2 для min_count указывает на включение в модель Word2Vec только тех слов, которые встречаются в корпусе как минимум дважды."
      ],
      "metadata": {
        "id": "7y0lE_WYJJbm"
      }
    },
    {
      "cell_type": "code",
      "metadata": {
        "id": "wLqsb0yE2tW2",
        "colab": {
          "base_uri": "https://localhost:8080/"
        },
        "outputId": "45ab7984-25ef-49b5-a455-cc5460d3b3b9"
      },
      "source": [
        "from gensim.models import Word2Vec \n",
        "word2vec = Word2Vec(all_words, min_count=2)\n"
      ],
      "execution_count": null,
      "outputs": [
        {
          "output_type": "stream",
          "name": "stderr",
          "text": [
            "WARNING:gensim.models.base_any2vec:under 10 jobs per worker: consider setting a smaller `batch_words' for smoother alpha decay\n"
          ]
        }
      ]
    },
    {
      "cell_type": "code",
      "metadata": {
        "id": "J7js7jyg2tZr",
        "colab": {
          "base_uri": "https://localhost:8080/"
        },
        "outputId": "1937f3c8-e601-46a6-a19b-bf6afb579c39"
      },
      "source": [
        "vocabulary = word2vec.wv.vocab \n",
        "print(vocabulary)\n"
      ],
      "execution_count": null,
      "outputs": [
        {
          "output_type": "stream",
          "name": "stdout",
          "text": [
            "{'learn': <gensim.models.keyedvectors.Vocab object at 0x7f7250008fd0>, 'artificial': <gensim.models.keyedvectors.Vocab object at 0x7f7250008fa0>, 'intelligence': <gensim.models.keyedvectors.Vocab object at 0x7f7250008e20>, 'ai': <gensim.models.keyedvectors.Vocab object at 0x7f7250008dc0>, 'inferring': <gensim.models.keyedvectors.Vocab object at 0x7f7250008c40>, 'information': <gensim.models.keyedvectors.Vocab object at 0x7f7250008f70>, 'demonstrated': <gensim.models.keyedvectors.Vocab object at 0x7f7250008eb0>, 'machines': <gensim.models.keyedvectors.Vocab object at 0x7f7250008e80>, 'displayed': <gensim.models.keyedvectors.Vocab object at 0x7f7250008f40>, 'non': <gensim.models.keyedvectors.Vocab object at 0x7f71bd8aca90>, 'human': <gensim.models.keyedvectors.Vocab object at 0x7f71bd8acfa0>, 'humans': <gensim.models.keyedvectors.Vocab object at 0x7f71bd8acdf0>, 'example': <gensim.models.keyedvectors.Vocab object at 0x7f71bd8acd30>, 'tasks': <gensim.models.keyedvectors.Vocab object at 0x7f71bd8accd0>, 'include': <gensim.models.keyedvectors.Vocab object at 0x7f71bd8acf40>, 'speech': <gensim.models.keyedvectors.Vocab object at 0x7f71bd8acd60>, 'recognition': <gensim.models.keyedvectors.Vocab object at 0x7f71bd8acaf0>, 'computer': <gensim.models.keyedvectors.Vocab object at 0x7f71bd8ac580>, 'vision': <gensim.models.keyedvectors.Vocab object at 0x7f72500a6df0>, 'translation': <gensim.models.keyedvectors.Vocab object at 0x7f72500a6c40>, 'natural': <gensim.models.keyedvectors.Vocab object at 0x7f72500a6670>, 'languages': <gensim.models.keyedvectors.Vocab object at 0x7f72500a6c10>, 'well': <gensim.models.keyedvectors.Vocab object at 0x7f72500a61f0>, 'inputs': <gensim.models.keyedvectors.Vocab object at 0x7f72500a6400>, 'applications': <gensim.models.keyedvectors.Vocab object at 0x7f72500a62b0>, 'advanced': <gensim.models.keyedvectors.Vocab object at 0x7f72500a6310>, 'web': <gensim.models.keyedvectors.Vocab object at 0x7f72500a6370>, 'search': <gensim.models.keyedvectors.Vocab object at 0x7f72529635e0>, 'engines': <gensim.models.keyedvectors.Vocab object at 0x7f725296fb80>, 'e': <gensim.models.keyedvectors.Vocab object at 0x7f71bd02c9d0>, 'g': <gensim.models.keyedvectors.Vocab object at 0x7f71bd02c250>, 'google': <gensim.models.keyedvectors.Vocab object at 0x7f71bd02c640>, 'recommendation': <gensim.models.keyedvectors.Vocab object at 0x7f71bd02c760>, 'systems': <gensim.models.keyedvectors.Vocab object at 0x7f71bd02c610>, 'used': <gensim.models.keyedvectors.Vocab object at 0x7f71bd02c940>, 'youtube': <gensim.models.keyedvectors.Vocab object at 0x7f71bd02c910>, 'amazon': <gensim.models.keyedvectors.Vocab object at 0x7f71bd02c850>, 'netflix': <gensim.models.keyedvectors.Vocab object at 0x7f71bd02c880>, 'understanding': <gensim.models.keyedvectors.Vocab object at 0x7f71bd02c730>, 'siri': <gensim.models.keyedvectors.Vocab object at 0x7f71bd02c4f0>, 'alexa': <gensim.models.keyedvectors.Vocab object at 0x7f71bd02c5e0>, 'self': <gensim.models.keyedvectors.Vocab object at 0x7f71bd02c520>, 'driving': <gensim.models.keyedvectors.Vocab object at 0x7f71bd02c400>, 'cars': <gensim.models.keyedvectors.Vocab object at 0x7f71bd02c460>, 'decision': <gensim.models.keyedvectors.Vocab object at 0x7f71bd02c3a0>, 'making': <gensim.models.keyedvectors.Vocab object at 0x7f71bd02ca00>, 'competing': <gensim.models.keyedvectors.Vocab object at 0x7f71bd02ca30>, 'level': <gensim.models.keyedvectors.Vocab object at 0x7f71bd02c7f0>, 'game': <gensim.models.keyedvectors.Vocab object at 0x7f71bd02cac0>, 'chess': <gensim.models.keyedvectors.Vocab object at 0x7f71bd02ceb0>, 'go': <gensim.models.keyedvectors.Vocab object at 0x7f71bd02ce20>, 'become': <gensim.models.keyedvectors.Vocab object at 0x7f71bd02cd30>, 'capable': <gensim.models.keyedvectors.Vocab object at 0x7f71bd02cfd0>, 'considered': <gensim.models.keyedvectors.Vocab object at 0x7f71bd02cf70>, 'require': <gensim.models.keyedvectors.Vocab object at 0x7f71bd02cf40>, 'often': <gensim.models.keyedvectors.Vocab object at 0x7f71bd02cee0>, 'definition': <gensim.models.keyedvectors.Vocab object at 0x7f723caa5940>, 'phenomenon': <gensim.models.keyedvectors.Vocab object at 0x7f72500b6550>, 'known': <gensim.models.keyedvectors.Vocab object at 0x7f72500b6070>, 'effect': <gensim.models.keyedvectors.Vocab object at 0x7f72500b60d0>, 'frequently': <gensim.models.keyedvectors.Vocab object at 0x7f72500b6130>, 'things': <gensim.models.keyedvectors.Vocab object at 0x7f72500b6190>, 'technology': <gensim.models.keyedvectors.Vocab object at 0x7f72500b61f0>, 'founded': <gensim.models.keyedvectors.Vocab object at 0x7f72500b6250>, 'academic': <gensim.models.keyedvectors.Vocab object at 0x7f72500b62b0>, 'years': <gensim.models.keyedvectors.Vocab object at 0x7f72500b6310>, 'since': <gensim.models.keyedvectors.Vocab object at 0x7f72500b6370>, 'experienced': <gensim.models.keyedvectors.Vocab object at 0x7f72500b63d0>, 'several': <gensim.models.keyedvectors.Vocab object at 0x7f72500b6430>, 'waves': <gensim.models.keyedvectors.Vocab object at 0x7f72500b6490>, 'followed': <gensim.models.keyedvectors.Vocab object at 0x7f72500b64f0>, 'funding': <gensim.models.keyedvectors.Vocab object at 0x7f725007fd30>, 'winter': <gensim.models.keyedvectors.Vocab object at 0x7f725007fb50>, 'new': <gensim.models.keyedvectors.Vocab object at 0x7f725007fb80>, 'approaches': <gensim.models.keyedvectors.Vocab object at 0x7f725007fbe0>, 'success': <gensim.models.keyedvectors.Vocab object at 0x7f725007fc40>, 'research': <gensim.models.keyedvectors.Vocab object at 0x7f725007fca0>, 'many': <gensim.models.keyedvectors.Vocab object at 0x7f725007fd60>, 'different': <gensim.models.keyedvectors.Vocab object at 0x7f725007fdc0>, 'including': <gensim.models.keyedvectors.Vocab object at 0x7f725007fe20>, 'simulating': <gensim.models.keyedvectors.Vocab object at 0x7f725007fe80>, 'brain': <gensim.models.keyedvectors.Vocab object at 0x7f725007fee0>, 'problem': <gensim.models.keyedvectors.Vocab object at 0x7f725007ff40>, 'solving': <gensim.models.keyedvectors.Vocab object at 0x7f725007ffa0>, 'formal': <gensim.models.keyedvectors.Vocab object at 0x7f71bcfb2040>, 'logic': <gensim.models.keyedvectors.Vocab object at 0x7f71bcfb20a0>, 'large': <gensim.models.keyedvectors.Vocab object at 0x7f71bcfb2100>, 'databases': <gensim.models.keyedvectors.Vocab object at 0x7f71bcfb2160>, 'knowledge': <gensim.models.keyedvectors.Vocab object at 0x7f71bcfb21c0>, 'animal': <gensim.models.keyedvectors.Vocab object at 0x7f71bcfb2220>, 'behavior': <gensim.models.keyedvectors.Vocab object at 0x7f71bcfb2280>, 'first': <gensim.models.keyedvectors.Vocab object at 0x7f71bcfb22e0>, 'decades': <gensim.models.keyedvectors.Vocab object at 0x7f71bcfb2340>, 'st': <gensim.models.keyedvectors.Vocab object at 0x7f71bcfb23a0>, 'century': <gensim.models.keyedvectors.Vocab object at 0x7f71bcfb2400>, 'highly': <gensim.models.keyedvectors.Vocab object at 0x7f71bcfb2460>, 'mathematical': <gensim.models.keyedvectors.Vocab object at 0x7f71bcfb24c0>, 'statistical': <gensim.models.keyedvectors.Vocab object at 0x7f71bcfb2520>, 'machine': <gensim.models.keyedvectors.Vocab object at 0x7f71bcfb2580>, 'learning': <gensim.models.keyedvectors.Vocab object at 0x7f71bcfb25e0>, 'dominated': <gensim.models.keyedvectors.Vocab object at 0x7f71bcfb2640>, 'field': <gensim.models.keyedvectors.Vocab object at 0x7f71bcfb26a0>, 'technique': <gensim.models.keyedvectors.Vocab object at 0x7f71bcfb2700>, 'proved': <gensim.models.keyedvectors.Vocab object at 0x7f71bcfb2760>, 'successful': <gensim.models.keyedvectors.Vocab object at 0x7f71bcfb27c0>, 'helping': <gensim.models.keyedvectors.Vocab object at 0x7f71bcfb2820>, 'solve': <gensim.models.keyedvectors.Vocab object at 0x7f71bcfb2880>, 'problems': <gensim.models.keyedvectors.Vocab object at 0x7f71bcfb28e0>, 'industry': <gensim.models.keyedvectors.Vocab object at 0x7f71bcfb2940>, 'various': <gensim.models.keyedvectors.Vocab object at 0x7f71bcfb29a0>, 'sub': <gensim.models.keyedvectors.Vocab object at 0x7f71bcfb2a00>, 'fields': <gensim.models.keyedvectors.Vocab object at 0x7f71bcfb2a60>, 'around': <gensim.models.keyedvectors.Vocab object at 0x7f71bcfb2ac0>, 'particular': <gensim.models.keyedvectors.Vocab object at 0x7f71bcfb2b20>, 'goals': <gensim.models.keyedvectors.Vocab object at 0x7f71bcfb2b80>, 'use': <gensim.models.keyedvectors.Vocab object at 0x7f71bcfb2be0>, 'tools': <gensim.models.keyedvectors.Vocab object at 0x7f71bcfb2c40>, 'reasoning': <gensim.models.keyedvectors.Vocab object at 0x7f71bcfb2ca0>, 'representation': <gensim.models.keyedvectors.Vocab object at 0x7f71bcfb2d00>, 'planning': <gensim.models.keyedvectors.Vocab object at 0x7f71bcfb2d60>, 'language': <gensim.models.keyedvectors.Vocab object at 0x7f71bcfb2dc0>, 'processing': <gensim.models.keyedvectors.Vocab object at 0x7f71bcfb2e20>, 'perception': <gensim.models.keyedvectors.Vocab object at 0x7f71bcfb2e80>, 'ability': <gensim.models.keyedvectors.Vocab object at 0x7f71bcfb2ee0>, 'move': <gensim.models.keyedvectors.Vocab object at 0x7f71bcfb2f40>, 'objects': <gensim.models.keyedvectors.Vocab object at 0x7f71bcfb2fa0>, 'general': <gensim.models.keyedvectors.Vocab object at 0x7f71bcfb3040>, 'among': <gensim.models.keyedvectors.Vocab object at 0x7f71bcfb30a0>, 'long': <gensim.models.keyedvectors.Vocab object at 0x7f71bcfb3100>, 'term': <gensim.models.keyedvectors.Vocab object at 0x7f71bcfb3160>, 'researchers': <gensim.models.keyedvectors.Vocab object at 0x7f71bcfb31c0>, 'wide': <gensim.models.keyedvectors.Vocab object at 0x7f71bcfb3220>, 'range': <gensim.models.keyedvectors.Vocab object at 0x7f71bcfb3280>, 'techniques': <gensim.models.keyedvectors.Vocab object at 0x7f71bcfb32e0>, 'optimization': <gensim.models.keyedvectors.Vocab object at 0x7f71bcfb3340>, 'neural': <gensim.models.keyedvectors.Vocab object at 0x7f71bcfb33a0>, 'networks': <gensim.models.keyedvectors.Vocab object at 0x7f71bcfb3400>, 'methods': <gensim.models.keyedvectors.Vocab object at 0x7f71bcfb3460>, 'based': <gensim.models.keyedvectors.Vocab object at 0x7f71bcfb34c0>, 'statistics': <gensim.models.keyedvectors.Vocab object at 0x7f71bcfb3520>, 'probability': <gensim.models.keyedvectors.Vocab object at 0x7f71bcfb3580>, 'economics': <gensim.models.keyedvectors.Vocab object at 0x7f71bcfb35e0>, 'also': <gensim.models.keyedvectors.Vocab object at 0x7f71bcfb3640>, 'upon': <gensim.models.keyedvectors.Vocab object at 0x7f71bcfb36a0>, 'science': <gensim.models.keyedvectors.Vocab object at 0x7f71bcfb3700>, 'philosophy': <gensim.models.keyedvectors.Vocab object at 0x7f71bcfb3760>, 'assumption': <gensim.models.keyedvectors.Vocab object at 0x7f71bcfb37c0>, 'precisely': <gensim.models.keyedvectors.Vocab object at 0x7f71bcfb3820>, 'described': <gensim.models.keyedvectors.Vocab object at 0x7f71bcfb3880>, 'made': <gensim.models.keyedvectors.Vocab object at 0x7f71bcfb38e0>, 'simulate': <gensim.models.keyedvectors.Vocab object at 0x7f71bcfb3940>, 'raised': <gensim.models.keyedvectors.Vocab object at 0x7f71bcfb39a0>, 'philosophical': <gensim.models.keyedvectors.Vocab object at 0x7f71bcfb3a00>, 'arguments': <gensim.models.keyedvectors.Vocab object at 0x7f71bcfb3a60>, 'mind': <gensim.models.keyedvectors.Vocab object at 0x7f71bcfb3ac0>, 'ethical': <gensim.models.keyedvectors.Vocab object at 0x7f71bcfb3b20>, 'creating': <gensim.models.keyedvectors.Vocab object at 0x7f71bcfb3b80>, 'beings': <gensim.models.keyedvectors.Vocab object at 0x7f71bcfb3be0>, 'like': <gensim.models.keyedvectors.Vocab object at 0x7f71bcfb3c40>, 'issues': <gensim.models.keyedvectors.Vocab object at 0x7f71bcfb3ca0>, 'explored': <gensim.models.keyedvectors.Vocab object at 0x7f71bcfb3d00>, 'fiction': <gensim.models.keyedvectors.Vocab object at 0x7f71bcfb3d60>, 'antiquity': <gensim.models.keyedvectors.Vocab object at 0x7f71bcfb3dc0>, 'scientists': <gensim.models.keyedvectors.Vocab object at 0x7f71bcfb3e20>, 'philosophers': <gensim.models.keyedvectors.Vocab object at 0x7f71bcfb3e80>, 'suggested': <gensim.models.keyedvectors.Vocab object at 0x7f71bcfb3ee0>, 'may': <gensim.models.keyedvectors.Vocab object at 0x7f71bcfb3f40>, 'existential': <gensim.models.keyedvectors.Vocab object at 0x7f71bcfb3fa0>, 'risk': <gensim.models.keyedvectors.Vocab object at 0x7f71bcfb4040>, 'humanity': <gensim.models.keyedvectors.Vocab object at 0x7f71bcfb40a0>, 'beneficial': <gensim.models.keyedvectors.Vocab object at 0x7f71bcfb4100>, 'c': <gensim.models.keyedvectors.Vocab object at 0x7f71bcfb4160>, 'appeared': <gensim.models.keyedvectors.Vocab object at 0x7f71bcfb41c0>, 'storytelling': <gensim.models.keyedvectors.Vocab object at 0x7f71bcfb4220>, 'devices': <gensim.models.keyedvectors.Vocab object at 0x7f71bcfb4280>, 'common': <gensim.models.keyedvectors.Vocab object at 0x7f71bcfb42e0>, 'mary': <gensim.models.keyedvectors.Vocab object at 0x7f71bcfb4340>, 'shelley': <gensim.models.keyedvectors.Vocab object at 0x7f71bcfb43a0>, 'frankenstein': <gensim.models.keyedvectors.Vocab object at 0x7f71bcfb4400>, 'karel': <gensim.models.keyedvectors.Vocab object at 0x7f71bcfb4460>, 'apek': <gensim.models.keyedvectors.Vocab object at 0x7f71bcfb44c0>, 'r': <gensim.models.keyedvectors.Vocab object at 0x7f71bcfb4520>, 'u': <gensim.models.keyedvectors.Vocab object at 0x7f71bcfb4580>, 'discussed': <gensim.models.keyedvectors.Vocab object at 0x7f71bcfb45e0>, 'ethics': <gensim.models.keyedvectors.Vocab object at 0x7f71bcfb4640>, 'study': <gensim.models.keyedvectors.Vocab object at 0x7f71bcfb46a0>, 'began': <gensim.models.keyedvectors.Vocab object at 0x7f71bcfb4700>, 'led': <gensim.models.keyedvectors.Vocab object at 0x7f71bcfb4760>, 'directly': <gensim.models.keyedvectors.Vocab object at 0x7f71bcfb47c0>, 'alan': <gensim.models.keyedvectors.Vocab object at 0x7f71bcfb4820>, 'turing': <gensim.models.keyedvectors.Vocab object at 0x7f71bcfb4880>, 'theory': <gensim.models.keyedvectors.Vocab object at 0x7f71bcfb48e0>, 'computation': <gensim.models.keyedvectors.Vocab object at 0x7f71bcfb4940>, 'simple': <gensim.models.keyedvectors.Vocab object at 0x7f71bcfb49a0>, 'could': <gensim.models.keyedvectors.Vocab object at 0x7f71bcfb4a00>, 'act': <gensim.models.keyedvectors.Vocab object at 0x7f71bcfb4a60>, 'deduction': <gensim.models.keyedvectors.Vocab object at 0x7f71bcfb4ac0>, 'digital': <gensim.models.keyedvectors.Vocab object at 0x7f71bcfb4b20>, 'computers': <gensim.models.keyedvectors.Vocab object at 0x7f71bcfb4b80>, 'process': <gensim.models.keyedvectors.Vocab object at 0x7f71bcfb4be0>, 'cybernetics': <gensim.models.keyedvectors.Vocab object at 0x7f71bcfb4c40>, 'consider': <gensim.models.keyedvectors.Vocab object at 0x7f71bcfb4ca0>, 'work': <gensim.models.keyedvectors.Vocab object at 0x7f71bcfb4d00>, 'generally': <gensim.models.keyedvectors.Vocab object at 0x7f71bcfb4d60>, 'design': <gensim.models.keyedvectors.Vocab object at 0x7f71bcfb4dc0>, 'neurons': <gensim.models.keyedvectors.Vocab object at 0x7f71bcfb4e20>, 'two': <gensim.models.keyedvectors.Vocab object at 0x7f71bcfb4e80>, 'achieve': <gensim.models.keyedvectors.Vocab object at 0x7f71bcfb4ee0>, 'emerged': <gensim.models.keyedvectors.Vocab object at 0x7f71bcfb4f40>, 'one': <gensim.models.keyedvectors.Vocab object at 0x7f71bcfb4fa0>, 'symbolic': <gensim.models.keyedvectors.Vocab object at 0x7f71bcfb5040>, 'gofai': <gensim.models.keyedvectors.Vocab object at 0x7f71bcfb50a0>, 'create': <gensim.models.keyedvectors.Vocab object at 0x7f71bcfb5100>, 'world': <gensim.models.keyedvectors.Vocab object at 0x7f71bcfb5160>, 'reason': <gensim.models.keyedvectors.Vocab object at 0x7f71bcfb51c0>, 'proponents': <gensim.models.keyedvectors.Vocab object at 0x7f71bcfb5220>, 'included': <gensim.models.keyedvectors.Vocab object at 0x7f71bcfb5280>, 'newell': <gensim.models.keyedvectors.Vocab object at 0x7f71bcfb52e0>, 'herbert': <gensim.models.keyedvectors.Vocab object at 0x7f71bcfb5340>, 'simon': <gensim.models.keyedvectors.Vocab object at 0x7f71bcfb53a0>, 'marvin': <gensim.models.keyedvectors.Vocab object at 0x7f71bcfb5400>, 'minsky': <gensim.models.keyedvectors.Vocab object at 0x7f71bcfb5460>, 'approach': <gensim.models.keyedvectors.Vocab object at 0x7f71bcfb54c0>, 'space': <gensim.models.keyedvectors.Vocab object at 0x7f71bcfb5520>, 'second': <gensim.models.keyedvectors.Vocab object at 0x7f71bcfb5580>, 'connectionist': <gensim.models.keyedvectors.Vocab object at 0x7f71bcfb55e0>, 'sought': <gensim.models.keyedvectors.Vocab object at 0x7f71bcfb5640>, 'ways': <gensim.models.keyedvectors.Vocab object at 0x7f71bcfb56a0>, 'inspired': <gensim.models.keyedvectors.Vocab object at 0x7f71bcfb5700>, 'connections': <gensim.models.keyedvectors.Vocab object at 0x7f71bcfb5760>, 'james': <gensim.models.keyedvectors.Vocab object at 0x7f71bcfb57c0>, 'manyika': <gensim.models.keyedvectors.Vocab object at 0x7f71bcfb5820>, 'others': <gensim.models.keyedvectors.Vocab object at 0x7f71bcfb5880>, 'argues': <gensim.models.keyedvectors.Vocab object at 0x7f71bcfb58e0>, 'period': <gensim.models.keyedvectors.Vocab object at 0x7f71bcfb5940>, 'due': <gensim.models.keyedvectors.Vocab object at 0x7f71bcfb59a0>, 'part': <gensim.models.keyedvectors.Vocab object at 0x7f71bcfb5a00>, 'intellectual': <gensim.models.keyedvectors.Vocab object at 0x7f71bcfb5a60>, 'russell': <gensim.models.keyedvectors.Vocab object at 0x7f71bcfb5ac0>, 'gained': <gensim.models.keyedvectors.Vocab object at 0x7f71bcfb5b20>, 'prominence': <gensim.models.keyedvectors.Vocab object at 0x7f71bcfb5b80>, 'became': <gensim.models.keyedvectors.Vocab object at 0x7f71bcfb5be0>, 'produced': <gensim.models.keyedvectors.Vocab object at 0x7f71bcfb5c40>, 'programs': <gensim.models.keyedvectors.Vocab object at 0x7f71bcfb5ca0>, 'strategies': <gensim.models.keyedvectors.Vocab object at 0x7f71bcfb5d00>, 'word': <gensim.models.keyedvectors.Vocab object at 0x7f71bcfb5d60>, 'algebra': <gensim.models.keyedvectors.Vocab object at 0x7f71bcfb5dc0>, 'logical': <gensim.models.keyedvectors.Vocab object at 0x7f71bcfb5e20>, 'theorems': <gensim.models.keyedvectors.Vocab object at 0x7f71bcfb5e80>, 'middle': <gensim.models.keyedvectors.Vocab object at 0x7f71bcfb5ee0>, 'funded': <gensim.models.keyedvectors.Vocab object at 0x7f71bcfb5f40>, 'established': <gensim.models.keyedvectors.Vocab object at 0x7f71bcfb5fa0>, 'would': <gensim.models.keyedvectors.Vocab object at 0x7f71bcfb6040>, 'eventually': <gensim.models.keyedvectors.Vocab object at 0x7f71bcfb60a0>, 'goal': <gensim.models.keyedvectors.Vocab object at 0x7f71bcfb6100>, 'predicted': <gensim.models.keyedvectors.Vocab object at 0x7f71bcfb6160>, 'within': <gensim.models.keyedvectors.Vocab object at 0x7f71bcfb61c0>, 'twenty': <gensim.models.keyedvectors.Vocab object at 0x7f71bcfb6220>, 'agreed': <gensim.models.keyedvectors.Vocab object at 0x7f71bcfb6280>, 'writing': <gensim.models.keyedvectors.Vocab object at 0x7f71bcfb62e0>, 'generation': <gensim.models.keyedvectors.Vocab object at 0x7f71bcfb6340>, 'substantially': <gensim.models.keyedvectors.Vocab object at 0x7f71bcfb63a0>, 'failed': <gensim.models.keyedvectors.Vocab object at 0x7f71bcfb6400>, 'recognize': <gensim.models.keyedvectors.Vocab object at 0x7f71bcfb6460>, 'difficulty': <gensim.models.keyedvectors.Vocab object at 0x7f71bcfb64c0>, 'remaining': <gensim.models.keyedvectors.Vocab object at 0x7f71bcfb6520>, 'us': <gensim.models.keyedvectors.Vocab object at 0x7f71bcfb6580>, 'projects': <gensim.models.keyedvectors.Vocab object at 0x7f71bcfb65e0>, 'british': <gensim.models.keyedvectors.Vocab object at 0x7f71bcfb6640>, 'governments': <gensim.models.keyedvectors.Vocab object at 0x7f71bcfb66a0>, 'next': <gensim.models.keyedvectors.Vocab object at 0x7f71bcfb6700>, 'later': <gensim.models.keyedvectors.Vocab object at 0x7f71bcfb6760>, 'called': <gensim.models.keyedvectors.Vocab object at 0x7f71bcfb67c0>, 'difficult': <gensim.models.keyedvectors.Vocab object at 0x7f71bcfb6820>, 'early': <gensim.models.keyedvectors.Vocab object at 0x7f71bcfb6880>, 'revived': <gensim.models.keyedvectors.Vocab object at 0x7f71bcfb68e0>, 'commercial': <gensim.models.keyedvectors.Vocab object at 0x7f71bcfb6940>, 'form': <gensim.models.keyedvectors.Vocab object at 0x7f71bcfb69a0>, 'program': <gensim.models.keyedvectors.Vocab object at 0x7f71bcfb6a00>, 'simulated': <gensim.models.keyedvectors.Vocab object at 0x7f71bcfb6a60>, 'experts': <gensim.models.keyedvectors.Vocab object at 0x7f71bcfb6ac0>, 'market': <gensim.models.keyedvectors.Vocab object at 0x7f71bcfb6b20>, 'billion': <gensim.models.keyedvectors.Vocab object at 0x7f71bcfb6b80>, 'time': <gensim.models.keyedvectors.Vocab object at 0x7f71bcfb6be0>, 'japan': <gensim.models.keyedvectors.Vocab object at 0x7f71bcfb6c40>, 'fifth': <gensim.models.keyedvectors.Vocab object at 0x7f71bcfb6ca0>, 'however': <gensim.models.keyedvectors.Vocab object at 0x7f71bcfb6d00>, 'beginning': <gensim.models.keyedvectors.Vocab object at 0x7f71bcfb6d60>, 'lisp': <gensim.models.keyedvectors.Vocab object at 0x7f71bcfb6dc0>, 'longer': <gensim.models.keyedvectors.Vocab object at 0x7f71bcfb6e20>, 'able': <gensim.models.keyedvectors.Vocab object at 0x7f71bcfb6e80>, 'processes': <gensim.models.keyedvectors.Vocab object at 0x7f71bcfb6ee0>, 'especially': <gensim.models.keyedvectors.Vocab object at 0x7f71bcfb6f40>, 'robotics': <gensim.models.keyedvectors.Vocab object at 0x7f71bcfb6fa0>, 'pattern': <gensim.models.keyedvectors.Vocab object at 0x7f71bcfb7040>, 'number': <gensim.models.keyedvectors.Vocab object at 0x7f71bcfb70a0>, 'specific': <gensim.models.keyedvectors.Vocab object at 0x7f71bcfb7100>, 'rodney': <gensim.models.keyedvectors.Vocab object at 0x7f71bcfb7160>, 'brooks': <gensim.models.keyedvectors.Vocab object at 0x7f71bcfb71c0>, 'engineering': <gensim.models.keyedvectors.Vocab object at 0x7f71bcfb7220>, 'allow': <gensim.models.keyedvectors.Vocab object at 0x7f71bcfb7280>, 'robots': <gensim.models.keyedvectors.Vocab object at 0x7f71bcfb72e0>, 'survive': <gensim.models.keyedvectors.Vocab object at 0x7f71bcfb7340>, 'interest': <gensim.models.keyedvectors.Vocab object at 0x7f71bcfb73a0>, 'david': <gensim.models.keyedvectors.Vocab object at 0x7f71bcfb7400>, 'soft': <gensim.models.keyedvectors.Vocab object at 0x7f71bcfb7460>, 'computing': <gensim.models.keyedvectors.Vocab object at 0x7f71bcfb74c0>, 'developed': <gensim.models.keyedvectors.Vocab object at 0x7f71bcfb7520>, 'fuzzy': <gensim.models.keyedvectors.Vocab object at 0x7f71bcfb7580>, 'system': <gensim.models.keyedvectors.Vocab object at 0x7f71bcfb75e0>, 'evolutionary': <gensim.models.keyedvectors.Vocab object at 0x7f71bcfb7640>, 'late': <gensim.models.keyedvectors.Vocab object at 0x7f71bcfb76a0>, 'finding': <gensim.models.keyedvectors.Vocab object at 0x7f71bcfb7700>, 'solutions': <gensim.models.keyedvectors.Vocab object at 0x7f71bcfb7760>, 'narrow': <gensim.models.keyedvectors.Vocab object at 0x7f71bcfb77c0>, 'produce': <gensim.models.keyedvectors.Vocab object at 0x7f71bcfb7820>, 'verifiable': <gensim.models.keyedvectors.Vocab object at 0x7f71bcfb7880>, 'mathematics': <gensim.models.keyedvectors.Vocab object at 0x7f71bcfb78e0>, 'widely': <gensim.models.keyedvectors.Vocab object at 0x7f71bcfb7940>, 'although': <gensim.models.keyedvectors.Vocab object at 0x7f71bcfb79a0>, 'rarely': <gensim.models.keyedvectors.Vocab object at 0x7f71bcfb7a00>, 'algorithmic': <gensim.models.keyedvectors.Vocab object at 0x7f71bcfb7a60>, 'access': <gensim.models.keyedvectors.Vocab object at 0x7f71bcfb7ac0>, 'data': <gensim.models.keyedvectors.Vocab object at 0x7f71bcfb7b20>, 'hungry': <gensim.models.keyedvectors.Vocab object at 0x7f71bcfb7b80>, 'deep': <gensim.models.keyedvectors.Vocab object at 0x7f71bcfb7be0>, 'started': <gensim.models.keyedvectors.Vocab object at 0x7f71bcfb7c40>, 'accuracy': <gensim.models.keyedvectors.Vocab object at 0x7f71bcfb7ca0>, 'benchmarks': <gensim.models.keyedvectors.Vocab object at 0x7f71bcfb7d00>, 'according': <gensim.models.keyedvectors.Vocab object at 0x7f71bcfb7d60>, 'software': <gensim.models.keyedvectors.Vocab object at 0x7f71bcfb7dc0>, 'increased': <gensim.models.keyedvectors.Vocab object at 0x7f71bcfb7e20>, 'increase': <gensim.models.keyedvectors.Vocab object at 0x7f71bcfb7e80>, 'survey': <gensim.models.keyedvectors.Vocab object at 0x7f71bcfb7ee0>, 'companies': <gensim.models.keyedvectors.Vocab object at 0x7f71bcfb7f40>, 'reported': <gensim.models.keyedvectors.Vocab object at 0x7f71bcfb7fa0>, 'incorporated': <gensim.models.keyedvectors.Vocab object at 0x7f71bcfb8040>, 'total': <gensim.models.keyedvectors.Vocab object at 0x7f71bcfb80a0>, 'numerous': <gensim.models.keyedvectors.Vocab object at 0x7f71bcfb8100>, 'concerned': <gensim.models.keyedvectors.Vocab object at 0x7f71bcfb8160>, 'fully': <gensim.models.keyedvectors.Vocab object at 0x7f71bcfb81c0>, 'intelligent': <gensim.models.keyedvectors.Vocab object at 0x7f71bcfb8220>, 'much': <gensim.models.keyedvectors.Vocab object at 0x7f71bcfb8280>, 'current': <gensim.models.keyedvectors.Vocab object at 0x7f71bcfb82e0>, 'involves': <gensim.models.keyedvectors.Vocab object at 0x7f71bcfb8340>, 'even': <gensim.models.keyedvectors.Vocab object at 0x7f71bcfb83a0>, 'concern': <gensim.models.keyedvectors.Vocab object at 0x7f71bcfb8400>, 'agi': <gensim.models.keyedvectors.Vocab object at 0x7f71bcfb8460>, 'institutions': <gensim.models.keyedvectors.Vocab object at 0x7f71bcfb84c0>, 'traits': <gensim.models.keyedvectors.Vocab object at 0x7f71bcfb8520>, 'capabilities': <gensim.models.keyedvectors.Vocab object at 0x7f71bcfb8580>, 'expect': <gensim.models.keyedvectors.Vocab object at 0x7f71bcfb85e0>, 'received': <gensim.models.keyedvectors.Vocab object at 0x7f71bcfb8640>, 'algorithms': <gensim.models.keyedvectors.Vocab object at 0x7f71bcfb86a0>, 'step': <gensim.models.keyedvectors.Vocab object at 0x7f71bcfb8700>, 'puzzles': <gensim.models.keyedvectors.Vocab object at 0x7f71bcfb8760>, 'make': <gensim.models.keyedvectors.Vocab object at 0x7f71bcfb87c0>, 'deductions': <gensim.models.keyedvectors.Vocab object at 0x7f71bcfb8820>, 'uncertain': <gensim.models.keyedvectors.Vocab object at 0x7f71bcfb8880>, 'incomplete': <gensim.models.keyedvectors.Vocab object at 0x7f71bcfb88e0>, 'concepts': <gensim.models.keyedvectors.Vocab object at 0x7f71bcfb8940>, 'explosion': <gensim.models.keyedvectors.Vocab object at 0x7f71bcfb89a0>, 'exponentially': <gensim.models.keyedvectors.Vocab object at 0x7f71bcfb8a00>, 'model': <gensim.models.keyedvectors.Vocab object at 0x7f71bcfb8a60>, 'using': <gensim.models.keyedvectors.Vocab object at 0x7f71bcfb8ac0>, 'fast': <gensim.models.keyedvectors.Vocab object at 0x7f71bcfb8b20>, 'questions': <gensim.models.keyedvectors.Vocab object at 0x7f71bcfb8b80>, 'intelligently': <gensim.models.keyedvectors.Vocab object at 0x7f71bcfb8be0>, 'real': <gensim.models.keyedvectors.Vocab object at 0x7f71bcfb8c40>, 'facts': <gensim.models.keyedvectors.Vocab object at 0x7f71bcfb8ca0>, 'exists': <gensim.models.keyedvectors.Vocab object at 0x7f71bcfb8d00>, 'ontology': <gensim.models.keyedvectors.Vocab object at 0x7f71bcfb8d60>, 'set': <gensim.models.keyedvectors.Vocab object at 0x7f71bcfb8dc0>, 'relations': <gensim.models.keyedvectors.Vocab object at 0x7f71bcfb8e20>, 'properties': <gensim.models.keyedvectors.Vocab object at 0x7f71bcfb8e80>, 'agents': <gensim.models.keyedvectors.Vocab object at 0x7f71bcfb8ee0>, 'interpret': <gensim.models.keyedvectors.Vocab object at 0x7f71bcfb8f40>, 'ontologies': <gensim.models.keyedvectors.Vocab object at 0x7f71bcfb8fa0>, 'attempt': <gensim.models.keyedvectors.Vocab object at 0x7f71bcfb9040>, 'domain': <gensim.models.keyedvectors.Vocab object at 0x7f71bcfb90a0>, 'area': <gensim.models.keyedvectors.Vocab object at 0x7f71bcfb9100>, 'need': <gensim.models.keyedvectors.Vocab object at 0x7f71bcfb9160>, 'commonsense': <gensim.models.keyedvectors.Vocab object at 0x7f71bcfb91c0>, 'average': <gensim.models.keyedvectors.Vocab object at 0x7f71bcfb9220>, 'person': <gensim.models.keyedvectors.Vocab object at 0x7f71bcfb9280>, 'knows': <gensim.models.keyedvectors.Vocab object at 0x7f71bcfb92e0>, 'typically': <gensim.models.keyedvectors.Vocab object at 0x7f71bcfb9340>, 'represented': <gensim.models.keyedvectors.Vocab object at 0x7f71bcfb93a0>, 'description': <gensim.models.keyedvectors.Vocab object at 0x7f71bcfb9400>, 'represent': <gensim.models.keyedvectors.Vocab object at 0x7f71bcfb9460>, 'domains': <gensim.models.keyedvectors.Vocab object at 0x7f71bcfb94c0>, 'categories': <gensim.models.keyedvectors.Vocab object at 0x7f71bcfb9520>, 'events': <gensim.models.keyedvectors.Vocab object at 0x7f71bcfb9580>, 'states': <gensim.models.keyedvectors.Vocab object at 0x7f71bcfb95e0>, 'know': <gensim.models.keyedvectors.Vocab object at 0x7f71bcfb9640>, 'people': <gensim.models.keyedvectors.Vocab object at 0x7f71bcfb96a0>, 'default': <gensim.models.keyedvectors.Vocab object at 0x7f71bcfb9700>, 'assume': <gensim.models.keyedvectors.Vocab object at 0x7f71bcfb9760>, 'true': <gensim.models.keyedvectors.Vocab object at 0x7f71bcfb97c0>, 'told': <gensim.models.keyedvectors.Vocab object at 0x7f71bcfb9820>, 'changing': <gensim.models.keyedvectors.Vocab object at 0x7f71bcfb9880>, 'breadth': <gensim.models.keyedvectors.Vocab object at 0x7f71bcfb98e0>, 'enormous': <gensim.models.keyedvectors.Vocab object at 0x7f71bcfb9940>, 'statements': <gensim.models.keyedvectors.Vocab object at 0x7f71bcfb99a0>, 'express': <gensim.models.keyedvectors.Vocab object at 0x7f71bcfb9a00>, 'retrieval': <gensim.models.keyedvectors.Vocab object at 0x7f71bcfb9a60>, 'support': <gensim.models.keyedvectors.Vocab object at 0x7f71bcfb9ac0>, 'discovery': <gensim.models.keyedvectors.Vocab object at 0x7f71bcfb9b20>, 'areas': <gensim.models.keyedvectors.Vocab object at 0x7f71bcfb9b80>, 'fundamental': <gensim.models.keyedvectors.Vocab object at 0x7f71bcfb9be0>, 'concept': <gensim.models.keyedvectors.Vocab object at 0x7f71bcfb9c40>, 'j': <gensim.models.keyedvectors.Vocab object at 0x7f71bcfb9ca0>, 'improve': <gensim.models.keyedvectors.Vocab object at 0x7f71bcfb9d00>, 'experience': <gensim.models.keyedvectors.Vocab object at 0x7f71bcfb9d60>, 'k': <gensim.models.keyedvectors.Vocab object at 0x7f71bcfb9dc0>, 'finds': <gensim.models.keyedvectors.Vocab object at 0x7f71bcfb9e20>, 'patterns': <gensim.models.keyedvectors.Vocab object at 0x7f71bcfb9e80>, 'input': <gensim.models.keyedvectors.Vocab object at 0x7f71bcfb9ee0>, 'supervised': <gensim.models.keyedvectors.Vocab object at 0x7f71bcfb9f40>, 'requires': <gensim.models.keyedvectors.Vocab object at 0x7f71bcfb9fa0>, 'main': <gensim.models.keyedvectors.Vocab object at 0x7f71bcfba040>, 'classification': <gensim.models.keyedvectors.Vocab object at 0x7f71bcfba0a0>, 'regression': <gensim.models.keyedvectors.Vocab object at 0x7f71bcfba100>, 'determine': <gensim.models.keyedvectors.Vocab object at 0x7f71bcfba160>, 'something': <gensim.models.keyedvectors.Vocab object at 0x7f71bcfba1c0>, 'belongs': <gensim.models.keyedvectors.Vocab object at 0x7f71bcfba220>, 'examples': <gensim.models.keyedvectors.Vocab object at 0x7f71bcfba280>, 'classify': <gensim.models.keyedvectors.Vocab object at 0x7f71bcfba2e0>, 'function': <gensim.models.keyedvectors.Vocab object at 0x7f71bcfba340>, 'relationship': <gensim.models.keyedvectors.Vocab object at 0x7f71bcfba3a0>, 'outputs': <gensim.models.keyedvectors.Vocab object at 0x7f71bcfba400>, 'change': <gensim.models.keyedvectors.Vocab object at 0x7f71bcfba460>, 'classifiers': <gensim.models.keyedvectors.Vocab object at 0x7f71bcfba4c0>, 'learners': <gensim.models.keyedvectors.Vocab object at 0x7f71bcfba520>, 'viewed': <gensim.models.keyedvectors.Vocab object at 0x7f71bcfba580>, 'spam': <gensim.models.keyedvectors.Vocab object at 0x7f71bcfba5e0>, 'classifier': <gensim.models.keyedvectors.Vocab object at 0x7f71bcfba640>, 'text': <gensim.models.keyedvectors.Vocab object at 0x7f71bcfba6a0>, 'agent': <gensim.models.keyedvectors.Vocab object at 0x7f71bcfba700>, 'good': <gensim.models.keyedvectors.Vocab object at 0x7f71bcfba760>, 'responses': <gensim.models.keyedvectors.Vocab object at 0x7f71bcfba7c0>, 'ones': <gensim.models.keyedvectors.Vocab object at 0x7f71bcfba820>, 'classifies': <gensim.models.keyedvectors.Vocab object at 0x7f71bcfba880>, 'strategy': <gensim.models.keyedvectors.Vocab object at 0x7f71bcfba8e0>, 'applied': <gensim.models.keyedvectors.Vocab object at 0x7f71bcfba940>, 'computational': <gensim.models.keyedvectors.Vocab object at 0x7f71bcfba9a0>, 'assess': <gensim.models.keyedvectors.Vocab object at 0x7f71bcfbaa00>, 'complexity': <gensim.models.keyedvectors.Vocab object at 0x7f71bcfbaa60>, 'sample': <gensim.models.keyedvectors.Vocab object at 0x7f71bcfbaac0>, 'required': <gensim.models.keyedvectors.Vocab object at 0x7f71bcfbab20>, 'nlp': <gensim.models.keyedvectors.Vocab object at 0x7f71bcfbab80>, 'allows': <gensim.models.keyedvectors.Vocab object at 0x7f71bcfbabe0>, 'understand': <gensim.models.keyedvectors.Vocab object at 0x7f71bcfbac40>, 'sufficiently': <gensim.models.keyedvectors.Vocab object at 0x7f71bcfbaca0>, 'powerful': <gensim.models.keyedvectors.Vocab object at 0x7f71bcfbad00>, 'sources': <gensim.models.keyedvectors.Vocab object at 0x7f71bcfbad60>, 'texts': <gensim.models.keyedvectors.Vocab object at 0x7f71bcfbadc0>, 'straightforward': <gensim.models.keyedvectors.Vocab object at 0x7f71bcfbae20>, 'question': <gensim.models.keyedvectors.Vocab object at 0x7f71bcfbae80>, 'answering': <gensim.models.keyedvectors.Vocab object at 0x7f71bcfbaee0>, 'translate': <gensim.models.keyedvectors.Vocab object at 0x7f71bcfbaf40>, 'structure': <gensim.models.keyedvectors.Vocab object at 0x7f71bcfbafa0>, 'useful': <gensim.models.keyedvectors.Vocab object at 0x7f71bcfbb040>, 'modern': <gensim.models.keyedvectors.Vocab object at 0x7f71bcfbb0a0>, 'occurrence': <gensim.models.keyedvectors.Vocab object at 0x7f71bcfbb100>, 'appears': <gensim.models.keyedvectors.Vocab object at 0x7f71bcfbb160>, 'another': <gensim.models.keyedvectors.Vocab object at 0x7f71bcfbb1c0>, 'searching': <gensim.models.keyedvectors.Vocab object at 0x7f71bcfbb220>, 'sensors': <gensim.models.keyedvectors.Vocab object at 0x7f71bcfbb280>, 'signals': <gensim.models.keyedvectors.Vocab object at 0x7f71bcfbb2e0>, 'facial': <gensim.models.keyedvectors.Vocab object at 0x7f71bcfbb340>, 'object': <gensim.models.keyedvectors.Vocab object at 0x7f71bcfbb3a0>, 'analyze': <gensim.models.keyedvectors.Vocab object at 0x7f71bcfbb400>, 'visual': <gensim.models.keyedvectors.Vocab object at 0x7f71bcfbb460>, 'affective': <gensim.models.keyedvectors.Vocab object at 0x7f71bcfbb4c0>, 'virtual': <gensim.models.keyedvectors.Vocab object at 0x7f71bcfbb520>, 'assistants': <gensim.models.keyedvectors.Vocab object at 0x7f71bcfbb580>, 'programmed': <gensim.models.keyedvectors.Vocab object at 0x7f71bcfbb5e0>, 'makes': <gensim.models.keyedvectors.Vocab object at 0x7f71bcfbb640>, 'interaction': <gensim.models.keyedvectors.Vocab object at 0x7f71bcfbb6a0>, 'otherwise': <gensim.models.keyedvectors.Vocab object at 0x7f71bcfbb700>, 'existing': <gensim.models.keyedvectors.Vocab object at 0x7f71bcfbb760>, 'actually': <gensim.models.keyedvectors.Vocab object at 0x7f71bcfbb7c0>, 'successes': <gensim.models.keyedvectors.Vocab object at 0x7f71bcfbb820>, 'related': <gensim.models.keyedvectors.Vocab object at 0x7f71bcfbb880>, 'sentiment': <gensim.models.keyedvectors.Vocab object at 0x7f71bcfbb8e0>, 'analysis': <gensim.models.keyedvectors.Vocab object at 0x7f71bcfbb940>, 'similar': <gensim.models.keyedvectors.Vocab object at 0x7f71bcfbb9a0>, 'hans': <gensim.models.keyedvectors.Vocab object at 0x7f71bcfbba00>, 'moravec': <gensim.models.keyedvectors.Vocab object at 0x7f71bcfbba60>, 'argue': <gensim.models.keyedvectors.Vocab object at 0x7f71bcfbbac0>, 'individual': <gensim.models.keyedvectors.Vocab object at 0x7f71bcfbbb20>, 'multi': <gensim.models.keyedvectors.Vocab object at 0x7f71bcfbbb80>, 'cognitive': <gensim.models.keyedvectors.Vocab object at 0x7f71bcfbbbe0>, 'architecture': <gensim.models.keyedvectors.Vocab object at 0x7f71bcfbbc40>, 'hopes': <gensim.models.keyedvectors.Vocab object at 0x7f71bcfbbca0>, 'algorithm': <gensim.models.keyedvectors.Vocab object at 0x7f71bcfbbd00>, 'lead': <gensim.models.keyedvectors.Vocab object at 0x7f71bcfbbd60>, 'believe': <gensim.models.keyedvectors.Vocab object at 0x7f71bcfbbdc0>, 'features': <gensim.models.keyedvectors.Vocab object at 0x7f71bcfbbe20>, 'development': <gensim.models.keyedvectors.Vocab object at 0x7f71bcfbbe80>, 'reach': <gensim.models.keyedvectors.Vocab object at 0x7f71bcfbbee0>, 'critical': <gensim.models.keyedvectors.Vocab object at 0x7f71bcfbbf40>, 'point': <gensim.models.keyedvectors.Vocab object at 0x7f71bcfbbfa0>, 'possible': <gensim.models.keyedvectors.Vocab object at 0x7f71bcfbc040>, 'reduced': <gensim.models.keyedvectors.Vocab object at 0x7f71bcfbc0a0>, 'path': <gensim.models.keyedvectors.Vocab object at 0x7f71bcfbc100>, 'application': <gensim.models.keyedvectors.Vocab object at 0x7f71bcfbc160>, 'inference': <gensim.models.keyedvectors.Vocab object at 0x7f71bcfbc1c0>, 'find': <gensim.models.keyedvectors.Vocab object at 0x7f71bcfbc220>, 'target': <gensim.models.keyedvectors.Vocab object at 0x7f71bcfbc280>, 'means': <gensim.models.keyedvectors.Vocab object at 0x7f71bcfbc2e0>, 'moving': <gensim.models.keyedvectors.Vocab object at 0x7f71bcfbc340>, 'searches': <gensim.models.keyedvectors.Vocab object at 0x7f71bcfbc3a0>, 'sufficient': <gensim.models.keyedvectors.Vocab object at 0x7f71bcfbc400>, 'result': <gensim.models.keyedvectors.Vocab object at 0x7f71bcfbc460>, 'solution': <gensim.models.keyedvectors.Vocab object at 0x7f71bcfbc4c0>, 'heuristics': <gensim.models.keyedvectors.Vocab object at 0x7f71bcfbc520>, 'choices': <gensim.models.keyedvectors.Vocab object at 0x7f71bcfbc580>, 'likely': <gensim.models.keyedvectors.Vocab object at 0x7f71bcfbc5e0>, 'steps': <gensim.models.keyedvectors.Vocab object at 0x7f71bcfbc640>, 'tree': <gensim.models.keyedvectors.Vocab object at 0x7f71bcfbc6a0>, 'supply': <gensim.models.keyedvectors.Vocab object at 0x7f71bcfbc700>, 'guess': <gensim.models.keyedvectors.Vocab object at 0x7f71bcfbc760>, 'size': <gensim.models.keyedvectors.Vocab object at 0x7f71bcfbc7c0>, 'came': <gensim.models.keyedvectors.Vocab object at 0x7f71bcfbc820>, 'begin': <gensim.models.keyedvectors.Vocab object at 0x7f71bcfbc880>, 'blind': <gensim.models.keyedvectors.Vocab object at 0x7f71bcfbc8e0>, 'random': <gensim.models.keyedvectors.Vocab object at 0x7f71bcfbc940>, 'landscape': <gensim.models.keyedvectors.Vocab object at 0x7f71bcfbc9a0>, 'top': <gensim.models.keyedvectors.Vocab object at 0x7f71bcfbca00>, 'uses': <gensim.models.keyedvectors.Vocab object at 0x7f71bcfbca60>, 'guesses': <gensim.models.keyedvectors.Vocab object at 0x7f71bcfbcac0>, 'genetic': <gensim.models.keyedvectors.Vocab object at 0x7f71bcfbcb20>, 'programming': <gensim.models.keyedvectors.Vocab object at 0x7f71bcfbcb80>, 'swarm': <gensim.models.keyedvectors.Vocab object at 0x7f71bcfbcbe0>, 'popular': <gensim.models.keyedvectors.Vocab object at 0x7f71bcfbcc40>, 'ant': <gensim.models.keyedvectors.Vocab object at 0x7f71bcfbcca0>, 'forms': <gensim.models.keyedvectors.Vocab object at 0x7f71bcfbcd00>, 'truth': <gensim.models.keyedvectors.Vocab object at 0x7f71bcfbcd60>, 'functions': <gensim.models.keyedvectors.Vocab object at 0x7f71bcfbcdc0>, 'order': <gensim.models.keyedvectors.Vocab object at 0x7f71bcfbce20>, 'degree': <gensim.models.keyedvectors.Vocab object at 0x7f71bcfbce80>, 'logics': <gensim.models.keyedvectors.Vocab object at 0x7f71bcfbcee0>, 'designed': <gensim.models.keyedvectors.Vocab object at 0x7f71bcfbcf40>, 'handle': <gensim.models.keyedvectors.Vocab object at 0x7f71bcfbcfa0>, 'situation': <gensim.models.keyedvectors.Vocab object at 0x7f71bcfbe040>, 'calculus': <gensim.models.keyedvectors.Vocab object at 0x7f71bcfbe0a0>, 'belief': <gensim.models.keyedvectors.Vocab object at 0x7f71bcfbe100>, 'devised': <gensim.models.keyedvectors.Vocab object at 0x7f71bcfbe160>, 'bayesian': <gensim.models.keyedvectors.Vocab object at 0x7f71bcfbe1c0>, 'n': <gensim.models.keyedvectors.Vocab object at 0x7f71bcfbe220>, 'dynamic': <gensim.models.keyedvectors.Vocab object at 0x7f71bcfbe280>, 'filtering': <gensim.models.keyedvectors.Vocab object at 0x7f71bcfbe2e0>, 'markov': <gensim.models.keyedvectors.Vocab object at 0x7f71bcfbe340>, 'models': <gensim.models.keyedvectors.Vocab object at 0x7f71bcfbe3a0>, 'measure': <gensim.models.keyedvectors.Vocab object at 0x7f71bcfbe400>, 'valuable': <gensim.models.keyedvectors.Vocab object at 0x7f71bcfbe460>, 'simplest': <gensim.models.keyedvectors.Vocab object at 0x7f71bcfbe4c0>, 'divided': <gensim.models.keyedvectors.Vocab object at 0x7f71bcfbe520>, 'diamond': <gensim.models.keyedvectors.Vocab object at 0x7f71bcfbe580>, 'controllers': <gensim.models.keyedvectors.Vocab object at 0x7f71bcfbe5e0>, 'actions': <gensim.models.keyedvectors.Vocab object at 0x7f71bcfbe640>, 'therefore': <gensim.models.keyedvectors.Vocab object at 0x7f71bcfbe6a0>, 'central': <gensim.models.keyedvectors.Vocab object at 0x7f71bcfbe700>, 'matching': <gensim.models.keyedvectors.Vocab object at 0x7f71bcfbe760>, 'match': <gensim.models.keyedvectors.Vocab object at 0x7f71bcfbe7c0>, 'observations': <gensim.models.keyedvectors.Vocab object at 0x7f71bcfbe820>, 'certain': <gensim.models.keyedvectors.Vocab object at 0x7f71bcfbe880>, 'class': <gensim.models.keyedvectors.Vocab object at 0x7f71bcfbe8e0>, 'observation': <gensim.models.keyedvectors.Vocab object at 0x7f71bcfbe940>, 'classified': <gensim.models.keyedvectors.Vocab object at 0x7f71bcfbe9a0>, 'previous': <gensim.models.keyedvectors.Vocab object at 0x7f71bcfbea00>, 'trained': <gensim.models.keyedvectors.Vocab object at 0x7f71bcfbea60>, 'nearest': <gensim.models.keyedvectors.Vocab object at 0x7f71bcfbeac0>, 'neighbor': <gensim.models.keyedvectors.Vocab object at 0x7f71bcfbeb20>, 'svm': <gensim.models.keyedvectors.Vocab object at 0x7f71bcfbeb80>, 'naive': <gensim.models.keyedvectors.Vocab object at 0x7f71bcfbebe0>, 'bayes': <gensim.models.keyedvectors.Vocab object at 0x7f71bcfbec40>, 'scalability': <gensim.models.keyedvectors.Vocab object at 0x7f71bcfbeca0>, 'performance': <gensim.models.keyedvectors.Vocab object at 0x7f71bcfbed00>, 'depends': <gensim.models.keyedvectors.Vocab object at 0x7f71bcfbed60>, 'perform': <gensim.models.keyedvectors.Vocab object at 0x7f71bcfbedc0>, 'extremely': <gensim.models.keyedvectors.Vocab object at 0x7f71bcfbee20>, 'rather': <gensim.models.keyedvectors.Vocab object at 0x7f71bcfbee80>, 'tend': <gensim.models.keyedvectors.Vocab object at 0x7f71bcfbeee0>, 'neuron': <gensim.models.keyedvectors.Vocab object at 0x7f71bcfbef40>, 'weighted': <gensim.models.keyedvectors.Vocab object at 0x7f71bcfbefa0>, 'whether': <gensim.models.keyedvectors.Vocab object at 0x7f71bcfbf040>, 'training': <gensim.models.keyedvectors.Vocab object at 0x7f71bcfbf0a0>, 'fire': <gensim.models.keyedvectors.Vocab object at 0x7f71bcfbf100>, 'together': <gensim.models.keyedvectors.Vocab object at 0x7f71bcfbf160>, 'wire': <gensim.models.keyedvectors.Vocab object at 0x7f71bcfbf1c0>, 'activation': <gensim.models.keyedvectors.Vocab object at 0x7f71bcfbf220>, 'continuous': <gensim.models.keyedvectors.Vocab object at 0x7f71bcfbf280>, 'spectrum': <gensim.models.keyedvectors.Vocab object at 0x7f71bcfbf2e0>, 'way': <gensim.models.keyedvectors.Vocab object at 0x7f71bcfbf340>, 'gradient': <gensim.models.keyedvectors.Vocab object at 0x7f71bcfbf3a0>, 'descent': <gensim.models.keyedvectors.Vocab object at 0x7f71bcfbf400>, 'created': <gensim.models.keyedvectors.Vocab object at 0x7f71bcfbf460>, 'network': <gensim.models.keyedvectors.Vocab object at 0x7f71bcfbf4c0>, 'competitive': <gensim.models.keyedvectors.Vocab object at 0x7f71bcfbf520>, 'feedforward': <gensim.models.keyedvectors.Vocab object at 0x7f71bcfbf580>, 'signal': <gensim.models.keyedvectors.Vocab object at 0x7f71bcfbf5e0>, 'recurrent': <gensim.models.keyedvectors.Vocab object at 0x7f71bcfbf640>, 'short': <gensim.models.keyedvectors.Vocab object at 0x7f71bcfbf6a0>, 'perceptrons': <gensim.models.keyedvectors.Vocab object at 0x7f71bcfbf700>, 'layer': <gensim.models.keyedvectors.Vocab object at 0x7f71bcfbf760>, 'layers': <gensim.models.keyedvectors.Vocab object at 0x7f71bcfbf7c0>, 'higher': <gensim.models.keyedvectors.Vocab object at 0x7f71bcfbf820>, 'image': <gensim.models.keyedvectors.Vocab object at 0x7f71bcfbf880>, 'identify': <gensim.models.keyedvectors.Vocab object at 0x7f71bcfbf8e0>, 'relevant': <gensim.models.keyedvectors.Vocab object at 0x7f71bcfbf940>, 'improved': <gensim.models.keyedvectors.Vocab object at 0x7f71bcfbf9a0>, 'important': <gensim.models.keyedvectors.Vocab object at 0x7f71bcfbfa00>, 'convolutional': <gensim.models.keyedvectors.Vocab object at 0x7f71bcfbfa60>, 'reduce': <gensim.models.keyedvectors.Vocab object at 0x7f71bcfbfac0>, 'rnn': <gensim.models.keyedvectors.Vocab object at 0x7f71bcfbfb20>, 'thus': <gensim.models.keyedvectors.Vocab object at 0x7f71bcfbfb80>, 'back': <gensim.models.keyedvectors.Vocab object at 0x7f71bcfbfbe0>, 'prevent': <gensim.models.keyedvectors.Vocab object at 0x7f71bcfbfc40>, 'cases': <gensim.models.keyedvectors.Vocab object at 0x7f71bcfbfca0>, 'hardware': <gensim.models.keyedvectors.Vocab object at 0x7f71bcfbfd00>, 'includes': <gensim.models.keyedvectors.Vocab object at 0x7f71bcfbfd60>, 'mainstream': <gensim.models.keyedvectors.Vocab object at 0x7f71bcfbfdc0>, 'life': <gensim.models.keyedvectors.Vocab object at 0x7f71bcfbfe20>, 'internet': <gensim.models.keyedvectors.Vocab object at 0x7f71bcfbfe80>, 'traffic': <gensim.models.keyedvectors.Vocab object at 0x7f71bcfbfee0>, 'facebook': <gensim.models.keyedvectors.Vocab object at 0x7f71bcfbff40>, 'autonomous': <gensim.models.keyedvectors.Vocab object at 0x7f71bcfbffa0>, 'microsoft': <gensim.models.keyedvectors.Vocab object at 0x7f71bcfc0040>, 'apple': <gensim.models.keyedvectors.Vocab object at 0x7f71bcfc00a0>, 'face': <gensim.models.keyedvectors.Vocab object at 0x7f71bcfc0100>, 'gpt': <gensim.models.keyedvectors.Vocab object at 0x7f71bcfc0160>, 'thousands': <gensim.models.keyedvectors.Vocab object at 0x7f71bcfc01c0>, 'deepfakes': <gensim.models.keyedvectors.Vocab object at 0x7f71bcfc0220>, 'medical': <gensim.models.keyedvectors.Vocab object at 0x7f71bcfc0280>, 'playing': <gensim.models.keyedvectors.Vocab object at 0x7f71bcfc02e0>, 'test': <gensim.models.keyedvectors.Vocab object at 0x7f71bcfc0340>, 'blue': <gensim.models.keyedvectors.Vocab object at 0x7f71bcfc03a0>, 'beat': <gensim.models.keyedvectors.Vocab object at 0x7f71bcfc0400>, 'champion': <gensim.models.keyedvectors.Vocab object at 0x7f71bcfc0460>, 'jeopardy': <gensim.models.keyedvectors.Vocab object at 0x7f71bcfc04c0>, 'show': <gensim.models.keyedvectors.Vocab object at 0x7f71bcfc0520>, 'ibm': <gensim.models.keyedvectors.Vocab object at 0x7f71bcfc0580>, 'games': <gensim.models.keyedvectors.Vocab object at 0x7f71bcfc05e0>, 'becoming': <gensim.models.keyedvectors.Vocab object at 0x7f71bcfc0640>, 'without': <gensim.models.keyedvectors.Vocab object at 0x7f71bcfc06a0>, 'superhuman': <gensim.models.keyedvectors.Vocab object at 0x7f71bcfc0700>, 'deepmind': <gensim.models.keyedvectors.Vocab object at 0x7f71bcfc0760>, 'far': <gensim.models.keyedvectors.Vocab object at 0x7f71bcfc07c0>, 'largest': <gensim.models.keyedvectors.Vocab object at 0x7f71bcfc0820>, 'hours': <gensim.models.keyedvectors.Vocab object at 0x7f71bcfc0880>, 'decisions': <gensim.models.keyedvectors.Vocab object at 0x7f71bcfc08e0>, 'smart': <gensim.models.keyedvectors.Vocab object at 0x7f71bcfc0940>, 'professor': <gensim.models.keyedvectors.Vocab object at 0x7f71bcfc09a0>, 'stephen': <gensim.models.keyedvectors.Vocab object at 0x7f71bcfc0a00>, 'installed': <gensim.models.keyedvectors.Vocab object at 0x7f71bcfc0a60>, 'control': <gensim.models.keyedvectors.Vocab object at 0x7f71bcfc0ac0>, 'cities': <gensim.models.keyedvectors.Vocab object at 0x7f71bcfc0b20>, 'emerging': <gensim.models.keyedvectors.Vocab object at 0x7f71bcfc0b80>, 'terms': <gensim.models.keyedvectors.Vocab object at 0x7f71bcfc0be0>, 'patent': <gensim.models.keyedvectors.Vocab object at 0x7f71bcfc0c40>, 'patents': <gensim.models.keyedvectors.Vocab object at 0x7f71bcfc0ca0>, 'technologies': <gensim.models.keyedvectors.Vocab object at 0x7f71bcfc0d00>, 'services': <gensim.models.keyedvectors.Vocab object at 0x7f71bcfc0d60>, 'filed': <gensim.models.keyedvectors.Vocab object at 0x7f71bcfc0dc0>, 'scientific': <gensim.models.keyedvectors.Vocab object at 0x7f71bcfc0e20>, 'papers': <gensim.models.keyedvectors.Vocab object at 0x7f71bcfc0e80>, 'published': <gensim.models.keyedvectors.Vocab object at 0x7f71bcfc0ee0>, 'public': <gensim.models.keyedvectors.Vocab object at 0x7f71bcfc0f40>, 'four': <gensim.models.keyedvectors.Vocab object at 0x7f71bcfc0fa0>, 'inventions': <gensim.models.keyedvectors.Vocab object at 0x7f71bcfc2040>, 'identified': <gensim.models.keyedvectors.Vocab object at 0x7f71bcfc20a0>, 'refer': <gensim.models.keyedvectors.Vocab object at 0x7f71bcfc2100>, 'percent': <gensim.models.keyedvectors.Vocab object at 0x7f71bcfc2160>, 'personal': <gensim.models.keyedvectors.Vocab object at 0x7f71bcfc21c0>, 'wrote': <gensim.models.keyedvectors.Vocab object at 0x7f71bcfc2220>, 'thinks': <gensim.models.keyedvectors.Vocab object at 0x7f71bcfc2280>, 'machinery': <gensim.models.keyedvectors.Vocab object at 0x7f71bcfc22e0>, 'measures': <gensim.models.keyedvectors.Vocab object at 0x7f71bcfc2340>, 'observe': <gensim.models.keyedvectors.Vocab object at 0x7f71bcfc23a0>, 'matter': <gensim.models.keyedvectors.Vocab object at 0x7f71bcfc2400>, 'thinking': <gensim.models.keyedvectors.Vocab object at 0x7f71bcfc2460>, 'norvig': <gensim.models.keyedvectors.Vocab object at 0x7f71bcfc24c0>, 'agree': <gensim.models.keyedvectors.Vocab object at 0x7f71bcfc2520>, 'must': <gensim.models.keyedvectors.Vocab object at 0x7f71bcfc2580>, 'defined': <gensim.models.keyedvectors.Vocab object at 0x7f71bcfc25e0>, 'define': <gensim.models.keyedvectors.Vocab object at 0x7f71bcfc2640>, 'exactly': <gensim.models.keyedvectors.Vocab object at 0x7f71bcfc26a0>, 'pigeons': <gensim.models.keyedvectors.Vocab object at 0x7f71bcfc2700>, 'founder': <gensim.models.keyedvectors.Vocab object at 0x7f71bcfc2760>, 'john': <gensim.models.keyedvectors.Vocab object at 0x7f71bcfc27c0>, 'mccarthy': <gensim.models.keyedvectors.Vocab object at 0x7f71bcfc2820>, 'simulation': <gensim.models.keyedvectors.Vocab object at 0x7f71bcfc2880>, 'defines': <gensim.models.keyedvectors.Vocab object at 0x7f71bcfc28e0>, 'hard': <gensim.models.keyedvectors.Vocab object at 0x7f71bcfc2940>, 'view': <gensim.models.keyedvectors.Vocab object at 0x7f71bcfc29a0>, 'discussion': <gensim.models.keyedvectors.Vocab object at 0x7f71bcfc2a00>, 'adopted': <gensim.models.keyedvectors.Vocab object at 0x7f71bcfc2a60>, 'better': <gensim.models.keyedvectors.Vocab object at 0x7f71bcfc2ac0>, 'history': <gensim.models.keyedvectors.Vocab object at 0x7f71bcfc2b20>, 'critics': <gensim.models.keyedvectors.Vocab object at 0x7f71bcfc2b80>, 'future': <gensim.models.keyedvectors.Vocab object at 0x7f71bcfc2be0>, 'high': <gensim.models.keyedvectors.Vocab object at 0x7f71bcfc2c40>, 'conscious': <gensim.models.keyedvectors.Vocab object at 0x7f71bcfc2ca0>, 'legal': <gensim.models.keyedvectors.Vocab object at 0x7f71bcfc2d00>, 'proposed': <gensim.models.keyedvectors.Vocab object at 0x7f71bcfc2d60>, 'physical': <gensim.models.keyedvectors.Vocab object at 0x7f71bcfc2dc0>, 'symbol': <gensim.models.keyedvectors.Vocab object at 0x7f71bcfc2e20>, 'necessary': <gensim.models.keyedvectors.Vocab object at 0x7f71bcfc2e80>, 'easy': <gensim.models.keyedvectors.Vocab object at 0x7f71bcfc2ee0>, 'philosopher': <gensim.models.keyedvectors.Vocab object at 0x7f71bcfc2f40>, 'feel': <gensim.models.keyedvectors.Vocab object at 0x7f71bcfc2fa0>, 'presented': <gensim.models.keyedvectors.Vocab object at 0x7f71bcfc3040>, 'issue': <gensim.models.keyedvectors.Vocab object at 0x7f71bcfc30a0>, 'mistakes': <gensim.models.keyedvectors.Vocab object at 0x7f71bcfc3100>, 'bias': <gensim.models.keyedvectors.Vocab object at 0x7f71bcfc3160>, 'still': <gensim.models.keyedvectors.Vocab object at 0x7f71bcfc31c0>, 'away': <gensim.models.keyedvectors.Vocab object at 0x7f71bcfc3220>, 'impossible': <gensim.models.keyedvectors.Vocab object at 0x7f71bcfc3280>, 'attempts': <gensim.models.keyedvectors.Vocab object at 0x7f71bcfc32e0>, 'neats': <gensim.models.keyedvectors.Vocab object at 0x7f71bcfc3340>, 'principles': <gensim.models.keyedvectors.Vocab object at 0x7f71bcfc33a0>, 'sense': <gensim.models.keyedvectors.Vocab object at 0x7f71bcfc3400>, 'provably': <gensim.models.keyedvectors.Vocab object at 0x7f71bcfc3460>, 'introduced': <gensim.models.keyedvectors.Vocab object at 0x7f71bcfc34c0>, 'superintelligence': <gensim.models.keyedvectors.Vocab object at 0x7f71bcfc3520>, 'consciousness': <gensim.models.keyedvectors.Vocab object at 0x7f71bcfc3580>, 'considers': <gensim.models.keyedvectors.Vocab object at 0x7f71bcfc35e0>, 'stuart': <gensim.models.keyedvectors.Vocab object at 0x7f71bcfc3640>, 'peter': <gensim.models.keyedvectors.Vocab object at 0x7f71bcfc36a0>, 'care': <gensim.models.keyedvectors.Vocab object at 0x7f71bcfc3700>, 'works': <gensim.models.keyedvectors.Vocab object at 0x7f71bcfc3760>, 'named': <gensim.models.keyedvectors.Vocab object at 0x7f71bcfc37c0>, 'explain': <gensim.models.keyedvectors.Vocab object at 0x7f71bcfc3820>, 'subjective': <gensim.models.keyedvectors.Vocab object at 0x7f71bcfc3880>, 'learned': <gensim.models.keyedvectors.Vocab object at 0x7f71bcfc38e0>, 'red': <gensim.models.keyedvectors.Vocab object at 0x7f71bcfc3940>, 'computationalism': <gensim.models.keyedvectors.Vocab object at 0x7f71bcfc39a0>, 'position': <gensim.models.keyedvectors.Vocab object at 0x7f71bcfc3a00>, 'body': <gensim.models.keyedvectors.Vocab object at 0x7f71bcfc3a60>, 'searle': <gensim.models.keyedvectors.Vocab object at 0x7f71bcfc3ac0>, 'suffer': <gensim.models.keyedvectors.Vocab object at 0x7f71bcfc3b20>, 'rights': <gensim.models.keyedvectors.Vocab object at 0x7f71bcfc3b80>, 'hypothetical': <gensim.models.keyedvectors.Vocab object at 0x7f71bcfc3be0>, 'robot': <gensim.models.keyedvectors.Vocab object at 0x7f71bcfc3c40>, 'centuries': <gensim.models.keyedvectors.Vocab object at 0x7f71bcfc3ca0>, 'institute': <gensim.models.keyedvectors.Vocab object at 0x7f71bcfc3d00>, 'might': <gensim.models.keyedvectors.Vocab object at 0x7f71bcfc3d60>, 'singularity': <gensim.models.keyedvectors.Vocab object at 0x7f71bcfc3dc0>, 'superintelligent': <gensim.models.keyedvectors.Vocab object at 0x7f71bcfc3e20>, 'idea': <gensim.models.keyedvectors.Vocab object at 0x7f71bcfc3e80>, 'transhumanism': <gensim.models.keyedvectors.Vocab object at 0x7f71bcfc3ee0>, 'name': <gensim.models.keyedvectors.Vocab object at 0x7f71bcfc3f40>, 'economists': <gensim.models.keyedvectors.Vocab object at 0x7f71bcfc3fa0>, 'benefit': <gensim.models.keyedvectors.Vocab object at 0x7f71bcfc4040>, 'jobs': <gensim.models.keyedvectors.Vocab object at 0x7f71bcfc40a0>, 'potential': <gensim.models.keyedvectors.Vocab object at 0x7f71bcfc4100>, 'automation': <gensim.models.keyedvectors.Vocab object at 0x7f71bcfc4160>, 'white': <gensim.models.keyedvectors.Vocab object at 0x7f71bcfc41c0>, 'collar': <gensim.models.keyedvectors.Vocab object at 0x7f71bcfc4220>, 'worth': <gensim.models.keyedvectors.Vocab object at 0x7f71bcfc4280>, 'provides': <gensim.models.keyedvectors.Vocab object at 0x7f71bcfc42e0>, 'surveillance': <gensim.models.keyedvectors.Vocab object at 0x7f71bcfc4340>, 'misinformation': <gensim.models.keyedvectors.Vocab object at 0x7f71bcfc43a0>, 'countries': <gensim.models.keyedvectors.Vocab object at 0x7f71bcfc4400>, 'researching': <gensim.models.keyedvectors.Vocab object at 0x7f71bcfc4460>, 'unfair': <gensim.models.keyedvectors.Vocab object at 0x7f71bcfc44c0>, 'compas': <gensim.models.keyedvectors.Vocab object at 0x7f71bcfc4520>, 'defendants': <gensim.models.keyedvectors.Vocab object at 0x7f71bcfc4580>, 'hawking': <gensim.models.keyedvectors.Vocab object at 0x7f71bcfc45e0>, 'resources': <gensim.models.keyedvectors.Vocab object at 0x7f71bcfc4640>, 'shut': <gensim.models.keyedvectors.Vocab object at 0x7f71bcfc46a0>, 'friendly': <gensim.models.keyedvectors.Vocab object at 0x7f71bcfc4700>, 'morality': <gensim.models.keyedvectors.Vocab object at 0x7f71bcfc4760>, 'musk': <gensim.models.keyedvectors.Vocab object at 0x7f71bcfc47c0>, 'prominent': <gensim.models.keyedvectors.Vocab object at 0x7f71bcfc4820>, 'said': <gensim.models.keyedvectors.Vocab object at 0x7f71bcfc4880>, 'risks': <gensim.models.keyedvectors.Vocab object at 0x7f71bcfc48e0>, 'jurisdictions': <gensim.models.keyedvectors.Vocab object at 0x7f71bcfc4940>, 'developing': <gensim.models.keyedvectors.Vocab object at 0x7f71bcfc49a0>, 'becomes': <gensim.models.keyedvectors.Vocab object at 0x7f71bcfc4a00>, 'three': <gensim.models.keyedvectors.Vocab object at 0x7f71bcfc4a60>, 'regulation': <gensim.models.keyedvectors.Vocab object at 0x7f71bcfc4ac0>, 'laws': <gensim.models.keyedvectors.Vocab object at 0x7f71bcfc4b20>, 'culture': <gensim.models.keyedvectors.Vocab object at 0x7f71bcfc4b80>, 'asimov': <gensim.models.keyedvectors.Vocab object at 0x7f71bcfc4be0>, 'series': <gensim.models.keyedvectors.Vocab object at 0x7f71bcfc4c40>, 'dick': <gensim.models.keyedvectors.Vocab object at 0x7f71bcfc4ca0>, 'textbooks': <gensim.models.keyedvectors.Vocab object at 0x7f71bcfc4d00>}\n"
          ]
        }
      ]
    },
    {
      "cell_type": "code",
      "metadata": {
        "id": "jzt4sYd52tcc",
        "colab": {
          "base_uri": "https://localhost:8080/"
        },
        "outputId": "ed4efce6-b07a-4a4a-a60a-909edb4292dd"
      },
      "source": [
        "v1 = word2vec.wv['artificial']\n",
        "v1"
      ],
      "execution_count": null,
      "outputs": [
        {
          "output_type": "execute_result",
          "data": {
            "text/plain": [
              "array([ 3.4576233e-03, -2.9213584e-03, -2.8441811e-03,  2.7932650e-03,\n",
              "       -2.2882086e-03, -4.9225381e-03, -4.4014775e-03,  1.9234666e-03,\n",
              "        3.3788753e-03,  3.6559019e-03,  8.3137414e-04, -3.8688912e-03,\n",
              "       -1.2071126e-03, -5.7564862e-04,  5.0938147e-04, -2.3184405e-03,\n",
              "       -2.9482518e-03,  3.6955699e-03,  4.3797851e-04,  2.8089946e-03,\n",
              "        4.1906987e-03,  3.8557518e-03,  1.6571580e-04,  3.3931187e-04,\n",
              "        5.1907212e-03, -2.6482265e-03, -2.8120165e-04, -3.5819365e-03,\n",
              "       -7.6153653e-04, -5.1545119e-04,  1.0670833e-03,  1.2005665e-03,\n",
              "       -1.3836627e-04, -1.4212739e-03,  4.0710825e-03,  3.0420779e-03,\n",
              "       -2.5556441e-03, -3.8781476e-03,  3.2029455e-03,  2.7088166e-04,\n",
              "        1.4988349e-03,  1.2020231e-03, -1.3693254e-03,  1.5373323e-03,\n",
              "       -3.8213553e-03,  1.1792502e-03, -6.1572632e-03, -5.5813123e-03,\n",
              "       -3.9734208e-04,  3.1914978e-04,  4.2147441e-03, -4.1157985e-03,\n",
              "        9.1989950e-06,  1.6717413e-03,  1.8834491e-03,  2.4613159e-04,\n",
              "       -3.0250265e-03, -4.6176440e-03,  8.7813409e-03,  4.5322049e-03,\n",
              "       -3.4233250e-03,  5.4563832e-04, -3.7192294e-04, -2.7292364e-03,\n",
              "       -2.2733861e-03, -2.3193446e-03,  1.6998772e-03,  4.5588292e-04,\n",
              "       -2.9221638e-03,  1.1844805e-03, -2.8909389e-03, -4.1252398e-03,\n",
              "        2.1322472e-03,  3.5850888e-03,  9.0180285e-04, -4.7258693e-03,\n",
              "        6.8258839e-03,  4.7468203e-03,  6.0399631e-03, -5.3880241e-04,\n",
              "        6.0675559e-03, -4.1568950e-03,  2.5384880e-03, -5.2281492e-03,\n",
              "        3.8822370e-03,  5.5418829e-03, -5.2180589e-04,  1.6196528e-03,\n",
              "       -3.6142012e-03, -4.5221937e-03,  2.2987048e-04, -4.7982004e-03,\n",
              "        6.9418028e-03,  2.2592663e-03,  1.0582767e-03,  1.1554107e-03,\n",
              "       -3.8269809e-03,  2.8867394e-04, -1.6849308e-03,  1.4750202e-03],\n",
              "      dtype=float32)"
            ]
          },
          "metadata": {},
          "execution_count": 96
        }
      ]
    },
    {
      "cell_type": "code",
      "source": [
        "sim_words = word2vec.wv.most_similar('artificial')\n",
        "sim_words"
      ],
      "metadata": {
        "colab": {
          "base_uri": "https://localhost:8080/"
        },
        "id": "zS2FQX8cGqa4",
        "outputId": "c2b58c25-db80-4382-c8f8-818201bcacd8"
      },
      "execution_count": null,
      "outputs": [
        {
          "output_type": "execute_result",
          "data": {
            "text/plain": [
              "[('risk', 0.38662290573120117),\n",
              " ('layers', 0.36993369460105896),\n",
              " ('example', 0.3541564643383026),\n",
              " ('number', 0.3439671993255615),\n",
              " ('question', 0.3405749201774597),\n",
              " ('however', 0.3374004364013672),\n",
              " ('world', 0.3336423933506012),\n",
              " ('neurons', 0.3263618052005768),\n",
              " ('fiction', 0.3261420726776123),\n",
              " ('human', 0.32249772548675537)]"
            ]
          },
          "metadata": {},
          "execution_count": 130
        }
      ]
    },
    {
      "cell_type": "markdown",
      "metadata": {
        "id": "tFV3mwv32tx6"
      },
      "source": [
        "## Распознание спама\n"
      ]
    },
    {
      "cell_type": "code",
      "metadata": {
        "id": "Ohk86_AkEpHO"
      },
      "source": [
        "#Загружаем данные и разархивируем"
      ],
      "execution_count": null,
      "outputs": []
    },
    {
      "cell_type": "code",
      "metadata": {
        "id": "MmBl1kYSgYKT",
        "colab": {
          "base_uri": "https://localhost:8080/"
        },
        "outputId": "a1e8b433-2706-4052-e99d-39770a8d7dd5"
      },
      "source": [
        "!wget https://archive.ics.uci.edu/ml/machine-learning-databases/00228/smsspamcollection.zip"
      ],
      "execution_count": null,
      "outputs": [
        {
          "output_type": "stream",
          "name": "stdout",
          "text": [
            "--2023-02-10 14:47:20--  https://archive.ics.uci.edu/ml/machine-learning-databases/00228/smsspamcollection.zip\n",
            "Resolving archive.ics.uci.edu (archive.ics.uci.edu)... 128.195.10.252\n",
            "Connecting to archive.ics.uci.edu (archive.ics.uci.edu)|128.195.10.252|:443... connected.\n",
            "HTTP request sent, awaiting response... 200 OK\n",
            "Length: 203415 (199K) [application/x-httpd-php]\n",
            "Saving to: ‘smsspamcollection.zip.1’\n",
            "\n",
            "smsspamcollection.z 100%[===================>] 198.65K   972KB/s    in 0.2s    \n",
            "\n",
            "2023-02-10 14:47:20 (972 KB/s) - ‘smsspamcollection.zip.1’ saved [203415/203415]\n",
            "\n"
          ]
        }
      ]
    },
    {
      "cell_type": "code",
      "metadata": {
        "id": "ou7R0VF0hLi0",
        "colab": {
          "base_uri": "https://localhost:8080/"
        },
        "outputId": "cb0fa724-fb61-430a-ddd9-e57798471271"
      },
      "source": [
        "!unzip smsspamcollection.zip"
      ],
      "execution_count": null,
      "outputs": [
        {
          "output_type": "stream",
          "name": "stdout",
          "text": [
            "Archive:  smsspamcollection.zip\n",
            "replace SMSSpamCollection? [y]es, [n]o, [A]ll, [N]one, [r]ename: "
          ]
        }
      ]
    },
    {
      "cell_type": "markdown",
      "source": [
        "Пакет torch содержит структуры данных для многомерных тензоров и определяет математические операции над этими тензорами. Кроме того, он предоставляет множество утилит для эффективной сериализации тензоров и произвольных типов, а также другие полезные утилиты."
      ],
      "metadata": {
        "id": "XHlKIi0ESufm"
      }
    },
    {
      "cell_type": "code",
      "metadata": {
        "id": "Tjo8ESvlhcPo"
      },
      "source": [
        "import torch\n",
        "import pandas as pd\n",
        "import numpy as np"
      ],
      "execution_count": null,
      "outputs": []
    },
    {
      "cell_type": "code",
      "metadata": {
        "id": "2u3JFt1_heVf"
      },
      "source": [
        "df = pd.read_table('SMSSpamCollection',sep='\\t',header=None, names=['label','sms_message'])"
      ],
      "execution_count": null,
      "outputs": []
    },
    {
      "cell_type": "code",
      "metadata": {
        "id": "e5ZHy_yREyZL"
      },
      "source": [
        "#Данные "
      ],
      "execution_count": null,
      "outputs": []
    },
    {
      "cell_type": "code",
      "metadata": {
        "id": "x52h9vRChx6N",
        "colab": {
          "base_uri": "https://localhost:8080/",
          "height": 206
        },
        "outputId": "4f4228a0-5a80-4817-d703-c6b218455ef9"
      },
      "source": [
        "df.head()"
      ],
      "execution_count": null,
      "outputs": [
        {
          "output_type": "execute_result",
          "data": {
            "text/plain": [
              "  label                                        sms_message\n",
              "0   ham  Go until jurong point, crazy.. Available only ...\n",
              "1   ham                      Ok lar... Joking wif u oni...\n",
              "2  spam  Free entry in 2 a wkly comp to win FA Cup fina...\n",
              "3   ham  U dun say so early hor... U c already then say...\n",
              "4   ham  Nah I don't think he goes to usf, he lives aro..."
            ],
            "text/html": [
              "\n",
              "  <div id=\"df-5a4c9d64-f696-43e5-8d32-e38a2869891a\">\n",
              "    <div class=\"colab-df-container\">\n",
              "      <div>\n",
              "<style scoped>\n",
              "    .dataframe tbody tr th:only-of-type {\n",
              "        vertical-align: middle;\n",
              "    }\n",
              "\n",
              "    .dataframe tbody tr th {\n",
              "        vertical-align: top;\n",
              "    }\n",
              "\n",
              "    .dataframe thead th {\n",
              "        text-align: right;\n",
              "    }\n",
              "</style>\n",
              "<table border=\"1\" class=\"dataframe\">\n",
              "  <thead>\n",
              "    <tr style=\"text-align: right;\">\n",
              "      <th></th>\n",
              "      <th>label</th>\n",
              "      <th>sms_message</th>\n",
              "    </tr>\n",
              "  </thead>\n",
              "  <tbody>\n",
              "    <tr>\n",
              "      <th>0</th>\n",
              "      <td>ham</td>\n",
              "      <td>Go until jurong point, crazy.. Available only ...</td>\n",
              "    </tr>\n",
              "    <tr>\n",
              "      <th>1</th>\n",
              "      <td>ham</td>\n",
              "      <td>Ok lar... Joking wif u oni...</td>\n",
              "    </tr>\n",
              "    <tr>\n",
              "      <th>2</th>\n",
              "      <td>spam</td>\n",
              "      <td>Free entry in 2 a wkly comp to win FA Cup fina...</td>\n",
              "    </tr>\n",
              "    <tr>\n",
              "      <th>3</th>\n",
              "      <td>ham</td>\n",
              "      <td>U dun say so early hor... U c already then say...</td>\n",
              "    </tr>\n",
              "    <tr>\n",
              "      <th>4</th>\n",
              "      <td>ham</td>\n",
              "      <td>Nah I don't think he goes to usf, he lives aro...</td>\n",
              "    </tr>\n",
              "  </tbody>\n",
              "</table>\n",
              "</div>\n",
              "      <button class=\"colab-df-convert\" onclick=\"convertToInteractive('df-5a4c9d64-f696-43e5-8d32-e38a2869891a')\"\n",
              "              title=\"Convert this dataframe to an interactive table.\"\n",
              "              style=\"display:none;\">\n",
              "        \n",
              "  <svg xmlns=\"http://www.w3.org/2000/svg\" height=\"24px\"viewBox=\"0 0 24 24\"\n",
              "       width=\"24px\">\n",
              "    <path d=\"M0 0h24v24H0V0z\" fill=\"none\"/>\n",
              "    <path d=\"M18.56 5.44l.94 2.06.94-2.06 2.06-.94-2.06-.94-.94-2.06-.94 2.06-2.06.94zm-11 1L8.5 8.5l.94-2.06 2.06-.94-2.06-.94L8.5 2.5l-.94 2.06-2.06.94zm10 10l.94 2.06.94-2.06 2.06-.94-2.06-.94-.94-2.06-.94 2.06-2.06.94z\"/><path d=\"M17.41 7.96l-1.37-1.37c-.4-.4-.92-.59-1.43-.59-.52 0-1.04.2-1.43.59L10.3 9.45l-7.72 7.72c-.78.78-.78 2.05 0 2.83L4 21.41c.39.39.9.59 1.41.59.51 0 1.02-.2 1.41-.59l7.78-7.78 2.81-2.81c.8-.78.8-2.07 0-2.86zM5.41 20L4 18.59l7.72-7.72 1.47 1.35L5.41 20z\"/>\n",
              "  </svg>\n",
              "      </button>\n",
              "      \n",
              "  <style>\n",
              "    .colab-df-container {\n",
              "      display:flex;\n",
              "      flex-wrap:wrap;\n",
              "      gap: 12px;\n",
              "    }\n",
              "\n",
              "    .colab-df-convert {\n",
              "      background-color: #E8F0FE;\n",
              "      border: none;\n",
              "      border-radius: 50%;\n",
              "      cursor: pointer;\n",
              "      display: none;\n",
              "      fill: #1967D2;\n",
              "      height: 32px;\n",
              "      padding: 0 0 0 0;\n",
              "      width: 32px;\n",
              "    }\n",
              "\n",
              "    .colab-df-convert:hover {\n",
              "      background-color: #E2EBFA;\n",
              "      box-shadow: 0px 1px 2px rgba(60, 64, 67, 0.3), 0px 1px 3px 1px rgba(60, 64, 67, 0.15);\n",
              "      fill: #174EA6;\n",
              "    }\n",
              "\n",
              "    [theme=dark] .colab-df-convert {\n",
              "      background-color: #3B4455;\n",
              "      fill: #D2E3FC;\n",
              "    }\n",
              "\n",
              "    [theme=dark] .colab-df-convert:hover {\n",
              "      background-color: #434B5C;\n",
              "      box-shadow: 0px 1px 3px 1px rgba(0, 0, 0, 0.15);\n",
              "      filter: drop-shadow(0px 1px 2px rgba(0, 0, 0, 0.3));\n",
              "      fill: #FFFFFF;\n",
              "    }\n",
              "  </style>\n",
              "\n",
              "      <script>\n",
              "        const buttonEl =\n",
              "          document.querySelector('#df-5a4c9d64-f696-43e5-8d32-e38a2869891a button.colab-df-convert');\n",
              "        buttonEl.style.display =\n",
              "          google.colab.kernel.accessAllowed ? 'block' : 'none';\n",
              "\n",
              "        async function convertToInteractive(key) {\n",
              "          const element = document.querySelector('#df-5a4c9d64-f696-43e5-8d32-e38a2869891a');\n",
              "          const dataTable =\n",
              "            await google.colab.kernel.invokeFunction('convertToInteractive',\n",
              "                                                     [key], {});\n",
              "          if (!dataTable) return;\n",
              "\n",
              "          const docLinkHtml = 'Like what you see? Visit the ' +\n",
              "            '<a target=\"_blank\" href=https://colab.research.google.com/notebooks/data_table.ipynb>data table notebook</a>'\n",
              "            + ' to learn more about interactive tables.';\n",
              "          element.innerHTML = '';\n",
              "          dataTable['output_type'] = 'display_data';\n",
              "          await google.colab.output.renderOutput(dataTable, element);\n",
              "          const docLink = document.createElement('div');\n",
              "          docLink.innerHTML = docLinkHtml;\n",
              "          element.appendChild(docLink);\n",
              "        }\n",
              "      </script>\n",
              "    </div>\n",
              "  </div>\n",
              "  "
            ]
          },
          "metadata": {},
          "execution_count": 104
        }
      ]
    },
    {
      "cell_type": "markdown",
      "metadata": {
        "id": "iOL8ZOTj7nLk"
      },
      "source": [
        "### Наивный Байесовский классификатор"
      ]
    },
    {
      "cell_type": "code",
      "metadata": {
        "id": "2XPxVNwcE0VQ"
      },
      "source": [
        "#заменяем целевую переменную"
      ],
      "execution_count": null,
      "outputs": []
    },
    {
      "cell_type": "code",
      "metadata": {
        "id": "dWkV2v6vh9_h",
        "colab": {
          "base_uri": "https://localhost:8080/",
          "height": 206
        },
        "outputId": "5cb94e51-991d-478f-c6f8-69f9d8cc1b59"
      },
      "source": [
        "df['label'] = df.label.map({'ham':0,'spam':1})\n",
        "df.head()"
      ],
      "execution_count": null,
      "outputs": [
        {
          "output_type": "execute_result",
          "data": {
            "text/plain": [
              "   label                                        sms_message\n",
              "0      0  Go until jurong point, crazy.. Available only ...\n",
              "1      0                      Ok lar... Joking wif u oni...\n",
              "2      1  Free entry in 2 a wkly comp to win FA Cup fina...\n",
              "3      0  U dun say so early hor... U c already then say...\n",
              "4      0  Nah I don't think he goes to usf, he lives aro..."
            ],
            "text/html": [
              "\n",
              "  <div id=\"df-58f54a49-76e5-4dd2-98bc-855721117c9b\">\n",
              "    <div class=\"colab-df-container\">\n",
              "      <div>\n",
              "<style scoped>\n",
              "    .dataframe tbody tr th:only-of-type {\n",
              "        vertical-align: middle;\n",
              "    }\n",
              "\n",
              "    .dataframe tbody tr th {\n",
              "        vertical-align: top;\n",
              "    }\n",
              "\n",
              "    .dataframe thead th {\n",
              "        text-align: right;\n",
              "    }\n",
              "</style>\n",
              "<table border=\"1\" class=\"dataframe\">\n",
              "  <thead>\n",
              "    <tr style=\"text-align: right;\">\n",
              "      <th></th>\n",
              "      <th>label</th>\n",
              "      <th>sms_message</th>\n",
              "    </tr>\n",
              "  </thead>\n",
              "  <tbody>\n",
              "    <tr>\n",
              "      <th>0</th>\n",
              "      <td>0</td>\n",
              "      <td>Go until jurong point, crazy.. Available only ...</td>\n",
              "    </tr>\n",
              "    <tr>\n",
              "      <th>1</th>\n",
              "      <td>0</td>\n",
              "      <td>Ok lar... Joking wif u oni...</td>\n",
              "    </tr>\n",
              "    <tr>\n",
              "      <th>2</th>\n",
              "      <td>1</td>\n",
              "      <td>Free entry in 2 a wkly comp to win FA Cup fina...</td>\n",
              "    </tr>\n",
              "    <tr>\n",
              "      <th>3</th>\n",
              "      <td>0</td>\n",
              "      <td>U dun say so early hor... U c already then say...</td>\n",
              "    </tr>\n",
              "    <tr>\n",
              "      <th>4</th>\n",
              "      <td>0</td>\n",
              "      <td>Nah I don't think he goes to usf, he lives aro...</td>\n",
              "    </tr>\n",
              "  </tbody>\n",
              "</table>\n",
              "</div>\n",
              "      <button class=\"colab-df-convert\" onclick=\"convertToInteractive('df-58f54a49-76e5-4dd2-98bc-855721117c9b')\"\n",
              "              title=\"Convert this dataframe to an interactive table.\"\n",
              "              style=\"display:none;\">\n",
              "        \n",
              "  <svg xmlns=\"http://www.w3.org/2000/svg\" height=\"24px\"viewBox=\"0 0 24 24\"\n",
              "       width=\"24px\">\n",
              "    <path d=\"M0 0h24v24H0V0z\" fill=\"none\"/>\n",
              "    <path d=\"M18.56 5.44l.94 2.06.94-2.06 2.06-.94-2.06-.94-.94-2.06-.94 2.06-2.06.94zm-11 1L8.5 8.5l.94-2.06 2.06-.94-2.06-.94L8.5 2.5l-.94 2.06-2.06.94zm10 10l.94 2.06.94-2.06 2.06-.94-2.06-.94-.94-2.06-.94 2.06-2.06.94z\"/><path d=\"M17.41 7.96l-1.37-1.37c-.4-.4-.92-.59-1.43-.59-.52 0-1.04.2-1.43.59L10.3 9.45l-7.72 7.72c-.78.78-.78 2.05 0 2.83L4 21.41c.39.39.9.59 1.41.59.51 0 1.02-.2 1.41-.59l7.78-7.78 2.81-2.81c.8-.78.8-2.07 0-2.86zM5.41 20L4 18.59l7.72-7.72 1.47 1.35L5.41 20z\"/>\n",
              "  </svg>\n",
              "      </button>\n",
              "      \n",
              "  <style>\n",
              "    .colab-df-container {\n",
              "      display:flex;\n",
              "      flex-wrap:wrap;\n",
              "      gap: 12px;\n",
              "    }\n",
              "\n",
              "    .colab-df-convert {\n",
              "      background-color: #E8F0FE;\n",
              "      border: none;\n",
              "      border-radius: 50%;\n",
              "      cursor: pointer;\n",
              "      display: none;\n",
              "      fill: #1967D2;\n",
              "      height: 32px;\n",
              "      padding: 0 0 0 0;\n",
              "      width: 32px;\n",
              "    }\n",
              "\n",
              "    .colab-df-convert:hover {\n",
              "      background-color: #E2EBFA;\n",
              "      box-shadow: 0px 1px 2px rgba(60, 64, 67, 0.3), 0px 1px 3px 1px rgba(60, 64, 67, 0.15);\n",
              "      fill: #174EA6;\n",
              "    }\n",
              "\n",
              "    [theme=dark] .colab-df-convert {\n",
              "      background-color: #3B4455;\n",
              "      fill: #D2E3FC;\n",
              "    }\n",
              "\n",
              "    [theme=dark] .colab-df-convert:hover {\n",
              "      background-color: #434B5C;\n",
              "      box-shadow: 0px 1px 3px 1px rgba(0, 0, 0, 0.15);\n",
              "      filter: drop-shadow(0px 1px 2px rgba(0, 0, 0, 0.3));\n",
              "      fill: #FFFFFF;\n",
              "    }\n",
              "  </style>\n",
              "\n",
              "      <script>\n",
              "        const buttonEl =\n",
              "          document.querySelector('#df-58f54a49-76e5-4dd2-98bc-855721117c9b button.colab-df-convert');\n",
              "        buttonEl.style.display =\n",
              "          google.colab.kernel.accessAllowed ? 'block' : 'none';\n",
              "\n",
              "        async function convertToInteractive(key) {\n",
              "          const element = document.querySelector('#df-58f54a49-76e5-4dd2-98bc-855721117c9b');\n",
              "          const dataTable =\n",
              "            await google.colab.kernel.invokeFunction('convertToInteractive',\n",
              "                                                     [key], {});\n",
              "          if (!dataTable) return;\n",
              "\n",
              "          const docLinkHtml = 'Like what you see? Visit the ' +\n",
              "            '<a target=\"_blank\" href=https://colab.research.google.com/notebooks/data_table.ipynb>data table notebook</a>'\n",
              "            + ' to learn more about interactive tables.';\n",
              "          element.innerHTML = '';\n",
              "          dataTable['output_type'] = 'display_data';\n",
              "          await google.colab.output.renderOutput(dataTable, element);\n",
              "          const docLink = document.createElement('div');\n",
              "          docLink.innerHTML = docLinkHtml;\n",
              "          element.appendChild(docLink);\n",
              "        }\n",
              "      </script>\n",
              "    </div>\n",
              "  </div>\n",
              "  "
            ]
          },
          "metadata": {},
          "execution_count": 106
        }
      ]
    },
    {
      "cell_type": "code",
      "metadata": {
        "id": "b_LGvC_eiO2R"
      },
      "source": [
        "#Делим на трейновую и тестовую выборку\n",
        "from sklearn.model_selection import train_test_split\n",
        "X_train, X_test, y_train, y_test = train_test_split(df['sms_message'], df['label'], random_state=1)"
      ],
      "execution_count": null,
      "outputs": []
    },
    {
      "cell_type": "code",
      "metadata": {
        "id": "-FXkBq1liubV"
      },
      "source": [
        "from sklearn.feature_extraction.text import CountVectorizer"
      ],
      "execution_count": null,
      "outputs": []
    },
    {
      "cell_type": "code",
      "metadata": {
        "id": "KGG3yn_ni4Fb"
      },
      "source": [
        "#Считаем количество слов в предложениях\n",
        "#получим матрицу размером (количество предложений Х размер словаря)\n",
        "\n",
        "count_vector = CountVectorizer()\n",
        "training_data = count_vector.fit_transform(X_train).toarray().astype('float')\n",
        "testing_data = count_vector.transform(X_test).toarray().astype('float')\n",
        "\n",
        "# переводим в тензоры\n",
        "train_tensor = torch.tensor(training_data)\n",
        "test_tensor = torch.tensor(testing_data)"
      ],
      "execution_count": null,
      "outputs": []
    },
    {
      "cell_type": "code",
      "metadata": {
        "id": "w-8u-n3JFMUc",
        "colab": {
          "base_uri": "https://localhost:8080/"
        },
        "outputId": "4752a941-226b-47d2-feb4-8ef7086d4bfa"
      },
      "source": [
        "# размер трейновой выборки\n",
        "training_data.shape"
      ],
      "execution_count": null,
      "outputs": [
        {
          "output_type": "execute_result",
          "data": {
            "text/plain": [
              "(4179, 7456)"
            ]
          },
          "metadata": {},
          "execution_count": 110
        }
      ]
    },
    {
      "cell_type": "code",
      "metadata": {
        "id": "6i7YMz6B--zl",
        "colab": {
          "base_uri": "https://localhost:8080/"
        },
        "outputId": "0a288344-ac9f-40b2-d90d-39b358331570"
      },
      "source": [
        "# всего слов в предложениях\n",
        "train_tensor.sum()"
      ],
      "execution_count": null,
      "outputs": [
        {
          "output_type": "execute_result",
          "data": {
            "text/plain": [
              "tensor(59839., dtype=torch.float64)"
            ]
          },
          "metadata": {},
          "execution_count": 111
        }
      ]
    },
    {
      "cell_type": "code",
      "metadata": {
        "id": "jv_Ayn9y-lSu",
        "colab": {
          "base_uri": "https://localhost:8080/"
        },
        "outputId": "385717cb-7a3c-4090-b397-4df86eed6738"
      },
      "source": [
        "# тензор с предложениями класса spam\n",
        "spam_train_tensor = train_tensor[(y_train == 1).values]\n",
        "\n",
        "# тензор с предложениями класса not_spam\n",
        "not_spam_train_tensor = train_tensor[(y_train == 0).values]\n",
        "spam_train_tensor.shape, not_spam_train_tensor.shape"
      ],
      "execution_count": null,
      "outputs": [
        {
          "output_type": "execute_result",
          "data": {
            "text/plain": [
              "(torch.Size([562, 7456]), torch.Size([3617, 7456]))"
            ]
          },
          "metadata": {},
          "execution_count": 112
        }
      ]
    },
    {
      "cell_type": "code",
      "metadata": {
        "id": "VeG_Gl8O_7D7",
        "colab": {
          "base_uri": "https://localhost:8080/"
        },
        "outputId": "0b87ac2d-f7d6-4fb4-b61e-910db64b7ae0"
      },
      "source": [
        "\n",
        "#Вероятность слова при условии что предложение спам\n",
        "p_w_spam = (spam_train_tensor.sum(axis=0)) / (spam_train_tensor.sum())\n",
        "\n",
        "#Вероятность слова при условии что предложение не спам\n",
        "p_w_not_spam = (not_spam_train_tensor.sum(axis=0)) / (not_spam_train_tensor.sum())\n",
        "\n",
        "p_w_spam, p_w_not_spam\n"
      ],
      "execution_count": null,
      "outputs": [
        {
          "output_type": "execute_result",
          "data": {
            "text/plain": [
              "(tensor([0.0004, 0.0018, 0.0002,  ..., 0.0000, 0.0000, 0.0000],\n",
              "        dtype=torch.float64),\n",
              " tensor([0.0000e+00, 0.0000e+00, 0.0000e+00,  ..., 2.1413e-05, 2.1413e-05,\n",
              "         2.1413e-05], dtype=torch.float64))"
            ]
          },
          "metadata": {},
          "execution_count": 113
        }
      ]
    },
    {
      "cell_type": "code",
      "metadata": {
        "id": "Ip3ppOacAFDb"
      },
      "source": [
        "# вероятность, что любое сообщение спам\n",
        "p_spam = (y_train == 1).values.sum() / len(y_train)\n",
        "\n",
        "# вероятность, что любое сообщение не спам\n",
        "p_not_spam = (y_train == 0).values.sum() / len(y_train)"
      ],
      "execution_count": null,
      "outputs": []
    },
    {
      "cell_type": "code",
      "metadata": {
        "id": "bueUTH1vQki-"
      },
      "source": [
        "#проверим на одном семпле\n",
        "test_sample = test_tensor[0]"
      ],
      "execution_count": null,
      "outputs": []
    },
    {
      "cell_type": "code",
      "metadata": {
        "id": "cWL7Ey59NIme",
        "colab": {
          "base_uri": "https://localhost:8080/"
        },
        "outputId": "4dafcb70-e441-416e-f44c-02e8a68ba572"
      },
      "source": [
        "# посчитает значение за спам \n",
        "# пляски с прибавлением числа e и вычитания единицы используются для того,\n",
        "# что бы небыло минус бесконечности после взятия логарифма и суммировались неотрицательные значения\n",
        "np.log(p_spam+2.71828182846)-1 + (((test_sample*p_w_spam)+2.71828182846).log()-1).sum()"
      ],
      "execution_count": null,
      "outputs": [
        {
          "output_type": "execute_result",
          "data": {
            "text/plain": [
              "tensor(0.0535, dtype=torch.float64)"
            ]
          },
          "metadata": {},
          "execution_count": 116
        }
      ]
    },
    {
      "cell_type": "code",
      "metadata": {
        "id": "VcnBJX-uNIto",
        "colab": {
          "base_uri": "https://localhost:8080/"
        },
        "outputId": "ed9a98b0-126b-4584-879e-ec62214a6cda"
      },
      "source": [
        "#посчитаем значение против спама\n",
        "np.log(p_not_spam+2.71828182846)-1 + (((test_sample*p_w_not_spam)+2.71828182846).log()-1).sum()"
      ],
      "execution_count": null,
      "outputs": [
        {
          "output_type": "execute_result",
          "data": {
            "text/plain": [
              "tensor(0.2841, dtype=torch.float64)"
            ]
          },
          "metadata": {},
          "execution_count": 117
        }
      ]
    },
    {
      "cell_type": "code",
      "metadata": {
        "id": "SLaVXqtVYNEx"
      },
      "source": [
        "# видно что значение против спама больше, чем значение за спам \n",
        "# соответственно значение не спам"
      ],
      "execution_count": null,
      "outputs": []
    },
    {
      "cell_type": "code",
      "metadata": {
        "id": "dOBlAOR2SXUk",
        "colab": {
          "base_uri": "https://localhost:8080/"
        },
        "outputId": "29a7affe-5091-401f-ba99-1acc3020028f"
      },
      "source": [
        "#посчитаем для всей тестовой выборки\n",
        "\n",
        "#размер тестовой выборки\n",
        "test_tensor.shape"
      ],
      "execution_count": null,
      "outputs": [
        {
          "output_type": "execute_result",
          "data": {
            "text/plain": [
              "torch.Size([1393, 7456])"
            ]
          },
          "metadata": {},
          "execution_count": 119
        }
      ]
    },
    {
      "cell_type": "code",
      "metadata": {
        "id": "fu1eCJFxA_yw"
      },
      "source": [
        "#посчитаем предсказания как сравнение величинв за спам и против спама\n",
        "y_pred = (np.log(p_spam+2.71828182846)-1 + (((test_tensor*p_w_spam)+2.71828182846).log()-1).sum(dim=1)) >= \\\n",
        " np.log(p_not_spam+2.71828182846)-1 + (((test_tensor*p_w_not_spam)+2.71828182846).log()-1).sum()"
      ],
      "execution_count": null,
      "outputs": []
    },
    {
      "cell_type": "code",
      "metadata": {
        "id": "EOIICObeUCRO",
        "colab": {
          "base_uri": "https://localhost:8080/"
        },
        "outputId": "3d8b245e-f097-49fc-f37c-70f68f78c5b5"
      },
      "source": [
        "# предсказанные значения\n",
        "y_pred.int()"
      ],
      "execution_count": null,
      "outputs": [
        {
          "output_type": "execute_result",
          "data": {
            "text/plain": [
              "tensor([0, 0, 0,  ..., 0, 0, 0], dtype=torch.int32)"
            ]
          },
          "metadata": {},
          "execution_count": 121
        }
      ]
    },
    {
      "cell_type": "code",
      "metadata": {
        "id": "XboU8FR8T_2I",
        "colab": {
          "base_uri": "https://localhost:8080/"
        },
        "outputId": "809b9039-3eb9-4a7c-bff5-9623d6de1530"
      },
      "source": [
        "#истиные значение\n",
        "y_test.to_numpy()"
      ],
      "execution_count": null,
      "outputs": [
        {
          "output_type": "execute_result",
          "data": {
            "text/plain": [
              "array([0, 0, 0, ..., 0, 1, 0])"
            ]
          },
          "metadata": {},
          "execution_count": 122
        }
      ]
    },
    {
      "cell_type": "code",
      "metadata": {
        "id": "YUOya3FpTy-O"
      },
      "source": [
        "#сравним реальные метки с предсказанными\n",
        "test = (y_pred == torch.tensor(y_test.to_numpy()))"
      ],
      "execution_count": null,
      "outputs": []
    },
    {
      "cell_type": "code",
      "metadata": {
        "id": "dXUoRgb7UXZl",
        "colab": {
          "base_uri": "https://localhost:8080/"
        },
        "outputId": "b0af006b-1586-4387-f3fe-722289571531"
      },
      "source": [
        "#посчитаем точность модели как отношение количество совпадений к размеру выборки  \n",
        "test.sum().item()/test.shape[0]"
      ],
      "execution_count": null,
      "outputs": [
        {
          "output_type": "execute_result",
          "data": {
            "text/plain": [
              "0.8671931083991385"
            ]
          },
          "metadata": {},
          "execution_count": 124
        }
      ]
    },
    {
      "cell_type": "code",
      "metadata": {
        "id": "8sJWduFqEPnM"
      },
      "source": [
        "from sklearn.naive_bayes import MultinomialNB\n",
        "\n",
        "# обучить классификатор\n",
        "classifier = MultinomialNB()\n",
        "classifier.fit(train_tensor, y_train)\n",
        "predicted = classifier.predict(test_tensor) "
      ],
      "execution_count": null,
      "outputs": []
    },
    {
      "cell_type": "code",
      "source": [
        "predicted.shape"
      ],
      "metadata": {
        "colab": {
          "base_uri": "https://localhost:8080/"
        },
        "id": "nbNwJ3HAXNzN",
        "outputId": "a67cb9e2-7f16-4d9a-8211-c7ba542fa771"
      },
      "execution_count": null,
      "outputs": [
        {
          "output_type": "execute_result",
          "data": {
            "text/plain": [
              "(1393,)"
            ]
          },
          "metadata": {},
          "execution_count": 126
        }
      ]
    },
    {
      "cell_type": "code",
      "source": [
        "y_test.shape"
      ],
      "metadata": {
        "colab": {
          "base_uri": "https://localhost:8080/"
        },
        "id": "IanPQai8XR1l",
        "outputId": "e31b0020-ea63-4e59-848b-79e683490ec3"
      },
      "execution_count": null,
      "outputs": [
        {
          "output_type": "execute_result",
          "data": {
            "text/plain": [
              "(1393,)"
            ]
          },
          "metadata": {},
          "execution_count": 127
        }
      ]
    },
    {
      "cell_type": "markdown",
      "source": [
        "Как мы видим, количество ошибок довольно сбалансировано между законным и спамом: 5 легитимных сообщения классифицируются как спам, а 11 спам-сообщений классифицируются как легитимные. В целом, это очень хорошие результаты для нашего простого классификатора."
      ],
      "metadata": {
        "id": "N4-iKEijYAUQ"
      }
    },
    {
      "cell_type": "code",
      "source": [
        "from sklearn.metrics import confusion_matrix, accuracy_score\n",
        " \n",
        "print(confusion_matrix(y_test, predicted)) "
      ],
      "metadata": {
        "colab": {
          "base_uri": "https://localhost:8080/"
        },
        "id": "6pWYHajpVhls",
        "outputId": "e3159bf0-802f-4c8f-a53c-97d71000c790"
      },
      "execution_count": null,
      "outputs": [
        {
          "output_type": "stream",
          "name": "stdout",
          "text": [
            "[[1203    5]\n",
            " [  11  174]]\n"
          ]
        }
      ]
    },
    {
      "cell_type": "code",
      "source": [
        "accuracy_score(y_test, predicted)"
      ],
      "metadata": {
        "colab": {
          "base_uri": "https://localhost:8080/"
        },
        "id": "asRvgxZPXkT9",
        "outputId": "6968d834-27bc-412c-da85-8a20af5470ea"
      },
      "execution_count": null,
      "outputs": [
        {
          "output_type": "execute_result",
          "data": {
            "text/plain": [
              "0.9885139985642498"
            ]
          },
          "metadata": {},
          "execution_count": 129
        }
      ]
    }
  ]
}