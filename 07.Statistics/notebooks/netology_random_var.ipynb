{
  "nbformat": 4,
  "nbformat_minor": 0,
  "metadata": {
    "kernelspec": {
      "display_name": "Python 3",
      "language": "python",
      "name": "python3"
    },
    "language_info": {
      "codemirror_mode": {
        "name": "ipython",
        "version": 3
      },
      "file_extension": ".py",
      "mimetype": "text/x-python",
      "name": "python",
      "nbconvert_exporter": "python",
      "pygments_lexer": "ipython3",
      "version": "3.7.9"
    },
    "colab": {
      "provenance": [],
      "collapsed_sections": [],
      "toc_visible": true
    }
  },
  "cells": [
    {
      "cell_type": "markdown",
      "source": [
        "https://bit.ly/DSN-3-var"
      ],
      "metadata": {
        "id": "08Zi59U873ct"
      }
    },
    {
      "cell_type": "markdown",
      "metadata": {
        "id": "nXOA4pGqoi7p"
      },
      "source": [
        "# Случайные события. Случайные величины\n",
        "\n",
        "Пономарева Юлия:  \n",
        "* [LinkedIn](https://www.linkedin.com/in/%D1%8E%D0%BB%D0%B8%D1%8F-%D0%BF%D0%BE%D0%BD%D0%BE%D0%BC%D0%B0%D1%80%D0%B5%D0%B2%D0%B0-4740761bb/)  \n",
        "* [Мой YouTube канал по DS, ML, AI](https://www.youtube.com/c/machinelearrrning)"
      ]
    },
    {
      "cell_type": "code",
      "metadata": {
        "id": "PGZL3xvVoeTM"
      },
      "source": [
        "import numpy as np"
      ],
      "execution_count": null,
      "outputs": []
    },
    {
      "cell_type": "code",
      "metadata": {
        "id": "YJPemaJOoeTR",
        "colab": {
          "base_uri": "https://localhost:8080/"
        },
        "outputId": "97222571-9f77-433c-a823-281d309e1065"
      },
      "source": [
        "# генерируем дискретную величину\n",
        "np.random.randint(1, 5)"
      ],
      "execution_count": null,
      "outputs": [
        {
          "output_type": "execute_result",
          "data": {
            "text/plain": [
              "4"
            ]
          },
          "metadata": {},
          "execution_count": 2
        }
      ]
    },
    {
      "cell_type": "code",
      "metadata": {
        "id": "G6L4hJQKoeTS",
        "colab": {
          "base_uri": "https://localhost:8080/"
        },
        "outputId": "7506933c-5c61-4700-f6e5-d8b14631e680"
      },
      "source": [
        "np.random.randint(1, 5, 10)"
      ],
      "execution_count": null,
      "outputs": [
        {
          "output_type": "execute_result",
          "data": {
            "text/plain": [
              "array([1, 4, 3, 3, 2, 1, 2, 3, 2, 3])"
            ]
          },
          "metadata": {},
          "execution_count": 3
        }
      ]
    },
    {
      "cell_type": "code",
      "metadata": {
        "id": "2oJZcFUtoeTS",
        "colab": {
          "base_uri": "https://localhost:8080/"
        },
        "outputId": "389c004f-f958-44d9-9509-7782e286e1de"
      },
      "source": [
        "# генерируем непрерывную величину\n",
        "np.random.random(10)"
      ],
      "execution_count": null,
      "outputs": [
        {
          "output_type": "execute_result",
          "data": {
            "text/plain": [
              "array([0.41890507, 0.12113742, 0.82646563, 0.35172445, 0.99724185,\n",
              "       0.98678523, 0.43318064, 0.34045349, 0.56074073, 0.23119078])"
            ]
          },
          "metadata": {},
          "execution_count": 4
        }
      ]
    },
    {
      "cell_type": "code",
      "metadata": {
        "id": "m8sHru95oeTT",
        "colab": {
          "base_uri": "https://localhost:8080/"
        },
        "outputId": "1545b32f-e507-4cbf-ba4e-144dd81e5ed7"
      },
      "source": [
        "np.random.uniform(1, 5)"
      ],
      "execution_count": null,
      "outputs": [
        {
          "output_type": "execute_result",
          "data": {
            "text/plain": [
              "2.3958431123675634"
            ]
          },
          "metadata": {},
          "execution_count": 5
        }
      ]
    },
    {
      "cell_type": "code",
      "metadata": {
        "id": "yIYQIh1coeTT",
        "colab": {
          "base_uri": "https://localhost:8080/"
        },
        "outputId": "43482de0-b23a-44eb-d534-0708a5a501ac"
      },
      "source": [
        "np.random.uniform(1, 5, 10)"
      ],
      "execution_count": null,
      "outputs": [
        {
          "output_type": "execute_result",
          "data": {
            "text/plain": [
              "array([4.56463592, 1.06116091, 2.17252035, 1.9945426 , 2.24863297,\n",
              "       3.82351449, 4.24279082, 2.38508424, 4.24252557, 2.45915695])"
            ]
          },
          "metadata": {},
          "execution_count": 6
        }
      ]
    },
    {
      "cell_type": "code",
      "metadata": {
        "id": "z1ulCBFjBbuz",
        "colab": {
          "base_uri": "https://localhost:8080/"
        },
        "outputId": "59923667-c549-4a56-9f9c-3ba20d450295"
      },
      "source": [
        "np.random.seed(None)\n",
        "np.random.randint(1, 5, 5)"
      ],
      "execution_count": null,
      "outputs": [
        {
          "output_type": "execute_result",
          "data": {
            "text/plain": [
              "array([1, 2, 3, 4, 4])"
            ]
          },
          "metadata": {},
          "execution_count": 9
        }
      ]
    },
    {
      "cell_type": "markdown",
      "metadata": {
        "id": "HKqYmkjsoeTT"
      },
      "source": [
        "## **Задача 1.**\n",
        " Оценить вероятность того, что на игральной кости выпадет больше 4 очков. Сравнить с теоретической вероятностью."
      ]
    },
    {
      "cell_type": "code",
      "metadata": {
        "id": "EZX-A7geoeTW",
        "colab": {
          "base_uri": "https://localhost:8080/"
        },
        "outputId": "1770eab7-476a-4692-a23b-8cff58e94a18"
      },
      "source": [
        "trials = 10    # Количество попыток\n",
        "successes = 0    # Количество успехов\n",
        "\n",
        "for i in range(trials):\n",
        "    random_score = np.random.randint(1, 7)    # Случайное количество очков от 1 до 6\n",
        "    if random_score > 4:\n",
        "        successes += 1\n",
        "        \n",
        "p_monte_carlo = successes / trials    # Вероятность из моделирования\n",
        "p = 2 / 6                             # Теоретическая вероятность\n",
        "\n",
        "print(successes, trials, p_monte_carlo, p)"
      ],
      "execution_count": null,
      "outputs": [
        {
          "output_type": "stream",
          "name": "stdout",
          "text": [
            "2 10 0.2 0.3333333333333333\n"
          ]
        }
      ]
    },
    {
      "cell_type": "markdown",
      "metadata": {
        "id": "yqMozu-9oeTa"
      },
      "source": [
        "## **Задача 2.**\n",
        " Смоделировать стрельбу по мишени."
      ]
    },
    {
      "cell_type": "code",
      "metadata": {
        "id": "ZFk3cFwKoeTa",
        "colab": {
          "base_uri": "https://localhost:8080/",
          "height": 265
        },
        "outputId": "0e30a2ed-5e2b-4b62-deb9-6631d7e61dbe"
      },
      "source": [
        "import matplotlib.pyplot as plt\n",
        "\n",
        "shots = 1000  # Количество выстрелов\n",
        "std_dev = 1  # Стандартное отклонение (на сколько мы в среднем будем мазать)\n",
        "\n",
        "x = np.random.normal(0, std_dev, shots) # 0 - и среднее, и мода, и медиана\n",
        "y = np.random.normal(0, std_dev, shots)\n",
        "\n",
        "\n",
        "plt.scatter(x, y);\n",
        "# почему разброс от -3 до 3?"
      ],
      "execution_count": null,
      "outputs": [
        {
          "output_type": "display_data",
          "data": {
            "text/plain": [
              "<Figure size 432x288 with 1 Axes>"
            ],
            "image/png": "[encoded data removed]"
          },
          "metadata": {
            "needs_background": "light"
          }
        }
      ]
    },
    {
      "cell_type": "code",
      "source": [
        "plt.hist(x);"
      ],
      "metadata": {
        "colab": {
          "base_uri": "https://localhost:8080/",
          "height": 265
        },
        "id": "GJSt-_0f-siZ",
        "outputId": "00fc87ea-dfd5-422b-9d2b-2ebcf4099fa3"
      },
      "execution_count": null,
      "outputs": [
        {
          "output_type": "display_data",
          "data": {
            "text/plain": [
              "<Figure size 432x288 with 1 Axes>"
            ],
            "image/png": "[encoded data removed]"
          },
          "metadata": {
            "needs_background": "light"
          }
        }
      ]
    },
    {
      "cell_type": "code",
      "source": [
        "plt.hist(y);"
      ],
      "metadata": {
        "colab": {
          "base_uri": "https://localhost:8080/",
          "height": 265
        },
        "id": "WCrxHGfB-yKL",
        "outputId": "deee14e4-4939-4711-c80d-47a2cf1467a5"
      },
      "execution_count": null,
      "outputs": [
        {
          "output_type": "display_data",
          "data": {
            "text/plain": [
              "<Figure size 432x288 with 1 Axes>"
            ],
            "image/png": "[encoded data removed]"
          },
          "metadata": {
            "needs_background": "light"
          }
        }
      ]
    },
    {
      "cell_type": "markdown",
      "metadata": {
        "id": "l_0GysxhoeTb"
      },
      "source": [
        "## **Задача 3.**\n",
        " Графически определить распределение измеренных значений физической величины, когда измерительный прибор имеет случайную погрешность."
      ]
    },
    {
      "cell_type": "code",
      "metadata": {
        "id": "REebYTl8oeTb",
        "colab": {
          "base_uri": "https://localhost:8080/"
        },
        "outputId": "f9f496d8-0a68-49f7-c200-6b8ea832244f"
      },
      "source": [
        "import pandas as pd\n",
        "\n",
        "data = pd.read_csv(\"https://raw.githubusercontent.com/obulygin/netology_pyda_files/main/data.log\", sep=\" \")[\"az\"]\n",
        "data.describe()"
      ],
      "execution_count": null,
      "outputs": [
        {
          "output_type": "execute_result",
          "data": {
            "text/plain": [
              "count    1040.000000\n",
              "mean       -9.797112\n",
              "std         0.087958\n",
              "min       -10.030373\n",
              "25%        -9.866481\n",
              "50%        -9.800747\n",
              "75%        -9.727398\n",
              "max        -9.570811\n",
              "Name: az, dtype: float64"
            ]
          },
          "metadata": {},
          "execution_count": 25
        }
      ]
    },
    {
      "cell_type": "code",
      "metadata": {
        "id": "p84mWD6CoeTc",
        "colab": {
          "base_uri": "https://localhost:8080/",
          "height": 265
        },
        "outputId": "6b1f8087-64ef-40fe-a239-c07cbef789ca"
      },
      "source": [
        "data.plot();"
      ],
      "execution_count": null,
      "outputs": [
        {
          "output_type": "display_data",
          "data": {
            "text/plain": [
              "<Figure size 432x288 with 1 Axes>"
            ],
            "image/png": "[encoded data removed]"
          },
          "metadata": {
            "needs_background": "light"
          }
        }
      ]
    },
    {
      "cell_type": "code",
      "source": [
        "plt.hist(data, bins=11)\n",
        "plt.show()"
      ],
      "metadata": {
        "colab": {
          "base_uri": "https://localhost:8080/",
          "height": 265
        },
        "id": "Q3Ok3loV_KOm",
        "outputId": "d68a7099-8235-4ba4-ce7e-7c2da1e61886"
      },
      "execution_count": null,
      "outputs": [
        {
          "output_type": "display_data",
          "data": {
            "text/plain": [
              "<Figure size 432x288 with 1 Axes>"
            ],
            "image/png": "[encoded data removed]"
          },
          "metadata": {
            "needs_background": "light"
          }
        }
      ]
    },
    {
      "cell_type": "code",
      "metadata": {
        "id": "lZSTBr-poeTb"
      },
      "source": [
        "uni = np.random.uniform(data.min(), data.max(), 10000)\n",
        "normal = np.random.normal(data.mean(), data.std(), 10000)"
      ],
      "execution_count": null,
      "outputs": []
    },
    {
      "cell_type": "code",
      "metadata": {
        "id": "XkKEW5SDoeTc",
        "colab": {
          "base_uri": "https://localhost:8080/",
          "height": 515
        },
        "outputId": "c35b6d32-e0e8-442d-bbd9-80db0449bdb2"
      },
      "source": [
        "plt.hist(uni, bins=11)\n",
        "plt.show()\n",
        "plt.hist(normal, bins=11)\n",
        "plt.show()"
      ],
      "execution_count": null,
      "outputs": [
        {
          "output_type": "display_data",
          "data": {
            "text/plain": [
              "<Figure size 432x288 with 1 Axes>"
            ],
            "image/png": "[encoded data removed]"
          },
          "metadata": {
            "needs_background": "light"
          }
        },
        {
          "output_type": "display_data",
          "data": {
            "text/plain": [
              "<Figure size 432x288 with 1 Axes>"
            ],
            "image/png": "[encoded data removed]"
          },
          "metadata": {
            "needs_background": "light"
          }
        }
      ]
    },
    {
      "cell_type": "markdown",
      "metadata": {
        "id": "M6O0YMakoeTd"
      },
      "source": [
        "## **Задача 4.**\n",
        " Рассчитать вероятность того, что пациент заражён COVID-19, если известно, что тест дал положительный результат. Сравнить с результатом моделирования."
      ]
    },
    {
      "cell_type": "code",
      "metadata": {
        "id": "pR9cS38LoeTd",
        "colab": {
          "base_uri": "https://localhost:8080/"
        },
        "outputId": "4889cb1d-af26-45d6-8b17-676ee19420eb"
      },
      "source": [
        "prev = 0.1    # Распространённость болезни\n",
        "sens = 0.98   # Чувствительность теста\n",
        "spec = 0.95   # Специфичность теста\n",
        "\n",
        "p = (sens * prev) / (sens * prev + (1 - spec) * (1 - prev))   # Теоретическая вероятность \n",
        "print(p)"
      ],
      "execution_count": null,
      "outputs": [
        {
          "output_type": "stream",
          "name": "stdout",
          "text": [
            "0.6853146853146851\n"
          ]
        }
      ]
    },
    {
      "cell_type": "code",
      "metadata": {
        "id": "d_YGeyIjoeTd",
        "colab": {
          "base_uri": "https://localhost:8080/"
        },
        "outputId": "6640a915-ad02-4d54-8c6a-f8a754f16ca4"
      },
      "source": [
        "population = 1000000    # Количество испытуемых\n",
        "\n",
        "true_pos = 0    # Количество больных с положительным тестом\n",
        "false_pos = 0   # Количество здоровых с положительным тестом\n",
        "\n",
        "for i in range(population):\n",
        "    # Наугад решаем, заражён ли человек\n",
        "    # для этого генерируем случайную величину от 0 до 1     \n",
        "    infected = np.random.uniform() < prev\n",
        "    \n",
        "    # Наугад решаем, дал ли тест положительный результат \n",
        "    positive = np.random.uniform() < sens if infected else np.random.uniform() < 1 - spec\n",
        "    \n",
        "    if positive:\n",
        "        if infected:\n",
        "            true_pos += 1\n",
        "        else:\n",
        "            false_pos += 1\n",
        "            \n",
        "p_monte_carlo = true_pos / (true_pos + false_pos)    # частота из моделирования\n",
        "p_monte_carlo"
      ],
      "execution_count": null,
      "outputs": [
        {
          "output_type": "execute_result",
          "data": {
            "text/plain": [
              "0.6866365559270919"
            ]
          },
          "metadata": {},
          "execution_count": 32
        }
      ]
    }
  ]
}