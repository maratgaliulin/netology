{
 "cells": [
  {
   "cell_type": "code",
   "execution_count": 21,
   "metadata": {},
   "outputs": [],
   "source": [
    "import numpy as np\n",
    "import pandas as pd \n",
    "import sympy as sym"
   ]
  },
  {
   "cell_type": "code",
   "execution_count": 22,
   "metadata": {},
   "outputs": [],
   "source": [
    "film_1 = np.array([0,0,0,0,1,0])\n",
    "film_2 = np.array([0,1,0,1,0,0])\n",
    "film_3 = np.array([0,0,1,1,1,0])\n",
    "film_4 = np.array([1,0,0,1,0,1])"
   ]
  },
  {
   "cell_type": "markdown",
   "metadata": {},
   "source": [
    "Задание 1 - угол между фильмами Ярость и 12 лет рабства"
   ]
  },
  {
   "cell_type": "code",
   "execution_count": 23,
   "metadata": {},
   "outputs": [],
   "source": [
    "def angle_bw_vectors(vec1, vec2):\n",
    "    dot_films_2_3 = film_2.dot(film_3)\n",
    "    norm_films_2_3 = np.linalg.norm(vec1) * np.linalg.norm(vec2)\n",
    "\n",
    "    return np.rad2deg(np.arccos(dot_films_2_3 / norm_films_2_3))"
   ]
  },
  {
   "cell_type": "code",
   "execution_count": 24,
   "metadata": {},
   "outputs": [
    {
     "name": "stdout",
     "output_type": "stream",
     "text": [
      "65.90515744788931\n"
     ]
    }
   ],
   "source": [
    "angle_2_3 = angle_bw_vectors(film_2, film_3)\n",
    "\n",
    "print(angle_2_3)"
   ]
  },
  {
   "cell_type": "markdown",
   "metadata": {},
   "source": [
    "Задание 2 - вычислить значение первой производной для функции"
   ]
  },
  {
   "cell_type": "code",
   "execution_count": 31,
   "metadata": {},
   "outputs": [
    {
     "name": "stdout",
     "output_type": "stream",
     "text": [
      "3*x*(6*x + 3)*(x**2 + x)**2 + 3*(x**2 + x)**3\n"
     ]
    },
    {
     "data": {
      "text/latex": [
       "$\\displaystyle 3 x \\left(6 x + 3\\right) \\left(x^{2} + x\\right)^{2} + 3 \\left(x^{2} + x\\right)^{3}$"
      ],
      "text/plain": [
       "3*x*(6*x + 3)*(x**2 + x)**2 + 3*(x**2 + x)**3"
      ]
     },
     "execution_count": 31,
     "metadata": {},
     "output_type": "execute_result"
    }
   ],
   "source": [
    "x = sym.Symbol('x')\n",
    "diff_func = 3*x * (x**2 + x)**3\n",
    "\n",
    "res = sym.diff(diff_func, x)\n",
    "\n",
    "print(res)\n",
    "\n",
    "res"
   ]
  },
  {
   "cell_type": "markdown",
   "metadata": {},
   "source": [
    "Задание 3 - объединить векторы фильмов в матрицу и умножить вектор [1,2,3,4]  на полученную матрицу"
   ]
  },
  {
   "cell_type": "code",
   "execution_count": 26,
   "metadata": {},
   "outputs": [],
   "source": [
    "film_matrix = np.array([film_1, film_2, film_3, film_4])\n",
    "\n",
    "twisted_matrix = film_matrix.T"
   ]
  },
  {
   "cell_type": "code",
   "execution_count": 40,
   "metadata": {},
   "outputs": [],
   "source": [
    "vect = np.array([1,2,3,4])\n",
    "\n",
    "dot_multiply = twisted_matrix.dot(vect)\n",
    "\n",
    "norm_multiply = np.linalg.norm(film_matrix) * np.linalg.norm(vect)\n",
    "\n",
    "ordinary_multiply = twisted_matrix * vect\n",
    "\n",
    "scalar_multiply = np.matmul(twisted_matrix, vect)"
   ]
  },
  {
   "cell_type": "code",
   "execution_count": 41,
   "metadata": {},
   "outputs": [
    {
     "name": "stdout",
     "output_type": "stream",
     "text": [
      "[4 2 3 9 4 4]\n"
     ]
    }
   ],
   "source": [
    "print(dot_multiply)"
   ]
  },
  {
   "cell_type": "code",
   "execution_count": 42,
   "metadata": {},
   "outputs": [
    {
     "name": "stdout",
     "output_type": "stream",
     "text": [
      "16.431676725154983\n"
     ]
    }
   ],
   "source": [
    "print(norm_multiply)"
   ]
  },
  {
   "cell_type": "code",
   "execution_count": 43,
   "metadata": {},
   "outputs": [
    {
     "name": "stdout",
     "output_type": "stream",
     "text": [
      "[[0 0 0 4]\n",
      " [0 2 0 0]\n",
      " [0 0 3 0]\n",
      " [0 2 3 4]\n",
      " [1 0 3 0]\n",
      " [0 0 0 4]]\n"
     ]
    }
   ],
   "source": [
    "print(ordinary_multiply)"
   ]
  },
  {
   "cell_type": "code",
   "execution_count": 44,
   "metadata": {},
   "outputs": [
    {
     "name": "stdout",
     "output_type": "stream",
     "text": [
      "[4 2 3 9 4 4]\n"
     ]
    }
   ],
   "source": [
    "print(scalar_multiply)"
   ]
  }
 ],
 "metadata": {
  "kernelspec": {
   "display_name": "Python 3.10.3 64-bit",
   "language": "python",
   "name": "python3"
  },
  "language_info": {
   "codemirror_mode": {
    "name": "ipython",
    "version": 3
   },
   "file_extension": ".py",
   "mimetype": "text/x-python",
   "name": "python",
   "nbconvert_exporter": "python",
   "pygments_lexer": "ipython3",
   "version": "3.10.3"
  },
  "orig_nbformat": 4,
  "vscode": {
   "interpreter": {
    "hash": "369f2c481f4da34e4445cda3fffd2e751bd1c4d706f27375911949ba6bb62e1c"
   }
  }
 },
 "nbformat": 4,
 "nbformat_minor": 2
}
