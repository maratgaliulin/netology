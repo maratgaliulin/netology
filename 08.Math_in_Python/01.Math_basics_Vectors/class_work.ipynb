{
 "cells": [
  {
   "cell_type": "code",
   "execution_count": 1,
   "metadata": {},
   "outputs": [],
   "source": [
    "import numpy as np\n",
    "import matplotlib.pyplot as plt"
   ]
  },
  {
   "cell_type": "code",
   "execution_count": null,
   "metadata": {},
   "outputs": [],
   "source": [
    "# 1 ) -----------------  VECTORS -----------------\n",
    "\n",
    "# а) --------  ОТОБРАЖЕНИЕ ЕДИНИЧНЫХ ТОЧЕК НА ГРАФИКЕ"
   ]
  },
  {
   "cell_type": "code",
   "execution_count": null,
   "metadata": {},
   "outputs": [],
   "source": [
    "v = np.array([1,2,3, np.pi, 5.25])\n",
    "\n",
    "x1 = np.array([1,2])\n",
    "x2 = np.array([-1.5,1])\n",
    "x3 = np.array([0.5,-1.2])\n",
    "\n",
    "plt.figure()\n",
    "\n",
    "plt.plot(x1[0], x1[1], 'b+')\n",
    "plt.plot(x2[0], x2[1], 'r*')\n",
    "plt.plot(x3[0], x3[1], 'go')\n",
    "\n",
    "plt.grid()\n",
    "\n",
    "plt.xlim([-3, 3])\n",
    "plt.ylim([-3, 3])\n",
    "\n",
    "plt.show()\n",
    "\n",
    "\n",
    "\n",
    "a = np.array([3, 3, 2, 4])\n",
    "b = np.array([1, 2, 1, 3])\n",
    "c = a + b\n",
    "\n",
    "print(np.dot(a,b))  # Скалярное произведение векторов\n",
    "print(c)"
   ]
  }
 ],
 "metadata": {
  "kernelspec": {
   "display_name": "Python 3",
   "language": "python",
   "name": "python3"
  },
  "language_info": {
   "codemirror_mode": {
    "name": "ipython",
    "version": 3
   },
   "file_extension": ".py",
   "mimetype": "text/x-python",
   "name": "python",
   "nbconvert_exporter": "python",
   "pygments_lexer": "ipython3",
   "version": "3.10.3"
  },
  "orig_nbformat": 4,
  "vscode": {
   "interpreter": {
    "hash": "369f2c481f4da34e4445cda3fffd2e751bd1c4d706f27375911949ba6bb62e1c"
   }
  }
 },
 "nbformat": 4,
 "nbformat_minor": 2
}
