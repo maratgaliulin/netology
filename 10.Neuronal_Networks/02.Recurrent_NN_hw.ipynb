{
  "cells": [
    {
      "cell_type": "markdown",
      "metadata": {
        "collapsed": true,
        "id": "l4VAzKlG8aHj"
      },
      "source": [
        "## Neural Part Of Speech Tagging\n",
        "\n",
        "We're now going to solve the same problem of POS tagging with neural networks.\n",
        "<img src=https://i.stack.imgur.com/6pdIT.png width=320>\n",
        "\n",
        "From deep learning perspective, this is a task of predicting a sequence of outputs aligned to a sequence of inputs. There are several problems that match this formulation:\n",
        "* Part Of Speech Tagging -  an auxuliary task for many NLP problems\n",
        "* Named Entity Recognition - for chat bots and web crawlers\n",
        "* Protein structure prediction - for bioinformatics"
      ]
    },
    {
      "cell_type": "code",
      "execution_count": 1,
      "metadata": {
        "id": "wnu9D3YZoH2e"
      },
      "outputs": [
        {
          "name": "stderr",
          "output_type": "stream",
          "text": [
            "UsageError: Line magic function `%tensorflow_version` not found.\n"
          ]
        }
      ],
      "source": [
        "%tensorflow_version 1.x"
      ]
    },
    {
      "cell_type": "code",
      "execution_count": 2,
      "metadata": {
        "id": "yxFUBtb88aHq",
        "scrolled": true
      },
      "outputs": [
        {
          "name": "stderr",
          "output_type": "stream",
          "text": [
            "[nltk_data] Downloading package brown to\n",
            "[nltk_data]     C:\\Users\\egoma\\AppData\\Roaming\\nltk_data...\n",
            "[nltk_data]   Package brown is already up-to-date!\n",
            "[nltk_data] Downloading package universal_tagset to\n",
            "[nltk_data]     C:\\Users\\egoma\\AppData\\Roaming\\nltk_data...\n",
            "[nltk_data]   Package universal_tagset is already up-to-date!\n",
            "C:\\Users\\egoma\\AppData\\Local\\Temp\\ipykernel_11292\\2855389900.py:10: VisibleDeprecationWarning: Creating an ndarray from ragged nested sequences (which is a list-or-tuple of lists-or-tuples-or ndarrays with different lengths or shapes) is deprecated. If you meant to do this, you must specify 'dtype=object' when creating the ndarray.\n",
            "  data = np.array([ [(word.lower(),tag) for word,tag in sentence] for sentence in data ])\n"
          ]
        }
      ],
      "source": [
        "import nltk\n",
        "import sys\n",
        "import numpy as np\n",
        "\n",
        "nltk.download('brown')\n",
        "nltk.download('universal_tagset')\n",
        "data = nltk.corpus.brown.tagged_sents(tagset='universal')\n",
        "all_tags = ['#EOS#','#UNK#','ADV', 'NOUN', 'ADP', 'PRON', 'DET', '.', 'PRT', 'VERB', 'X', 'NUM', 'CONJ', 'ADJ']\n",
        "\n",
        "data = np.array([ [(word.lower(),tag) for word,tag in sentence] for sentence in data ])"
      ]
    },
    {
      "cell_type": "code",
      "execution_count": 3,
      "metadata": {},
      "outputs": [],
      "source": [
        "import tensorflow as tf\n",
        "\n",
        "# gpus = tf.config.list_physical_devices('GPU')"
      ]
    },
    {
      "cell_type": "code",
      "execution_count": 4,
      "metadata": {},
      "outputs": [],
      "source": [
        "# gpus[0]"
      ]
    },
    {
      "cell_type": "code",
      "execution_count": 5,
      "metadata": {},
      "outputs": [],
      "source": [
        "# cpus = [tf.config.list_physical_devices()[0], tf.config.list_physical_devices()[1]]\n",
        "# cpus"
      ]
    },
    {
      "cell_type": "code",
      "execution_count": 6,
      "metadata": {},
      "outputs": [],
      "source": [
        "# tf.config.set_logical_device_configuration( gpus[0], [tf.config.LogicalDeviceConfiguration(memory_limit=13000)] ) "
      ]
    },
    {
      "cell_type": "code",
      "execution_count": 7,
      "metadata": {},
      "outputs": [
        {
          "name": "stdout",
          "output_type": "stream",
          "text": [
            "Tue Apr 18 02:04:17 2023       \n",
            "+-----------------------------------------------------------------------------+\n",
            "| NVIDIA-SMI 460.89       Driver Version: 460.89       CUDA Version: 11.2     |\n",
            "|-------------------------------+----------------------+----------------------+\n",
            "| GPU  Name            TCC/WDDM | Bus-Id        Disp.A | Volatile Uncorr. ECC |\n",
            "| Fan  Temp  Perf  Pwr:Usage/Cap|         Memory-Usage | GPU-Util  Compute M. |\n",
            "|                               |                      |               MIG M. |\n",
            "|===============================+======================+======================|\n",
            "|   0  GeForce GTX 105... WDDM  | 00000000:04:00.0 Off |                  N/A |\n",
            "| 30%   30C    P8    N/A /  75W |     78MiB /  4096MiB |      0%      Default |\n",
            "|                               |                      |                  N/A |\n",
            "+-------------------------------+----------------------+----------------------+\n",
            "                                                                               \n",
            "+-----------------------------------------------------------------------------+\n",
            "| Processes:                                                                  |\n",
            "|  GPU   GI   CI        PID   Type   Process name                  GPU Memory |\n",
            "|        ID   ID                                                   Usage      |\n",
            "|=============================================================================|\n",
            "|  No running processes found                                                 |\n",
            "+-----------------------------------------------------------------------------+\n"
          ]
        }
      ],
      "source": [
        "!nvidia-smi"
      ]
    },
    {
      "cell_type": "code",
      "execution_count": 8,
      "metadata": {
        "id": "Bq_OXuD38aHs"
      },
      "outputs": [],
      "source": [
        "from sklearn.model_selection import train_test_split\n",
        "train_data, test_data = train_test_split(data,test_size=0.25,random_state=42)"
      ]
    },
    {
      "cell_type": "code",
      "execution_count": 9,
      "metadata": {
        "id": "sAlXrDmU8aHs"
      },
      "outputs": [
        {
          "data": {
            "text/html": [
              "<table><tr><td>NOUN</td><td>ADP</td><td>NOUN</td><td>NOUN</td><td>NOUN</td><td>NOUN</td><td>VERB</td><td>ADV</td><td>VERB</td><td>ADP</td><td>DET</td><td>ADJ</td><td>NOUN</td><td>.</td></tr><td>implementation</td><td>of</td><td>georgia's</td><td>automobile</td><td>title</td><td>law</td><td>was</td><td>also</td><td>recommended</td><td>by</td><td>the</td><td>outgoing</td><td>jury</td><td>.</td><tr></table>"
            ],
            "text/plain": [
              "<IPython.core.display.HTML object>"
            ]
          },
          "metadata": {},
          "output_type": "display_data"
        },
        {
          "data": {
            "text/html": [
              "<table><tr><td>PRON</td><td>VERB</td><td>ADP</td><td>DET</td><td>NOUN</td><td>.</td><td>VERB</td><td>NOUN</td><td>PRT</td><td>VERB</td><td>.</td><td>DET</td><td>NOUN</td><td>.</td></tr><td>it</td><td>urged</td><td>that</td><td>the</td><td>city</td><td>``</td><td>take</td><td>steps</td><td>to</td><td>remedy</td><td>''</td><td>this</td><td>problem</td><td>.</td><tr></table>"
            ],
            "text/plain": [
              "<IPython.core.display.HTML object>"
            ]
          },
          "metadata": {},
          "output_type": "display_data"
        },
        {
          "data": {
            "text/html": [
              "<table><tr><td>NOUN</td><td>VERB</td></tr><td>merger</td><td>proposed</td><tr></table>"
            ],
            "text/plain": [
              "<IPython.core.display.HTML object>"
            ]
          },
          "metadata": {},
          "output_type": "display_data"
        }
      ],
      "source": [
        "from IPython.display import HTML, display\n",
        "def draw(sentence):\n",
        "    words,tags = zip(*sentence)\n",
        "    display(HTML('<table><tr>{tags}</tr>{words}<tr></table>'.format(\n",
        "                words = '<td>{}</td>'.format('</td><td>'.join(words)),\n",
        "                tags = '<td>{}</td>'.format('</td><td>'.join(tags)))))\n",
        "    \n",
        "    \n",
        "draw(data[11])\n",
        "draw(data[10])\n",
        "draw(data[7])"
      ]
    },
    {
      "cell_type": "markdown",
      "metadata": {
        "id": "LAViiL2C8aHt"
      },
      "source": [
        "### Building vocabularies\n",
        "\n",
        "Just like before, we have to build a mapping from tokens to integer ids. This time around, our model operates on a word level, processing one word per RNN step. This means we'll have to deal with far larger vocabulary.\n",
        "\n",
        "Luckily for us, we only receive those words as input i.e. we don't have to predict them. This means we can have a large vocabulary for free by using word embeddings."
      ]
    },
    {
      "cell_type": "code",
      "execution_count": 10,
      "metadata": {
        "collapsed": true,
        "id": "ZXK_k-mo8aHt"
      },
      "outputs": [
        {
          "name": "stdout",
          "output_type": "stream",
          "text": [
            "Coverage = 0.92876\n"
          ]
        }
      ],
      "source": [
        "from collections import Counter\n",
        "word_counts = Counter()\n",
        "for sentence in data:\n",
        "    words,tags = zip(*sentence)\n",
        "    word_counts.update(words)\n",
        "\n",
        "all_words = ['#EOS#','#UNK#'] + list(list(zip(*word_counts.most_common(10000)))[0])\n",
        "\n",
        "#let's measure what fraction of data words are in the dictionary\n",
        "print(\"Coverage = %.5f\" % (float(sum(word_counts[w] for w in all_words)) / sum(word_counts.values())))"
      ]
    },
    {
      "cell_type": "code",
      "execution_count": 11,
      "metadata": {
        "collapsed": true,
        "id": "T0hee8L88aHt"
      },
      "outputs": [],
      "source": [
        "from collections import defaultdict\n",
        "word_to_id = defaultdict(lambda:1, { word: i for i, word in enumerate(all_words) })\n",
        "tag_to_id = { tag: i for i, tag in enumerate(all_tags)}"
      ]
    },
    {
      "cell_type": "markdown",
      "metadata": {
        "id": "RCmGbwpP8aHu"
      },
      "source": [
        "convert words and tags into fixed-size matrix"
      ]
    },
    {
      "cell_type": "code",
      "execution_count": 12,
      "metadata": {
        "collapsed": true,
        "id": "X7kx6jWn8aHu"
      },
      "outputs": [],
      "source": [
        "def to_matrix(lines, token_to_id, max_len=None, pad=0, dtype='int32', time_major=False):\n",
        "    \"\"\"Converts a list of names into rnn-digestable matrix with paddings added after the end\"\"\"\n",
        "    \n",
        "    max_len = max_len or max(map(len,lines))\n",
        "    matrix = np.empty([len(lines), max_len],dtype)\n",
        "    matrix.fill(pad)\n",
        "\n",
        "    for i in range(len(lines)):\n",
        "        line_ix = list(map(token_to_id.__getitem__,lines[i]))[:max_len]\n",
        "        matrix[i,:len(line_ix)] = line_ix\n",
        "\n",
        "    return matrix.T if time_major else matrix\n",
        "\n"
      ]
    },
    {
      "cell_type": "code",
      "execution_count": 13,
      "metadata": {
        "collapsed": true,
        "id": "BCaE-i5u8aHu"
      },
      "outputs": [
        {
          "name": "stdout",
          "output_type": "stream",
          "text": [
            "Word ids:\n",
            "[[   2 3057    5    2 2238 1334 4238 2454    3    6   19   26 1070   69\n",
            "     8 2088    6    3    1    3  266   65  342    2    1    3    2  315\n",
            "     1    9   87  216 3322   69 1558    4    0    0    0    0    0    0\n",
            "     0    0    0    0    0    0    0    0    0    0    0]\n",
            " [  45   12    8  511 8419    6   60 3246   39    2    1    1    3    2\n",
            "   845    1    3    1    3   10 9910    2    1 3470    9   43    1    1\n",
            "     3    6    2 1046  385   73 4562    3    9    2    1    1 3250    3\n",
            "    12   10    2  861 5240   12    8 8936  121    1    4]\n",
            " [  33   64   26   12  445    7 7346    9    8 3337    3    1 2811    3\n",
            "     2  463  572    2    1    1 1649   12    1    4    0    0    0    0\n",
            "     0    0    0    0    0    0    0    0    0    0    0    0    0    0\n",
            "     0    0    0    0    0    0    0    0    0    0    0]]\n",
            "Tag ids:\n",
            "[[ 6  3  4  6  3  3  9  9  7 12  4  5  9  4  6  3 12  7  9  7  9  8  4  6\n",
            "   3  7  6 13  3  4  6  3  9  4  3  7  0  0  0  0  0  0  0  0  0  0  0  0\n",
            "   0  0  0  0  0]\n",
            " [ 5  9  6  9  3 12  6  3  7  6 13  3  7  6 13  3  7 13  7  5  9  6  3  3\n",
            "   4  6 13  3  7 12  6  3  6 13  3  7  4  6  3  9  3  7  9  4  6 13  3  9\n",
            "   6  3  2 13  7]\n",
            " [ 4  6  5  9 13  4  3  4  6 13  7 13  3  7  6  3  4  6 13  3  3  9  9  7\n",
            "   0  0  0  0  0  0  0  0  0  0  0  0  0  0  0  0  0  0  0  0  0  0  0  0\n",
            "   0  0  0  0  0]]\n"
          ]
        }
      ],
      "source": [
        "batch_words, batch_tags = zip(*[zip(*sentence) for sentence in data[-3:]])\n",
        "\n",
        "print(\"Word ids:\")\n",
        "print(to_matrix(batch_words, word_to_id))\n",
        "print(\"Tag ids:\")\n",
        "print(to_matrix(batch_tags, tag_to_id))"
      ]
    },
    {
      "cell_type": "markdown",
      "metadata": {
        "collapsed": true,
        "id": "_oK_i5Xa8aHv"
      },
      "source": [
        "### Build model\n",
        "\n",
        "Unlike our previous lab, this time we'll focus on a high-level keras interface to recurrent neural networks. It is as simple as you can get with RNN, allbeit somewhat constraining for complex tasks like seq2seq.\n",
        "\n",
        "By default, all keras RNNs apply to a whole sequence of inputs and produce a sequence of hidden states `(return_sequences=True` or just the last hidden state `(return_sequences=False)`. All the recurrence is happening under the hood.\n",
        "\n",
        "At the top of our model we need to apply a Dense layer to each time-step independently. As of now, by default keras.layers.Dense would apply once to all time-steps concatenated. We use __keras.layers.TimeDistributed__ to modify Dense layer so that it would apply across both batch and time axes."
      ]
    },
    {
      "cell_type": "code",
      "execution_count": 14,
      "metadata": {
        "id": "OQeb8d5j8aHv"
      },
      "outputs": [],
      "source": [
        "import keras\n",
        "import keras.layers as L\n",
        "\n",
        "model = keras.models.Sequential()\n",
        "model.add(L.InputLayer([None],dtype='int32'))\n",
        "model.add(L.Embedding(len(all_words),50))\n",
        "model.add(L.SimpleRNN(64,return_sequences=True))\n",
        "\n",
        "#add top layer that predicts tag probabilities\n",
        "stepwise_dense = L.Dense(len(all_tags),activation='softmax')\n",
        "stepwise_dense = L.TimeDistributed(stepwise_dense)\n",
        "model.add(stepwise_dense)"
      ]
    },
    {
      "cell_type": "markdown",
      "metadata": {
        "id": "lQbJqM2n8aHv"
      },
      "source": [
        "__Training:__ in this case we don't want to prepare the whole training dataset in advance. The main cause is that the length of every batch depends on the maximum sentence length within the batch. This leaves us two options: use custom training code as in previous seminar or use generators.\n",
        "\n",
        "Keras models have a __`model.fit_generator`__ method that accepts a python generator yielding one batch at a time. But first we need to implement such generator:"
      ]
    },
    {
      "cell_type": "code",
      "execution_count": 15,
      "metadata": {
        "collapsed": true,
        "id": "kpeMsDi18aHw"
      },
      "outputs": [],
      "source": [
        "from keras.utils.np_utils import to_categorical\n",
        "BATCH_SIZE=32\n",
        "def generate_batches(sentences,batch_size=BATCH_SIZE,max_len=None,pad=0):\n",
        "    assert isinstance(sentences,np.ndarray),\"Make sure sentences is q numpy array\"\n",
        "    \n",
        "    while True:\n",
        "        indices = np.random.permutation(np.arange(len(sentences)))\n",
        "        for start in range(0,len(indices)-1,batch_size):\n",
        "            batch_indices = indices[start:start+batch_size]\n",
        "            batch_words,batch_tags = [],[]\n",
        "            for sent in sentences[batch_indices]:\n",
        "                words,tags = zip(*sent)\n",
        "                batch_words.append(words)\n",
        "                batch_tags.append(tags)\n",
        "\n",
        "            batch_words = to_matrix(batch_words,word_to_id,max_len,pad)\n",
        "            batch_tags = to_matrix(batch_tags,tag_to_id,max_len,pad)\n",
        "\n",
        "            batch_tags_1hot = to_categorical(batch_tags,len(all_tags)).reshape(batch_tags.shape+(-1,))\n",
        "            yield batch_words,batch_tags_1hot\n",
        "        "
      ]
    },
    {
      "cell_type": "markdown",
      "metadata": {
        "id": "zYoR9vgn8aHw"
      },
      "source": [
        "__Callbacks:__ Another thing we need is to measure model performance. The tricky part is not to count accuracy after sentence ends (on padding) and making sure we count all the validation data exactly once.\n",
        "\n",
        "While it isn't impossible to persuade Keras to do all of that, we may as well write our own callback that does that.\n",
        "Keras callbacks allow you to write a custom code to be ran once every epoch or every minibatch. We'll define one via LambdaCallback"
      ]
    },
    {
      "cell_type": "code",
      "execution_count": 16,
      "metadata": {
        "collapsed": true,
        "id": "CC8woNtV8aHx"
      },
      "outputs": [],
      "source": [
        "def compute_test_accuracy(model):\n",
        "    test_words,test_tags = zip(*[zip(*sentence) for sentence in test_data])\n",
        "    test_words,test_tags = to_matrix(test_words,word_to_id),to_matrix(test_tags,tag_to_id)\n",
        "\n",
        "    #predict tag probabilities of shape [batch,time,n_tags]\n",
        "    predicted_tag_probabilities = model.predict(test_words,verbose=1)\n",
        "    predicted_tags = predicted_tag_probabilities.argmax(axis=-1)\n",
        "\n",
        "    #compute accurary excluding padding\n",
        "    numerator = np.sum(np.logical_and((predicted_tags == test_tags),(test_words != 0)))\n",
        "    denominator = np.sum(test_words != 0)\n",
        "    return float(numerator)/denominator\n",
        "\n",
        "\n",
        "class EvaluateAccuracy(keras.callbacks.Callback):\n",
        "    def on_epoch_end(self,epoch,logs=None):\n",
        "        sys.stdout.flush()\n",
        "        print(\"\\nMeasuring validation accuracy...\")\n",
        "        acc = compute_test_accuracy(self.model)\n",
        "        print(\"\\nValidation accuracy: %.5f\\n\"%acc)\n",
        "        sys.stdout.flush()\n",
        "        "
      ]
    },
    {
      "cell_type": "code",
      "execution_count": 17,
      "metadata": {
        "collapsed": true,
        "id": "5eJGEWu58aHx"
      },
      "outputs": [
        {
          "name": "stderr",
          "output_type": "stream",
          "text": [
            "C:\\Users\\egoma\\AppData\\Local\\Temp\\ipykernel_11292\\1670692242.py:3: UserWarning: `Model.fit_generator` is deprecated and will be removed in a future version. Please use `Model.fit`, which supports generators.\n",
            "  model.fit_generator(generate_batches(train_data),len(train_data)/BATCH_SIZE,\n"
          ]
        },
        {
          "name": "stdout",
          "output_type": "stream",
          "text": [
            "Epoch 1/5\n",
            "1344/1343 [==============================] - ETA: 0s - loss: 0.2409\n",
            "Measuring validation accuracy...\n",
            "448/448 [==============================] - 68s 151ms/step\n",
            "\n",
            "Validation accuracy: 0.94074\n",
            "\n",
            "1343/1343 [==============================] - 740s 548ms/step - loss: 0.2409\n",
            "Epoch 2/5\n",
            "1344/1343 [==============================] - ETA: 0s - loss: 0.0570\n",
            "Measuring validation accuracy...\n",
            "448/448 [==============================] - 66s 148ms/step\n",
            "\n",
            "Validation accuracy: 0.94536\n",
            "\n",
            "1343/1343 [==============================] - 723s 538ms/step - loss: 0.0570\n",
            "Epoch 3/5\n",
            "1344/1343 [==============================] - ETA: 0s - loss: 0.0509\n",
            "Measuring validation accuracy...\n",
            "448/448 [==============================] - 65s 144ms/step\n",
            "\n",
            "Validation accuracy: 0.94655\n",
            "\n",
            "1343/1343 [==============================] - 722s 538ms/step - loss: 0.0509\n",
            "Epoch 4/5\n",
            "1344/1343 [==============================] - ETA: 0s - loss: 0.0466\n",
            "Measuring validation accuracy...\n",
            "448/448 [==============================] - 64s 143ms/step\n",
            "\n",
            "Validation accuracy: 0.94694\n",
            "\n",
            "1343/1343 [==============================] - 718s 534ms/step - loss: 0.0466\n",
            "Epoch 5/5\n",
            "1344/1343 [==============================] - ETA: 0s - loss: 0.0430\n",
            "Measuring validation accuracy...\n",
            "448/448 [==============================] - 66s 148ms/step\n",
            "\n",
            "Validation accuracy: 0.94636\n",
            "\n",
            "1343/1343 [==============================] - 721s 537ms/step - loss: 0.0430\n"
          ]
        },
        {
          "data": {
            "text/plain": [
              "<keras.callbacks.History at 0x2083e331630>"
            ]
          },
          "execution_count": 17,
          "metadata": {},
          "output_type": "execute_result"
        }
      ],
      "source": [
        "model.compile('adam','categorical_crossentropy')\n",
        "\n",
        "model.fit_generator(generate_batches(train_data),len(train_data)/BATCH_SIZE,\n",
        "                    callbacks=[EvaluateAccuracy()], epochs=5,)"
      ]
    },
    {
      "cell_type": "markdown",
      "metadata": {
        "id": "TTN7C34V8aHy"
      },
      "source": [
        "Measure final accuracy on the whole test set."
      ]
    },
    {
      "cell_type": "code",
      "execution_count": 18,
      "metadata": {
        "collapsed": true,
        "id": "tHgxnYB68aHy"
      },
      "outputs": [
        {
          "name": "stdout",
          "output_type": "stream",
          "text": [
            "448/448 [==============================] - 64s 142ms/step\n",
            "Final accuracy: 0.94636\n"
          ]
        }
      ],
      "source": [
        "acc = compute_test_accuracy(model)\n",
        "print(\"Final accuracy: %.5f\"%acc)\n",
        "\n",
        "assert acc>0.94, \"Keras has gone on a rampage again, please contact course staff.\""
      ]
    },
    {
      "cell_type": "markdown",
      "metadata": {
        "id": "5L5Prr4I8aHy"
      },
      "source": [
        "### Going bidirectional\n",
        "\n",
        "Since we're analyzing a full sequence, it's legal for us to look into future data.\n",
        "\n",
        "A simple way to achieve that is to go both directions at once, making a __bidirectional RNN__.\n",
        "\n",
        "In Keras you can achieve that both manually (using two LSTMs and Concatenate) and by using __`keras.layers.Bidirectional`__. \n",
        "\n",
        "This one works just as `TimeDistributed` we saw before: you wrap it around a recurrent layer (SimpleRNN now and LSTM/GRU later) and it actually creates two layers under the hood.\n",
        "\n",
        "Your first task is to use such a layer our POS-tagger."
      ]
    },
    {
      "cell_type": "code",
      "execution_count": 19,
      "metadata": {
        "collapsed": true,
        "id": "xWfCrbh-8aHy"
      },
      "outputs": [],
      "source": [
        "#Define a model that utilizes bidirectional SimpleRNN\n",
        "model = keras.models.Sequential()\n",
        "model.add(L.InputLayer([None],dtype='int32'))\n",
        "model.add(L.Embedding(len(all_words),50))\n",
        "model.add(L.Bidirectional(L.SimpleRNN(64,return_sequences=True)))\n",
        "\n",
        "stepwise_dense = L.Dense(len(all_tags),activation='softmax')\n",
        "stepwise_dense = L.TimeDistributed(stepwise_dense)\n",
        "model.add(stepwise_dense)\n",
        "\n",
        "\n",
        "\n"
      ]
    },
    {
      "cell_type": "code",
      "execution_count": 20,
      "metadata": {
        "collapsed": true,
        "id": "Ort64W348aHz"
      },
      "outputs": [
        {
          "name": "stdout",
          "output_type": "stream",
          "text": [
            "Epoch 1/5\n"
          ]
        },
        {
          "name": "stderr",
          "output_type": "stream",
          "text": [
            "C:\\Users\\egoma\\AppData\\Local\\Temp\\ipykernel_11292\\181365530.py:3: UserWarning: `Model.fit_generator` is deprecated and will be removed in a future version. Please use `Model.fit`, which supports generators.\n",
            "  model.fit_generator(generate_batches(train_data),len(train_data)/BATCH_SIZE,\n"
          ]
        },
        {
          "name": "stdout",
          "output_type": "stream",
          "text": [
            "1344/1343 [==============================] - ETA: 0s - loss: 0.2090\n",
            "Measuring validation accuracy...\n",
            "448/448 [==============================] - 129s 288ms/step\n",
            "\n",
            "Validation accuracy: 0.95552\n",
            "\n",
            "1343/1343 [==============================] - 1379s 1s/step - loss: 0.2090\n",
            "Epoch 2/5\n",
            "1344/1343 [==============================] - ETA: 0s - loss: 0.0430\n",
            "Measuring validation accuracy...\n",
            "448/448 [==============================] - 130s 290ms/step\n",
            "\n",
            "Validation accuracy: 0.96073\n",
            "\n",
            "1343/1343 [==============================] - 1370s 1s/step - loss: 0.0430\n",
            "Epoch 3/5\n",
            "1344/1343 [==============================] - ETA: 0s - loss: 0.0352\n",
            "Measuring validation accuracy...\n",
            "448/448 [==============================] - 126s 281ms/step\n",
            "\n",
            "Validation accuracy: 0.96174\n",
            "\n",
            "1343/1343 [==============================] - 1366s 1s/step - loss: 0.0352\n",
            "Epoch 4/5\n",
            "1344/1343 [==============================] - ETA: 0s - loss: 0.0300\n",
            "Measuring validation accuracy...\n",
            "448/448 [==============================] - 125s 279ms/step\n",
            "\n",
            "Validation accuracy: 0.96156\n",
            "\n",
            "1343/1343 [==============================] - 1362s 1s/step - loss: 0.0300\n",
            "Epoch 5/5\n",
            "1344/1343 [==============================] - ETA: 0s - loss: 0.0249\n",
            "Measuring validation accuracy...\n",
            "448/448 [==============================] - 137s 306ms/step\n",
            "\n",
            "Validation accuracy: 0.96049\n",
            "\n",
            "1343/1343 [==============================] - 1350s 1s/step - loss: 0.0249\n"
          ]
        },
        {
          "data": {
            "text/plain": [
              "<keras.callbacks.History at 0x2089bf51f90>"
            ]
          },
          "execution_count": 20,
          "metadata": {},
          "output_type": "execute_result"
        }
      ],
      "source": [
        "model.compile('adam', tf.keras.losses.CategoricalCrossentropy())\n",
        "\n",
        "model.fit_generator(generate_batches(train_data),len(train_data)/BATCH_SIZE,\n",
        "                    callbacks=[EvaluateAccuracy()], epochs=5,)"
      ]
    },
    {
      "cell_type": "code",
      "execution_count": 21,
      "metadata": {
        "collapsed": true,
        "id": "iWHSkF648aHz"
      },
      "outputs": [
        {
          "name": "stdout",
          "output_type": "stream",
          "text": [
            "448/448 [==============================] - 137s 306ms/step\n",
            "\n",
            "Final accuracy: 0.96049\n",
            "Well done!\n"
          ]
        }
      ],
      "source": [
        "acc = compute_test_accuracy(model)\n",
        "print(\"\\nFinal accuracy: %.5f\"%acc)\n",
        "\n",
        "assert acc>0.96, \"Bidirectional RNNs are better than this!\"\n",
        "print(\"Well done!\")"
      ]
    },
    {
      "cell_type": "markdown",
      "metadata": {
        "id": "VW_nFppS8aH0"
      },
      "source": [
        "Task I: Structured loss functions (more bonus points)\n",
        "\n",
        "Since we're tagging the whole sequence at once, we might as well train our network to do so. Remember linear CRF from the lecture? You can also use it as a loss function for your RNN\n",
        "\n",
        "\n",
        "  * There's more than one way to do so, but we'd recommend starting with [Conditional Random Fields](http://blog.echen.me/2012/01/03/introduction-to-conditional-random-fields/)\n",
        "  * You can plug CRF as a loss function and still train by backprop. There's even some neat tensorflow [implementation](https://www.tensorflow.org/addons/api_docs/python/tfa/layers/CRF) for you.\n",
        "  * Alternatively, you can condition your model on previous tags (make it autoregressive) and perform __beam search__ over that model."
      ]
    },
    {
      "cell_type": "code",
      "execution_count": null,
      "metadata": {},
      "outputs": [],
      "source": []
    },
    {
      "cell_type": "code",
      "execution_count": null,
      "metadata": {},
      "outputs": [],
      "source": []
    },
    {
      "attachments": {},
      "cell_type": "markdown",
      "metadata": {},
      "source": [
        "В ДАННОМ ЗАДАНИИ, К СОЖАЛЕНИЮ, НЕ ПОНЯЛ, ЧТО НЕОБХОДИМО СДЕЛАТЬ С tfa.layers.CRF(). В СТАТЬЕ ПРО CRF ГОВОРИТСЯ О СУТИ CRF, КОТОРАЯ ЗАКЛЮЧАЕТСЯ В \"ОБРАБОТКЕ КОНТЕКСТА\" (ОЦЕНКЕ БЛИЗЛЕЖАЩИХ БЛОКОВ ИНФОРМАЦИИ - В ПРИМЕРЕ ИЗ СТАТЬИ ЭТО ФОТО Д.БИБЕРА, РАСПОЛОЖЕННЫЕ ВБЛИЗИ КАЖДОЙ ИССЛЕДУЕМОЙ ФОТОГРАФИИ). CRF ДОЛЖНА ИСПОЛЬЗОВАТЬСЯ ПРИ КОМПИЛЯЦИИ В КАЧЕСТВЕ loss-function, НО Я НЕ ПОНЯЛ КАКИМ ОБРАЗОМ ( "
      ]
    },
    {
      "cell_type": "code",
      "execution_count": null,
      "metadata": {},
      "outputs": [],
      "source": []
    },
    {
      "cell_type": "code",
      "execution_count": 55,
      "metadata": {
        "id": "uXEj1Nm98aH0"
      },
      "outputs": [],
      "source": [
        "import tensorflow_addons as tfa\n",
        "\n",
        "layer = tfa.layers.CRF(5)\n",
        "# inputs = np.random.rand(2, 4, 8).astype(np.float32)\n",
        "# decoded_sequence, potentials, sequence_length, chain_kernel = layer(inputs)\n",
        "\n"
      ]
    },
    {
      "cell_type": "code",
      "execution_count": 50,
      "metadata": {},
      "outputs": [],
      "source": [
        "model = keras.models.Sequential()\n",
        "model.add(L.InputLayer([None],dtype='int32'))\n",
        "model.add(L.Embedding(len(all_words),50))\n",
        "model.add(L.Bidirectional(L.SimpleRNN(64,return_sequences=True)))\n",
        "\n",
        "stepwise_dense = L.Dense(len(all_tags),activation='softmax')\n",
        "stepwise_dense = L.TimeDistributed(stepwise_dense)\n",
        "model.add(stepwise_dense)"
      ]
    },
    {
      "cell_type": "code",
      "execution_count": 53,
      "metadata": {},
      "outputs": [
        {
          "name": "stdout",
          "output_type": "stream",
          "text": [
            "Epoch 1/5\n"
          ]
        },
        {
          "name": "stderr",
          "output_type": "stream",
          "text": [
            "C:\\Users\\egoma\\AppData\\Local\\Temp\\ipykernel_11292\\2835759509.py:3: UserWarning: `Model.fit_generator` is deprecated and will be removed in a future version. Please use `Model.fit`, which supports generators.\n",
            "  model.fit_generator(generate_batches(train_data),len(train_data)/BATCH_SIZE,\n"
          ]
        },
        {
          "ename": "ValueError",
          "evalue": "in user code:\n\n    File \"d:\\PYTHON_PROJECTS\\Нетология_обучающие_материалы\\10.Neuronal_Networks\\lib\\site-packages\\keras\\engine\\training.py\", line 1160, in train_function  *\n        return step_function(self, iterator)\n    File \"d:\\PYTHON_PROJECTS\\Нетология_обучающие_материалы\\10.Neuronal_Networks\\lib\\site-packages\\keras\\engine\\training.py\", line 1146, in step_function  **\n        outputs = model.distribute_strategy.run(run_step, args=(data,))\n    File \"d:\\PYTHON_PROJECTS\\Нетология_обучающие_материалы\\10.Neuronal_Networks\\lib\\site-packages\\keras\\engine\\training.py\", line 1135, in run_step  **\n        outputs = model.train_step(data)\n    File \"d:\\PYTHON_PROJECTS\\Нетология_обучающие_материалы\\10.Neuronal_Networks\\lib\\site-packages\\keras\\engine\\training.py\", line 994, in train_step\n        loss = self.compute_loss(x, y, y_pred, sample_weight)\n    File \"d:\\PYTHON_PROJECTS\\Нетология_обучающие_материалы\\10.Neuronal_Networks\\lib\\site-packages\\keras\\engine\\training.py\", line 1052, in compute_loss\n        return self.compiled_loss(\n    File \"d:\\PYTHON_PROJECTS\\Нетология_обучающие_материалы\\10.Neuronal_Networks\\lib\\site-packages\\keras\\engine\\compile_utils.py\", line 265, in __call__\n        loss_value = loss_obj(y_t, y_p, sample_weight=sw)\n    File \"d:\\PYTHON_PROJECTS\\Нетология_обучающие_материалы\\10.Neuronal_Networks\\lib\\site-packages\\keras\\losses.py\", line 152, in __call__\n        losses = call_fn(y_true, y_pred)\n    File \"d:\\PYTHON_PROJECTS\\Нетология_обучающие_материалы\\10.Neuronal_Networks\\lib\\site-packages\\keras\\losses.py\", line 272, in call  **\n        return ag_fn(y_true, y_pred, **self._fn_kwargs)\n    File \"d:\\PYTHON_PROJECTS\\Нетология_обучающие_материалы\\10.Neuronal_Networks\\lib\\site-packages\\keras\\utils\\traceback_utils.py\", line 70, in error_handler  **\n        raise e.with_traceback(filtered_tb) from None\n    File \"C:\\Users\\egoma\\AppData\\Local\\Temp\\__autograph_generated_filesxot0u9l.py\", line 34, in tf__call\n        ag__.if_stmt(ag__.ld(mask) is not None, if_body_1, else_body_1, get_state_1, set_state_1, (), 0)\n    File \"C:\\Users\\egoma\\AppData\\Local\\Temp\\__autograph_generated_filesxot0u9l.py\", line 30, in if_body_1\n        ag__.if_stmt(ag__.converted_call(ag__.ld(tf).keras.backend.ndim, (ag__.ld(mask),), None, fscope) != 2, if_body, else_body, get_state, set_state, (), 0)\n    File \"C:\\Users\\egoma\\AppData\\Local\\Temp\\__autograph_generated_filesxot0u9l.py\", line 26, in if_body\n        raise ag__.converted_call(ag__.ld(ValueError), ('Input mask to CRF must have dim 2 if not None',), None, fscope)\n\n    ValueError: Exception encountered when calling layer \"crf_8\" \"                 f\"(type CRF).\n    \n    in user code:\n    \n        File \"d:\\PYTHON_PROJECTS\\Нетология_обучающие_материалы\\10.Neuronal_Networks\\lib\\site-packages\\tensorflow_addons\\layers\\crf.py\", line 120, in call  *\n            raise ValueError(\"Input mask to CRF must have dim 2 if not None\")\n    \n        ValueError: Input mask to CRF must have dim 2 if not None\n    \n    \n    Call arguments received by layer \"crf_8\" \"                 f\"(type CRF):\n      • inputs=tf.Tensor(shape=(None, None, None), dtype=float32)\n      • mask=tf.Tensor(shape=(None, None, 14), dtype=float32)\n",
          "output_type": "error",
          "traceback": [
            "\u001b[1;31m---------------------------------------------------------------------------\u001b[0m",
            "\u001b[1;31mValueError\u001b[0m                                Traceback (most recent call last)",
            "Cell \u001b[1;32mIn[53], line 3\u001b[0m\n\u001b[0;32m      1\u001b[0m model\u001b[39m.\u001b[39mcompile(\u001b[39m'\u001b[39m\u001b[39madam\u001b[39m\u001b[39m'\u001b[39m, layer)\n\u001b[1;32m----> 3\u001b[0m model\u001b[39m.\u001b[39;49mfit_generator(generate_batches(train_data),\u001b[39mlen\u001b[39;49m(train_data)\u001b[39m/\u001b[39;49mBATCH_SIZE,\n\u001b[0;32m      4\u001b[0m                     callbacks\u001b[39m=\u001b[39;49m[EvaluateAccuracy()], epochs\u001b[39m=\u001b[39;49m\u001b[39m5\u001b[39;49m,)\n",
            "File \u001b[1;32md:\\PYTHON_PROJECTS\\Нетология_обучающие_материалы\\10.Neuronal_Networks\\lib\\site-packages\\keras\\engine\\training.py:2507\u001b[0m, in \u001b[0;36mModel.fit_generator\u001b[1;34m(self, generator, steps_per_epoch, epochs, verbose, callbacks, validation_data, validation_steps, validation_freq, class_weight, max_queue_size, workers, use_multiprocessing, shuffle, initial_epoch)\u001b[0m\n\u001b[0;32m   2495\u001b[0m \u001b[39m\u001b[39m\u001b[39m\"\"\"Fits the model on data yielded batch-by-batch by a Python generator.\u001b[39;00m\n\u001b[0;32m   2496\u001b[0m \n\u001b[0;32m   2497\u001b[0m \u001b[39mDEPRECATED:\u001b[39;00m\n\u001b[0;32m   2498\u001b[0m \u001b[39m  `Model.fit` now supports generators, so there is no longer any need to\u001b[39;00m\n\u001b[0;32m   2499\u001b[0m \u001b[39m  use this endpoint.\u001b[39;00m\n\u001b[0;32m   2500\u001b[0m \u001b[39m\"\"\"\u001b[39;00m\n\u001b[0;32m   2501\u001b[0m warnings\u001b[39m.\u001b[39mwarn(\n\u001b[0;32m   2502\u001b[0m     \u001b[39m\"\u001b[39m\u001b[39m`Model.fit_generator` is deprecated and \u001b[39m\u001b[39m\"\u001b[39m\n\u001b[0;32m   2503\u001b[0m     \u001b[39m\"\u001b[39m\u001b[39mwill be removed in a future version. \u001b[39m\u001b[39m\"\u001b[39m\n\u001b[0;32m   2504\u001b[0m     \u001b[39m\"\u001b[39m\u001b[39mPlease use `Model.fit`, which supports generators.\u001b[39m\u001b[39m\"\u001b[39m,\n\u001b[0;32m   2505\u001b[0m     stacklevel\u001b[39m=\u001b[39m\u001b[39m2\u001b[39m,\n\u001b[0;32m   2506\u001b[0m )\n\u001b[1;32m-> 2507\u001b[0m \u001b[39mreturn\u001b[39;00m \u001b[39mself\u001b[39;49m\u001b[39m.\u001b[39;49mfit(\n\u001b[0;32m   2508\u001b[0m     generator,\n\u001b[0;32m   2509\u001b[0m     steps_per_epoch\u001b[39m=\u001b[39;49msteps_per_epoch,\n\u001b[0;32m   2510\u001b[0m     epochs\u001b[39m=\u001b[39;49mepochs,\n\u001b[0;32m   2511\u001b[0m     verbose\u001b[39m=\u001b[39;49mverbose,\n\u001b[0;32m   2512\u001b[0m     callbacks\u001b[39m=\u001b[39;49mcallbacks,\n\u001b[0;32m   2513\u001b[0m     validation_data\u001b[39m=\u001b[39;49mvalidation_data,\n\u001b[0;32m   2514\u001b[0m     validation_steps\u001b[39m=\u001b[39;49mvalidation_steps,\n\u001b[0;32m   2515\u001b[0m     validation_freq\u001b[39m=\u001b[39;49mvalidation_freq,\n\u001b[0;32m   2516\u001b[0m     class_weight\u001b[39m=\u001b[39;49mclass_weight,\n\u001b[0;32m   2517\u001b[0m     max_queue_size\u001b[39m=\u001b[39;49mmax_queue_size,\n\u001b[0;32m   2518\u001b[0m     workers\u001b[39m=\u001b[39;49mworkers,\n\u001b[0;32m   2519\u001b[0m     use_multiprocessing\u001b[39m=\u001b[39;49muse_multiprocessing,\n\u001b[0;32m   2520\u001b[0m     shuffle\u001b[39m=\u001b[39;49mshuffle,\n\u001b[0;32m   2521\u001b[0m     initial_epoch\u001b[39m=\u001b[39;49minitial_epoch,\n\u001b[0;32m   2522\u001b[0m )\n",
            "File \u001b[1;32md:\\PYTHON_PROJECTS\\Нетология_обучающие_материалы\\10.Neuronal_Networks\\lib\\site-packages\\keras\\utils\\traceback_utils.py:70\u001b[0m, in \u001b[0;36mfilter_traceback.<locals>.error_handler\u001b[1;34m(*args, **kwargs)\u001b[0m\n\u001b[0;32m     67\u001b[0m     filtered_tb \u001b[39m=\u001b[39m _process_traceback_frames(e\u001b[39m.\u001b[39m__traceback__)\n\u001b[0;32m     68\u001b[0m     \u001b[39m# To get the full stack trace, call:\u001b[39;00m\n\u001b[0;32m     69\u001b[0m     \u001b[39m# `tf.debugging.disable_traceback_filtering()`\u001b[39;00m\n\u001b[1;32m---> 70\u001b[0m     \u001b[39mraise\u001b[39;00m e\u001b[39m.\u001b[39mwith_traceback(filtered_tb) \u001b[39mfrom\u001b[39;00m \u001b[39mNone\u001b[39;00m\n\u001b[0;32m     71\u001b[0m \u001b[39mfinally\u001b[39;00m:\n\u001b[0;32m     72\u001b[0m     \u001b[39mdel\u001b[39;00m filtered_tb\n",
            "File \u001b[1;32m~\\AppData\\Local\\Temp\\__autograph_generated_file28dluyix.py:15\u001b[0m, in \u001b[0;36mouter_factory.<locals>.inner_factory.<locals>.tf__train_function\u001b[1;34m(iterator)\u001b[0m\n\u001b[0;32m     13\u001b[0m \u001b[39mtry\u001b[39;00m:\n\u001b[0;32m     14\u001b[0m     do_return \u001b[39m=\u001b[39m \u001b[39mTrue\u001b[39;00m\n\u001b[1;32m---> 15\u001b[0m     retval_ \u001b[39m=\u001b[39m ag__\u001b[39m.\u001b[39mconverted_call(ag__\u001b[39m.\u001b[39mld(step_function), (ag__\u001b[39m.\u001b[39mld(\u001b[39mself\u001b[39m), ag__\u001b[39m.\u001b[39mld(iterator)), \u001b[39mNone\u001b[39;00m, fscope)\n\u001b[0;32m     16\u001b[0m \u001b[39mexcept\u001b[39;00m:\n\u001b[0;32m     17\u001b[0m     do_return \u001b[39m=\u001b[39m \u001b[39mFalse\u001b[39;00m\n",
            "File \u001b[1;32m~\\AppData\\Local\\Temp\\__autograph_generated_filesxot0u9l.py:34\u001b[0m, in \u001b[0;36mouter_factory.<locals>.inner_factory.<locals>.tf__call\u001b[1;34m(self, inputs, mask)\u001b[0m\n\u001b[0;32m     32\u001b[0m \u001b[39mdef\u001b[39;00m \u001b[39melse_body_1\u001b[39m():\n\u001b[0;32m     33\u001b[0m     \u001b[39mpass\u001b[39;00m\n\u001b[1;32m---> 34\u001b[0m ag__\u001b[39m.\u001b[39;49mif_stmt(ag__\u001b[39m.\u001b[39;49mld(mask) \u001b[39mis\u001b[39;49;00m \u001b[39mnot\u001b[39;49;00m \u001b[39mNone\u001b[39;49;00m, if_body_1, else_body_1, get_state_1, set_state_1, (), \u001b[39m0\u001b[39;49m)\n\u001b[0;32m     36\u001b[0m \u001b[39mdef\u001b[39;00m \u001b[39mget_state_4\u001b[39m():\n\u001b[0;32m     37\u001b[0m     \u001b[39mreturn\u001b[39;00m ()\n",
            "File \u001b[1;32m~\\AppData\\Local\\Temp\\__autograph_generated_filesxot0u9l.py:30\u001b[0m, in \u001b[0;36mouter_factory.<locals>.inner_factory.<locals>.tf__call.<locals>.if_body_1\u001b[1;34m()\u001b[0m\n\u001b[0;32m     28\u001b[0m \u001b[39mdef\u001b[39;00m \u001b[39melse_body\u001b[39m():\n\u001b[0;32m     29\u001b[0m     \u001b[39mpass\u001b[39;00m\n\u001b[1;32m---> 30\u001b[0m ag__\u001b[39m.\u001b[39;49mif_stmt(ag__\u001b[39m.\u001b[39;49mconverted_call(ag__\u001b[39m.\u001b[39;49mld(tf)\u001b[39m.\u001b[39;49mkeras\u001b[39m.\u001b[39;49mbackend\u001b[39m.\u001b[39;49mndim, (ag__\u001b[39m.\u001b[39;49mld(mask),), \u001b[39mNone\u001b[39;49;00m, fscope) \u001b[39m!=\u001b[39;49m \u001b[39m2\u001b[39;49m, if_body, else_body, get_state, set_state, (), \u001b[39m0\u001b[39;49m)\n",
            "File \u001b[1;32m~\\AppData\\Local\\Temp\\__autograph_generated_filesxot0u9l.py:26\u001b[0m, in \u001b[0;36mouter_factory.<locals>.inner_factory.<locals>.tf__call.<locals>.if_body_1.<locals>.if_body\u001b[1;34m()\u001b[0m\n\u001b[0;32m     25\u001b[0m \u001b[39mdef\u001b[39;00m \u001b[39mif_body\u001b[39m():\n\u001b[1;32m---> 26\u001b[0m     \u001b[39mraise\u001b[39;00m ag__\u001b[39m.\u001b[39mconverted_call(ag__\u001b[39m.\u001b[39mld(\u001b[39mValueError\u001b[39;00m), (\u001b[39m'\u001b[39m\u001b[39mInput mask to CRF must have dim 2 if not None\u001b[39m\u001b[39m'\u001b[39m,), \u001b[39mNone\u001b[39;00m, fscope)\n",
            "\u001b[1;31mValueError\u001b[0m: in user code:\n\n    File \"d:\\PYTHON_PROJECTS\\Нетология_обучающие_материалы\\10.Neuronal_Networks\\lib\\site-packages\\keras\\engine\\training.py\", line 1160, in train_function  *\n        return step_function(self, iterator)\n    File \"d:\\PYTHON_PROJECTS\\Нетология_обучающие_материалы\\10.Neuronal_Networks\\lib\\site-packages\\keras\\engine\\training.py\", line 1146, in step_function  **\n        outputs = model.distribute_strategy.run(run_step, args=(data,))\n    File \"d:\\PYTHON_PROJECTS\\Нетология_обучающие_материалы\\10.Neuronal_Networks\\lib\\site-packages\\keras\\engine\\training.py\", line 1135, in run_step  **\n        outputs = model.train_step(data)\n    File \"d:\\PYTHON_PROJECTS\\Нетология_обучающие_материалы\\10.Neuronal_Networks\\lib\\site-packages\\keras\\engine\\training.py\", line 994, in train_step\n        loss = self.compute_loss(x, y, y_pred, sample_weight)\n    File \"d:\\PYTHON_PROJECTS\\Нетология_обучающие_материалы\\10.Neuronal_Networks\\lib\\site-packages\\keras\\engine\\training.py\", line 1052, in compute_loss\n        return self.compiled_loss(\n    File \"d:\\PYTHON_PROJECTS\\Нетология_обучающие_материалы\\10.Neuronal_Networks\\lib\\site-packages\\keras\\engine\\compile_utils.py\", line 265, in __call__\n        loss_value = loss_obj(y_t, y_p, sample_weight=sw)\n    File \"d:\\PYTHON_PROJECTS\\Нетология_обучающие_материалы\\10.Neuronal_Networks\\lib\\site-packages\\keras\\losses.py\", line 152, in __call__\n        losses = call_fn(y_true, y_pred)\n    File \"d:\\PYTHON_PROJECTS\\Нетология_обучающие_материалы\\10.Neuronal_Networks\\lib\\site-packages\\keras\\losses.py\", line 272, in call  **\n        return ag_fn(y_true, y_pred, **self._fn_kwargs)\n    File \"d:\\PYTHON_PROJECTS\\Нетология_обучающие_материалы\\10.Neuronal_Networks\\lib\\site-packages\\keras\\utils\\traceback_utils.py\", line 70, in error_handler  **\n        raise e.with_traceback(filtered_tb) from None\n    File \"C:\\Users\\egoma\\AppData\\Local\\Temp\\__autograph_generated_filesxot0u9l.py\", line 34, in tf__call\n        ag__.if_stmt(ag__.ld(mask) is not None, if_body_1, else_body_1, get_state_1, set_state_1, (), 0)\n    File \"C:\\Users\\egoma\\AppData\\Local\\Temp\\__autograph_generated_filesxot0u9l.py\", line 30, in if_body_1\n        ag__.if_stmt(ag__.converted_call(ag__.ld(tf).keras.backend.ndim, (ag__.ld(mask),), None, fscope) != 2, if_body, else_body, get_state, set_state, (), 0)\n    File \"C:\\Users\\egoma\\AppData\\Local\\Temp\\__autograph_generated_filesxot0u9l.py\", line 26, in if_body\n        raise ag__.converted_call(ag__.ld(ValueError), ('Input mask to CRF must have dim 2 if not None',), None, fscope)\n\n    ValueError: Exception encountered when calling layer \"crf_8\" \"                 f\"(type CRF).\n    \n    in user code:\n    \n        File \"d:\\PYTHON_PROJECTS\\Нетология_обучающие_материалы\\10.Neuronal_Networks\\lib\\site-packages\\tensorflow_addons\\layers\\crf.py\", line 120, in call  *\n            raise ValueError(\"Input mask to CRF must have dim 2 if not None\")\n    \n        ValueError: Input mask to CRF must have dim 2 if not None\n    \n    \n    Call arguments received by layer \"crf_8\" \"                 f\"(type CRF):\n      • inputs=tf.Tensor(shape=(None, None, None), dtype=float32)\n      • mask=tf.Tensor(shape=(None, None, 14), dtype=float32)\n"
          ]
        }
      ],
      "source": [
        "model.compile('adam', layer)\n",
        "\n",
        "model.fit_generator(generate_batches(train_data),len(train_data)/BATCH_SIZE,\n",
        "                    callbacks=[EvaluateAccuracy()], epochs=5,)"
      ]
    },
    {
      "cell_type": "markdown",
      "metadata": {
        "id": "AG_wuMVf8aH0"
      },
      "source": [
        "\n",
        "#### Some tips\n",
        "Here there are a few more tips on how to improve training that are a bit trickier to impliment. We strongly suggest that you try them _after_ you've got a good initial model.\n",
        "* __Use pre-trained embeddings__: you can use pre-trained weights from [there](http://ahogrammer.com/2017/01/20/the-list-of-pretrained-word-embeddings/) to kickstart your Embedding layer.\n",
        "  * Embedding layer has a matrix W (layer.W) which contains word embeddings for each word in the dictionary. You can just overwrite them with tf.assign.\n",
        "  * When using pre-trained embeddings, pay attention to the fact that model's dictionary is different from your own.\n",
        "  * You may want to switch trainable=False for embedding layer in first few epochs as in regular fine-tuning.  \n",
        "* __Go beyond SimpleRNN__: there's `keras.layers.LSTM` and `keras.layers.GRU`\n",
        "  * If you want to use a custom recurrent Cell, read [this](https://keras.io/layers/recurrent/#rnn)\n",
        "  * You can also use 1D Convolutions (`keras.layers.Conv1D`). They are often as good as recurrent layers but with less overfitting.\n",
        "* __Stack more layers__: if there is a common motif to this course it's about stacking layers\n",
        "  * You can just add recurrent and 1dconv layers on top of one another and keras will understand it\n",
        "  * Just remember that bigger networks may need more epochs to train\n",
        "* __Regularization__: you can apply dropouts as usual but also in an RNN-specific way\n",
        "  * `keras.layers.Dropout` works inbetween RNN layers\n",
        "  * Recurrent layers also have `recurrent_dropout` parameter\n",
        "* __Gradient clipping__: If your training isn't as stable as you'd like, set `clipnorm` in your optimizer.\n",
        "  * Which is to say, it's a good idea to watch over your loss curve at each minibatch. Try tensorboard callback or something similar.\n",
        "* __Word Dropout__: tl;dr randomly replace words with UNK during training. \n",
        "  * This can also simulate increased amount of unknown words in the test set\n",
        "* __Larger vocabulary__: You can obtain greater performance by expanding your model's input dictionary from 5000 to up to every single word!\n",
        "  * Just make sure your model doesn't overfit due to so many parameters.\n",
        "  * Combined with regularizers or pre-trained word-vectors this could be really good cuz right now our model is blind to >5% of words.  \n",
        "* __More efficient batching__: right now TF spends a lot of time iterating over \"0\"s\n",
        "  * This happens because batch is always padded to the length of a longest sentence\n",
        "  * You can speed things up by pre-generating batches of similar lengths and feeding it with randomly chosen pre-generated batch.\n",
        "  * This technically breaks the i.i.d. assumption, but it works unless you come up with some insane rnn architectures.\n",
        "* __The most important advice__: don't cram in everything at once!\n",
        "  * If you stuff in a lot of modiffications, some of them almost inevitably gonna be detrimental and you'll never know which of them are.\n",
        "  * Try to instead go in small iterations and record experiment results to guide further search.\n",
        "    \n",
        "Good hunting!"
      ]
    },
    {
      "cell_type": "code",
      "execution_count": null,
      "metadata": {
        "id": "TF1T00yr8RvM"
      },
      "outputs": [],
      "source": []
    }
  ],
  "metadata": {
    "accelerator": "GPU",
    "colab": {
      "provenance": []
    },
    "kernelspec": {
      "display_name": "GPUEnv",
      "language": "python",
      "name": "gpuenv"
    },
    "language_info": {
      "codemirror_mode": {
        "name": "ipython",
        "version": 3
      },
      "file_extension": ".py",
      "mimetype": "text/x-python",
      "name": "python",
      "nbconvert_exporter": "python",
      "pygments_lexer": "ipython3",
      "version": "3.10.11"
    }
  },
  "nbformat": 4,
  "nbformat_minor": 0
}
